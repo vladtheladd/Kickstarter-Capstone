{
 "cells": [
  {
   "cell_type": "markdown",
   "metadata": {},
   "source": [
    "![logo](1_bDwEvCRgrKVbLrAXEixpfA.png)\n",
    "___"
   ]
  },
  {
   "cell_type": "markdown",
   "metadata": {},
   "source": [
    "##### import libraries"
   ]
  },
  {
   "cell_type": "code",
   "execution_count": 1,
   "metadata": {},
   "outputs": [
    {
     "name": "stderr",
     "output_type": "stream",
     "text": [
      "[nltk_data] Downloading package stopwords to\n",
      "[nltk_data]     C:\\Users\\vlad_\\AppData\\Roaming\\nltk_data...\n",
      "[nltk_data]   Package stopwords is already up-to-date!\n"
     ]
    }
   ],
   "source": [
    "import pandas as pd\n",
    "import numpy as np\n",
    "\n",
    "import seaborn as sns\n",
    "import matplotlib.pyplot as plt\n",
    "from scipy import stats\n",
    "%matplotlib inline \n",
    "sns.set(color_codes=True)\n",
    "\n",
    "import functools as ft\n",
    "\n",
    "#natural language processing\n",
    "#pip install nltk\n",
    "import nltk\n",
    "nltk.download('stopwords')\n",
    "from nltk.corpus import stopwords\n",
    "from nltk.stem.porter import PorterStemmer\n",
    "from nltk.stem import WordNetLemmatizer\n",
    "\n",
    "import re"
   ]
  },
  {
   "cell_type": "markdown",
   "metadata": {},
   "source": [
    "# Step 3 - Analysis I: NLP with outlier removal\n",
    "    a) Importing data\n",
    "    \n",
    "    b) Success-percentage column\n",
    "        - check for outliers\n",
    "        \n",
    "    c) Checking for other outliers\n",
    "        - goals\n",
    "        - converted_pledged_cmount\n",
    "        - backers_count\n",
    "        \n",
    "    d) Natural Language Processing\n",
    "        - cleaning blurb variable\n",
    "            - punctuation\n",
    "            - stopwords\n",
    "            - lemmatization\n",
    "        - writing and saving corpus"
   ]
  },
  {
   "cell_type": "markdown",
   "metadata": {},
   "source": [
    "### a) Importing data\n",
    "##### Use 'cleaned_data.csv' to begin cleaning"
   ]
  },
  {
   "cell_type": "code",
   "execution_count": 2,
   "metadata": {},
   "outputs": [
    {
     "name": "stdout",
     "output_type": "stream",
     "text": [
      "(149563, 21)\n"
     ]
    },
    {
     "data": {
      "text/html": [
       "<div>\n",
       "<style scoped>\n",
       "    .dataframe tbody tr th:only-of-type {\n",
       "        vertical-align: middle;\n",
       "    }\n",
       "\n",
       "    .dataframe tbody tr th {\n",
       "        vertical-align: top;\n",
       "    }\n",
       "\n",
       "    .dataframe thead th {\n",
       "        text-align: right;\n",
       "    }\n",
       "</style>\n",
       "<table border=\"1\" class=\"dataframe\">\n",
       "  <thead>\n",
       "    <tr style=\"text-align: right;\">\n",
       "      <th></th>\n",
       "      <th>id</th>\n",
       "      <th>name</th>\n",
       "      <th>genre</th>\n",
       "      <th>subgenre</th>\n",
       "      <th>category</th>\n",
       "      <th>source_url</th>\n",
       "      <th>blurb</th>\n",
       "      <th>slug</th>\n",
       "      <th>goal</th>\n",
       "      <th>converted_pledged_amount</th>\n",
       "      <th>...</th>\n",
       "      <th>launched_at</th>\n",
       "      <th>deadline</th>\n",
       "      <th>country</th>\n",
       "      <th>currency</th>\n",
       "      <th>backers_count</th>\n",
       "      <th>disable_communication</th>\n",
       "      <th>is_starrable</th>\n",
       "      <th>spotlight</th>\n",
       "      <th>staff_pick</th>\n",
       "      <th>state</th>\n",
       "    </tr>\n",
       "  </thead>\n",
       "  <tbody>\n",
       "    <tr>\n",
       "      <td>0</td>\n",
       "      <td>498799566</td>\n",
       "      <td>Strange Wit, an original graphic novel about J...</td>\n",
       "      <td>Graphic Novels</td>\n",
       "      <td>comics</td>\n",
       "      <td>{\"id\":252,\"name\":\"Graphic Novels\",\"slug\":\"comi...</td>\n",
       "      <td>https://www.kickstarter.com/discover/categorie...</td>\n",
       "      <td>The true biography of the historical figure, w...</td>\n",
       "      <td>strange-wit-an-original-graphic-novel-about-ja...</td>\n",
       "      <td>12000</td>\n",
       "      <td>14740</td>\n",
       "      <td>...</td>\n",
       "      <td>2015-08-15 04:19:27</td>\n",
       "      <td>2015-09-14 04:19:27</td>\n",
       "      <td>US</td>\n",
       "      <td>USD</td>\n",
       "      <td>403</td>\n",
       "      <td>0</td>\n",
       "      <td>0</td>\n",
       "      <td>1</td>\n",
       "      <td>1</td>\n",
       "      <td>successful</td>\n",
       "    </tr>\n",
       "  </tbody>\n",
       "</table>\n",
       "<p>1 rows × 21 columns</p>\n",
       "</div>"
      ],
      "text/plain": [
       "          id                                               name  \\\n",
       "0  498799566  Strange Wit, an original graphic novel about J...   \n",
       "\n",
       "            genre subgenre                                           category  \\\n",
       "0  Graphic Novels   comics  {\"id\":252,\"name\":\"Graphic Novels\",\"slug\":\"comi...   \n",
       "\n",
       "                                          source_url  \\\n",
       "0  https://www.kickstarter.com/discover/categorie...   \n",
       "\n",
       "                                               blurb  \\\n",
       "0  The true biography of the historical figure, w...   \n",
       "\n",
       "                                                slug   goal  \\\n",
       "0  strange-wit-an-original-graphic-novel-about-ja...  12000   \n",
       "\n",
       "   converted_pledged_amount  ...          launched_at             deadline  \\\n",
       "0                     14740  ...  2015-08-15 04:19:27  2015-09-14 04:19:27   \n",
       "\n",
       "  country currency backers_count  disable_communication  is_starrable  \\\n",
       "0      US      USD           403                      0             0   \n",
       "\n",
       "   spotlight  staff_pick       state  \n",
       "0          1           1  successful  \n",
       "\n",
       "[1 rows x 21 columns]"
      ]
     },
     "execution_count": 2,
     "metadata": {},
     "output_type": "execute_result"
    }
   ],
   "source": [
    "#import .csv file\n",
    "cleaned_df = pd.read_csv(\"cleaned_data.csv\")\n",
    "\n",
    "cleaned_df.drop(['Unnamed: 0'], axis=1, inplace=True)\n",
    "\n",
    "print(cleaned_df.shape)\n",
    "cleaned_df.head(1)"
   ]
  },
  {
   "cell_type": "markdown",
   "metadata": {},
   "source": [
    "##### Counts for 'state' column"
   ]
  },
  {
   "cell_type": "code",
   "execution_count": 3,
   "metadata": {},
   "outputs": [
    {
     "name": "stdout",
     "output_type": "stream",
     "text": [
      "successful    93849\n",
      "failed        55714\n",
      "Name: state, dtype: int64\n",
      "\n",
      "\n",
      "In our data, we have a good proportion of failed:successful campaigns \n",
      " so the steps below will explore these numbers in more detail in an attempt to filter our data.\n"
     ]
    }
   ],
   "source": [
    "print(cleaned_df['state'].value_counts())\n",
    "print('\\n')\n",
    "print('In our data, we have a good proportion of failed:successful campaigns \\n so the steps below will explore these numbers in more detail in an attempt to filter our data.')"
   ]
  },
  {
   "cell_type": "markdown",
   "metadata": {},
   "source": [
    "### b) Success-Percentage Column\n",
    "Make a new column for success % (goal amount / pledged amount)"
   ]
  },
  {
   "cell_type": "code",
   "execution_count": 4,
   "metadata": {},
   "outputs": [],
   "source": [
    "#create column\n",
    "cleaned_df['success_percentage']=(cleaned_df['converted_pledged_amount'] / cleaned_df['goal']) * 100"
   ]
  },
  {
   "cell_type": "code",
   "execution_count": 6,
   "metadata": {},
   "outputs": [
    {
     "name": "stdout",
     "output_type": "stream",
     "text": [
      "null: 0\n",
      "na: 0\n",
      "\n",
      "\n",
      "inf: False    149562\n",
      "True          1\n",
      "Name: success_percentage, dtype: int64\n"
     ]
    }
   ],
   "source": [
    "#finding the missing and infinite values\n",
    "print('null:', cleaned_df['success_percentage'].isnull().sum())\n",
    "print('na:', cleaned_df['success_percentage'].isna().sum())\n",
    "print('\\n')\n",
    "print('inf:', np.isinf(cleaned_df[\"success_percentage\"]).value_counts())"
   ]
  },
  {
   "cell_type": "code",
   "execution_count": 7,
   "metadata": {},
   "outputs": [
    {
     "name": "stdout",
     "output_type": "stream",
     "text": [
      "Int64Index([118304], dtype='int64')\n",
      "\n",
      "\n",
      "Row 118304 \"success_percentage\" value: inf\n"
     ]
    }
   ],
   "source": [
    "#locate the row in which the inf value is present (last column == 'inf')\n",
    "print(cleaned_df.index[np.isinf(cleaned_df['success_percentage'])])\n",
    "print('\\n')\n",
    "print('Row 118304 \"success_percentage\" value:', cleaned_df['success_percentage'].iloc[118304])"
   ]
  },
  {
   "cell_type": "code",
   "execution_count": 296,
   "metadata": {},
   "outputs": [
    {
     "name": "stdout",
     "output_type": "stream",
     "text": [
      "dataframe shape:  (149562, 22)\n"
     ]
    }
   ],
   "source": [
    "#drop the row with inf value\n",
    "cleaned_df.drop(cleaned_df.index[118304], inplace=True)\n",
    "\n",
    "#reset index\n",
    "cleaned_df.reset_index(drop=True,inplace=True)\n",
    "\n",
    "## total number of rows and columns\n",
    "print('dataframe shape: ', cleaned_df.shape)"
   ]
  },
  {
   "cell_type": "code",
   "execution_count": 297,
   "metadata": {
    "scrolled": true
   },
   "outputs": [
    {
     "data": {
      "text/plain": [
       "<matplotlib.axes._subplots.AxesSubplot at 0x2a73c833308>"
      ]
     },
     "execution_count": 297,
     "metadata": {},
     "output_type": "execute_result"
    },
    {
     "data": {
      "image/png": "[encoded data removed]",
      "text/plain": [
       "<Figure size 432x288 with 1 Axes>"
      ]
     },
     "metadata": {},
     "output_type": "display_data"
    }
   ],
   "source": [
    "#make a boxplot of 'success_percentage' column\n",
    "sns.boxplot(x=cleaned_df['success_percentage'])"
   ]
  },
  {
   "cell_type": "code",
   "execution_count": 298,
   "metadata": {},
   "outputs": [
    {
     "name": "stdout",
     "output_type": "stream",
     "text": [
      "(0.0, 1.0]               17368\n",
      "(1.0, 5.0]                9581\n",
      "(5.0, 10.0]               4893\n",
      "(10.0, 25.0]              6966\n",
      "(25.0, 50.0]              4360\n",
      "(50.0, 75.0]              1456\n",
      "(75.0, 100.0]             5570\n",
      "(100.0, 125.0]           48737\n",
      "(125.0, 150.0]           11371\n",
      "(150.0, 200.0]            9165\n",
      "(200.0, 300.0]            7086\n",
      "(300.0, 500.0]            5039\n",
      "(500.0, 1000.0]           3609\n",
      "(1000.0, 2500.0]          2282\n",
      "(2500.0, 5000.0]           635\n",
      "(5000.0, 7500.0]           214\n",
      "(7500.0, 10000.0]           79\n",
      "(10000.0, 100000.0]        196\n",
      "(100000.0, 1000000.0]       81\n",
      "(1000000.0, inf]             8\n",
      "Name: success_percentage, dtype: int64\n"
     ]
    }
   ],
   "source": [
    "#check range of 'success_percentage' column\n",
    "\n",
    "bins = [0, 1, 5, 10, 25, 50, 75, 100, 125, 150, 200, 300, 500, 1000, 2500, 5000, 7500, 10000, 100000, 1000000, np.inf]\n",
    "success_bins = pd.cut(cleaned_df['success_percentage'], bins=bins).value_counts().sort_index()\n",
    "print (success_bins)"
   ]
  },
  {
   "cell_type": "code",
   "execution_count": 299,
   "metadata": {},
   "outputs": [
    {
     "name": "stdout",
     "output_type": "stream",
     "text": [
      "failed        54811\n",
      "successful        3\n",
      "Name: state, dtype: int64\n",
      "\n",
      "\n",
      "On the other hand, these campaigns were started with very high goals in mind and this is why they have such a \n",
      "low success percentage.\n",
      "\n",
      "\n",
      "5000     4761\n",
      "10000    4206\n",
      "1000     2349\n",
      "15000    2218\n",
      "20000    2082\n",
      "         ... \n",
      "5521        1\n",
      "15764       1\n",
      "1523        1\n",
      "1555        1\n",
      "64          1\n",
      "Name: goal, Length: 2415, dtype: int64\n"
     ]
    }
   ],
   "source": [
    "#check left-outliers\n",
    "print(cleaned_df[cleaned_df['success_percentage'].between(0, 60)]['state'].value_counts())\n",
    "print('\\n')\n",
    "print('On the other hand, these campaigns were started with very high goals in mind and this is why they have such a \\nlow success percentage.')\n",
    "print('\\n')\n",
    "print(cleaned_df[cleaned_df['success_percentage'].between(0, 60)]['goal'].value_counts())"
   ]
  },
  {
   "cell_type": "code",
   "execution_count": 300,
   "metadata": {},
   "outputs": [
    {
     "name": "stdout",
     "output_type": "stream",
     "text": [
      "successful    68635\n",
      "failed            1\n",
      "Name: state, dtype: int64\n",
      "\n",
      "\n",
      "It is clear that most of these campaigns were started with very low goals in mind and this is why they have such a \n",
      "high success percentage.\n",
      "\n",
      "\n",
      "5000     4761\n",
      "10000    4124\n",
      "1000     3764\n",
      "500      3346\n",
      "2000     3029\n",
      "         ... \n",
      "39500       1\n",
      "2654        1\n",
      "23667       1\n",
      "10970       1\n",
      "64          1\n",
      "Name: goal, Length: 1986, dtype: int64\n"
     ]
    }
   ],
   "source": [
    "#check outliers on the right extreme\n",
    "print(cleaned_df[cleaned_df['success_percentage'].between(105, np.inf)]['state'].value_counts())\n",
    "print('\\n')\n",
    "print('It is clear that most of these campaigns were started with very low goals in mind and this is why they have such a \\nhigh success percentage.')\n",
    "print('\\n')\n",
    "print(cleaned_df[cleaned_df['success_percentage'].between(105, np.inf)]['goal'].value_counts())"
   ]
  },
  {
   "cell_type": "code",
   "execution_count": 301,
   "metadata": {},
   "outputs": [
    {
     "name": "stdout",
     "output_type": "stream",
     "text": [
      "successful    6114\n",
      "failed        4066\n",
      "Name: state, dtype: int64\n",
      "\n",
      "\n",
      "comment here\n"
     ]
    }
   ],
   "source": [
    "#check range of data between 33% and 100% success_percentage \n",
    "print(cleaned_df[cleaned_df['success_percentage'].between(32.9, 100.1)]['state'].value_counts())\n",
    "print('\\n')\n",
    "print('comment here')"
   ]
  },
  {
   "cell_type": "code",
   "execution_count": 302,
   "metadata": {},
   "outputs": [
    {
     "data": {
      "text/plain": [
       "(97910, 22)"
      ]
     },
     "execution_count": 302,
     "metadata": {},
     "output_type": "execute_result"
    }
   ],
   "source": [
    "#remove left outliers\n",
    "cleaned_df.drop(cleaned_df.loc[cleaned_df['success_percentage'].between(0, 32.9)].index, inplace=True)\n",
    "cleaned_df.shape"
   ]
  },
  {
   "cell_type": "code",
   "execution_count": 303,
   "metadata": {},
   "outputs": [
    {
     "data": {
      "text/plain": [
       "(10062, 22)"
      ]
     },
     "execution_count": 303,
     "metadata": {},
     "output_type": "execute_result"
    }
   ],
   "source": [
    "#remove right outliers\n",
    "cleaned_df.drop(cleaned_df.loc[cleaned_df['success_percentage'].between(100.1, np.inf)].index, inplace=True)\n",
    "cleaned_df.shape"
   ]
  },
  {
   "cell_type": "code",
   "execution_count": 304,
   "metadata": {},
   "outputs": [
    {
     "data": {
      "text/plain": [
       "array([[<matplotlib.axes._subplots.AxesSubplot object at 0x000002A730B31608>]],\n",
       "      dtype=object)"
      ]
     },
     "execution_count": 304,
     "metadata": {},
     "output_type": "execute_result"
    },
    {
     "data": {
      "image/png": "[encoded data removed]",
      "text/plain": [
       "<Figure size 432x288 with 1 Axes>"
      ]
     },
     "metadata": {},
     "output_type": "display_data"
    }
   ],
   "source": [
    "cleaned_df.hist(column='success_percentage')"
   ]
  },
  {
   "cell_type": "code",
   "execution_count": 305,
   "metadata": {},
   "outputs": [
    {
     "data": {
      "image/png": "[encoded data removed]",
      "text/plain": [
       "<Figure size 432x288 with 1 Axes>"
      ]
     },
     "metadata": {},
     "output_type": "display_data"
    }
   ],
   "source": [
    "y = cleaned_df['state']\n",
    "x = cleaned_df['success_percentage']\n",
    "\n",
    "plt.scatter(x, y)\n",
    "plt.show()"
   ]
  },
  {
   "cell_type": "code",
   "execution_count": 306,
   "metadata": {},
   "outputs": [
    {
     "name": "stdout",
     "output_type": "stream",
     "text": [
      "Our boxplot is starting to look more like a box now.\n"
     ]
    },
    {
     "data": {
      "image/png": "[encoded data removed]",
      "text/plain": [
       "<Figure size 432x288 with 1 Axes>"
      ]
     },
     "metadata": {},
     "output_type": "display_data"
    }
   ],
   "source": [
    "sns.boxplot(x=cleaned_df['success_percentage'])\n",
    "print('Our boxplot is starting to look more like a box now.')"
   ]
  },
  {
   "cell_type": "code",
   "execution_count": 307,
   "metadata": {},
   "outputs": [
    {
     "name": "stdout",
     "output_type": "stream",
     "text": [
      "successful    5998\n",
      "failed        4064\n",
      "Name: state, dtype: int64\n"
     ]
    }
   ],
   "source": [
    "print(cleaned_df['state'].value_counts())"
   ]
  },
  {
   "cell_type": "markdown",
   "metadata": {},
   "source": [
    "### c) Checking for other outliers"
   ]
  },
  {
   "cell_type": "code",
   "execution_count": 310,
   "metadata": {},
   "outputs": [
    {
     "data": {
      "text/plain": [
       "<matplotlib.axes._subplots.AxesSubplot at 0x2a730ce5c48>"
      ]
     },
     "execution_count": 310,
     "metadata": {},
     "output_type": "execute_result"
    },
    {
     "data": {
      "image/png": "[encoded data removed]",
      "text/plain": [
       "<Figure size 432x288 with 1 Axes>"
      ]
     },
     "metadata": {},
     "output_type": "display_data"
    }
   ],
   "source": [
    "sns.boxplot(x=cleaned_df['converted_pledged_amount'])"
   ]
  },
  {
   "cell_type": "code",
   "execution_count": 311,
   "metadata": {
    "scrolled": true
   },
   "outputs": [
    {
     "name": "stdout",
     "output_type": "stream",
     "text": [
      "(0.0, 1.0]                    34\n",
      "(1.0, 5.0]                    11\n",
      "(5.0, 10.0]                   25\n",
      "(10.0, 50.0]                 143\n",
      "(50.0, 100.0]                198\n",
      "(100.0, 2500.0]             4744\n",
      "(2500.0, 5000.0]            1939\n",
      "(5000.0, 10000.0]           1492\n",
      "(10000.0, 25000.0]          1066\n",
      "(25000.0, 35000.0]           173\n",
      "(35000.0, 50000.0]           110\n",
      "(50000.0, 75000.0]            71\n",
      "(75000.0, 100000.0]           24\n",
      "(100000.0, 125000.0]          20\n",
      "(125000.0, 500000.0]          11\n",
      "(500000.0, 1000000.0]          1\n",
      "(1000000.0, 10000000.0]        0\n",
      "(10000000.0, 15000000.0]       0\n",
      "(15000000.0, inf]              0\n",
      "Name: converted_pledged_amount, dtype: int64\n"
     ]
    }
   ],
   "source": [
    "#check range of 'converted_pledged_amount' column\n",
    "bins = [0, 1, 5, 10, 50, 100, 2500, 5000, 10000, 25000, 35000, 50000, 75000, 100000, 125000, 500000, 1000000, 10000000, 15000000, np.inf]\n",
    "pledged_bins = pd.cut(cleaned_df['converted_pledged_amount'], bins=bins).value_counts().sort_index()\n",
    "print (pledged_bins)"
   ]
  },
  {
   "cell_type": "code",
   "execution_count": 312,
   "metadata": {},
   "outputs": [
    {
     "name": "stdout",
     "output_type": "stream",
     "text": [
      "successful    40\n",
      "failed        10\n",
      "Name: state, dtype: int64\n",
      "\n",
      "\n",
      "What we find is that most of these left-outliers are somewhat distributed between success/fail.\n"
     ]
    }
   ],
   "source": [
    "#check what the 'converted pledged amount' values below 10 reveal\n",
    "print(cleaned_df[cleaned_df['converted_pledged_amount']<10]['state'].value_counts())\n",
    "print('\\n')\n",
    "print('What we find is that most of these left-outliers are somewhat distributed between success/fail.')"
   ]
  },
  {
   "cell_type": "code",
   "execution_count": 313,
   "metadata": {},
   "outputs": [
    {
     "name": "stdout",
     "output_type": "stream",
     "text": [
      "failed        68\n",
      "successful    59\n",
      "Name: state, dtype: int64\n",
      "\n",
      "\n",
      "What also find that most of these right-outliers are evenly distributed between success/fail.\n"
     ]
    }
   ],
   "source": [
    "#check what the 'converted pledged amount' values anove 50,000 reveal\n",
    "print(cleaned_df[cleaned_df['converted_pledged_amount']>50000]['state'].value_counts())\n",
    "print('\\n')\n",
    "print('What also find that most of these right-outliers are evenly distributed between success/fail.')"
   ]
  },
  {
   "cell_type": "code",
   "execution_count": 314,
   "metadata": {},
   "outputs": [
    {
     "data": {
      "text/plain": [
       "<matplotlib.axes._subplots.AxesSubplot at 0x2a730d5b588>"
      ]
     },
     "execution_count": 314,
     "metadata": {},
     "output_type": "execute_result"
    },
    {
     "data": {
      "image/png": "[encoded data removed]",
      "text/plain": [
       "<Figure size 432x288 with 1 Axes>"
      ]
     },
     "metadata": {},
     "output_type": "display_data"
    }
   ],
   "source": [
    "sns.boxplot(x=cleaned_df['backers_count'])"
   ]
  },
  {
   "cell_type": "code",
   "execution_count": 315,
   "metadata": {},
   "outputs": [
    {
     "name": "stdout",
     "output_type": "stream",
     "text": [
      "(0.0, 1.0]              168\n",
      "(1.0, 10.0]            1747\n",
      "(10.0, 25.0]           2568\n",
      "(25.0, 50.0]           2199\n",
      "(50.0, 75.0]           1160\n",
      "(75.0, 100.0]           689\n",
      "(100.0, 250.0]         1152\n",
      "(250.0, 300.0]          100\n",
      "(300.0, 500.0]          167\n",
      "(500.0, 1000.0]          92\n",
      "(1000.0, 3000.0]         18\n",
      "(3000.0, 5000.0]          2\n",
      "(5000.0, 10000.0]         0\n",
      "(10000.0, 50000.0]        0\n",
      "(50000.0, 110000.0]       0\n",
      "(110000.0, inf]           0\n",
      "Name: backers_count, dtype: int64\n"
     ]
    }
   ],
   "source": [
    "#check range of 'backers_count' column\n",
    "bins = [0, 1, 10, 25, 50, 75, 100, 250, 300, 500, 1000, 3000, 5000, 10000, 50000, 110000, np.inf]\n",
    "backers_bins = pd.cut(cleaned_df['backers_count'], bins=bins).value_counts().sort_index()\n",
    "print (backers_bins)"
   ]
  },
  {
   "cell_type": "code",
   "execution_count": 316,
   "metadata": {},
   "outputs": [
    {
     "name": "stdout",
     "output_type": "stream",
     "text": [
      "successful    223\n",
      "failed        156\n",
      "Name: state, dtype: int64\n",
      "\n",
      "\n",
      "Since this row shows the number of backers for each campaign, it makes sense that the higher the number \n",
      "the more successful the campaign is. These outliers are somewhat distributed. \n",
      "***Therefore no outlier removal for this variable.\n"
     ]
    }
   ],
   "source": [
    "#check what the 'backers_count' values above 250 reveal\n",
    "print(cleaned_df[cleaned_df['backers_count']>250]['state'].value_counts())\n",
    "print('\\n')\n",
    "print('Since this row shows the number of backers for each campaign, it makes sense that the higher the number \\nthe more successful the campaign is. These outliers are somewhat distributed. \\n***Therefore no outlier removal for this variable.')"
   ]
  },
  {
   "cell_type": "code",
   "execution_count": 317,
   "metadata": {},
   "outputs": [
    {
     "data": {
      "text/plain": [
       "<matplotlib.axes._subplots.AxesSubplot at 0x2a730dbba88>"
      ]
     },
     "execution_count": 317,
     "metadata": {},
     "output_type": "execute_result"
    },
    {
     "data": {
      "image/png": "[encoded data removed]",
      "text/plain": [
       "<Figure size 432x288 with 1 Axes>"
      ]
     },
     "metadata": {},
     "output_type": "display_data"
    }
   ],
   "source": [
    "sns.boxplot(x=cleaned_df['goal'])"
   ]
  },
  {
   "cell_type": "code",
   "execution_count": 318,
   "metadata": {},
   "outputs": [
    {
     "name": "stdout",
     "output_type": "stream",
     "text": [
      "(0.0, 1.5]                     34\n",
      "(1.5, 2.0]                      1\n",
      "(2.0, 5.0]                      5\n",
      "(5.0, 10.0]                    17\n",
      "(10.0, 50.0]                  118\n",
      "(50.0, 100.0]                 157\n",
      "(100.0, 2500.0]              4085\n",
      "(2500.0, 5000.0]             2063\n",
      "(5000.0, 10000.0]            1657\n",
      "(10000.0, 15000.0]            636\n",
      "(15000.0, 20000.0]            345\n",
      "(20000.0, 25000.0]            243\n",
      "(25000.0, 35000.0]            270\n",
      "(35000.0, 50000.0]            215\n",
      "(50000.0, 75000.0]             99\n",
      "(75000.0, 85000.0]             11\n",
      "(85000.0, 100000.0]            52\n",
      "(100000.0, 500000.0]           52\n",
      "(500000.0, 1000000.0]           2\n",
      "(1000000.0, 10000000.0]         0\n",
      "(10000000.0, 100000000.0]       0\n",
      "(100000000.0, inf]              0\n",
      "Name: goal, dtype: int64\n"
     ]
    }
   ],
   "source": [
    "#check range of 'goal' column\n",
    "bins = [0, 1.5, 2, 5, 10, 50, 100, 2500, 5000, 10000, 15000, 20000, 25000, 35000, 50000, 75000, 85000, 100000, 500000, 1000000, 10000000, 100000000, np.inf]\n",
    "goal_bins = pd.cut(cleaned_df['goal'], bins=bins).value_counts().sort_index()\n",
    "print (goal_bins)"
   ]
  },
  {
   "cell_type": "code",
   "execution_count": 319,
   "metadata": {},
   "outputs": [
    {
     "name": "stdout",
     "output_type": "stream",
     "text": [
      "failed        1102\n",
      "successful     823\n",
      "Name: state, dtype: int64\n",
      "\n",
      "\n",
      "Clearly these are outliers and by looking at the rows and their [state] we cannot justify their removal from our data \n",
      "most of these campaigns are evenly distributed between successful/failed and must be kept to maintain our model accuracy.\n"
     ]
    }
   ],
   "source": [
    "#check what the 'goal' values above 10,000 reveal- are the campaigns mostly failures?\n",
    "print(cleaned_df[cleaned_df['goal']>10000]['state'].value_counts())\n",
    "print('\\n')\n",
    "print('Clearly these are outliers and by looking at the rows and their [state] we cannot justify their removal from our data \\nmost of these campaigns are evenly distributed between successful/failed and must be kept to maintain our model accuracy.')\n"
   ]
  },
  {
   "cell_type": "code",
   "execution_count": 320,
   "metadata": {},
   "outputs": [
    {
     "data": {
      "text/plain": [
       "<matplotlib.axes._subplots.AxesSubplot at 0x2a73117bb08>"
      ]
     },
     "execution_count": 320,
     "metadata": {},
     "output_type": "execute_result"
    },
    {
     "data": {
      "image/png": "[encoded data removed]",
      "text/plain": [
       "<Figure size 432x288 with 1 Axes>"
      ]
     },
     "metadata": {},
     "output_type": "display_data"
    }
   ],
   "source": [
    "sns.boxplot(x=cleaned_df['goal'])"
   ]
  },
  {
   "cell_type": "code",
   "execution_count": 321,
   "metadata": {},
   "outputs": [],
   "source": [
    "#reset index\n",
    "cleaned_df.reset_index(drop=True,inplace=True)"
   ]
  },
  {
   "cell_type": "markdown",
   "metadata": {},
   "source": [
    "### f) Natural Language Processing"
   ]
  },
  {
   "cell_type": "markdown",
   "metadata": {},
   "source": [
    "##### Clean the first row to check"
   ]
  },
  {
   "cell_type": "code",
   "execution_count": 322,
   "metadata": {},
   "outputs": [
    {
     "data": {
      "text/plain": [
       "'The Treehouse at Cornell takes architecture to new heights with a teaching space in the trees for Cornell Outdoor Education'"
      ]
     },
     "execution_count": 322,
     "metadata": {},
     "output_type": "execute_result"
    }
   ],
   "source": [
    "#create 'text' variable of every blurb description\n",
    "text = pd.DataFrame(cleaned_df['blurb'])\n",
    "\n",
    "#lets clean the first blurb as a first step\n",
    "text['blurb'][0]"
   ]
  },
  {
   "cell_type": "code",
   "execution_count": 323,
   "metadata": {},
   "outputs": [
    {
     "data": {
      "text/plain": [
       "'treehouse cornell take architecture new height teaching space tree cornell outdoor education'"
      ]
     },
     "execution_count": 323,
     "metadata": {},
     "output_type": "execute_result"
    }
   ],
   "source": [
    "#only keep letters and replace other symbols with a white space in the first blurb\n",
    "blurb = re.sub('[^a-zA-Z]', ' ', text['blurb'][0])\n",
    "\n",
    "#change letters to lower-case\n",
    "blurb = blurb.lower()   \n",
    "\n",
    "#split the first blurb which is a string into list\n",
    "blurb = blurb.split()\n",
    "\n",
    "#for loop to remove stop-words and to do lemmatization\n",
    "wn = WordNetLemmatizer()\n",
    "blurb = [wn.lemmatize(word) for word in blurb if not word in set(stopwords.words('english'))]\n",
    "\n",
    "#join blurb back into a string from a list\n",
    "blurb = ' '.join(blurb)\n",
    "\n",
    "blurb"
   ]
  },
  {
   "cell_type": "markdown",
   "metadata": {},
   "source": [
    "### Clean the entire 'blurb' column"
   ]
  },
  {
   "cell_type": "code",
   "execution_count": 324,
   "metadata": {},
   "outputs": [],
   "source": [
    "length = len(pd.DataFrame(cleaned_df['blurb']))"
   ]
  },
  {
   "cell_type": "code",
   "execution_count": 325,
   "metadata": {},
   "outputs": [],
   "source": [
    "corpus = []\n",
    "for i in range(0, length):\n",
    "    #only keep letters and replace other symbols with a white space in the first blurb\n",
    "    blurb = re.sub('[^a-zA-Z]', ' ', text['blurb'][i])\n",
    "\n",
    "    #change letters to lower-case\n",
    "    blurb = blurb.lower()   \n",
    "    #split\n",
    "    blurb = blurb.split()\n",
    "    #for loop to remove stop-words and to do stemming\n",
    "    wn = WordNetLemmatizer()\n",
    "    blurb = [wn.lemmatize(word) for word in blurb if not word in set(stopwords.words('english'))]\n",
    "    #join blurb back into a string from a list\n",
    "    blurb = ' '.join(blurb)\n",
    "    corpus.append(blurb)"
   ]
  },
  {
   "cell_type": "code",
   "execution_count": 326,
   "metadata": {},
   "outputs": [
    {
     "data": {
      "text/html": [
       "<div>\n",
       "<style scoped>\n",
       "    .dataframe tbody tr th:only-of-type {\n",
       "        vertical-align: middle;\n",
       "    }\n",
       "\n",
       "    .dataframe tbody tr th {\n",
       "        vertical-align: top;\n",
       "    }\n",
       "\n",
       "    .dataframe thead th {\n",
       "        text-align: right;\n",
       "    }\n",
       "</style>\n",
       "<table border=\"1\" class=\"dataframe\">\n",
       "  <thead>\n",
       "    <tr style=\"text-align: right;\">\n",
       "      <th></th>\n",
       "      <th>blurb</th>\n",
       "    </tr>\n",
       "  </thead>\n",
       "  <tbody>\n",
       "    <tr>\n",
       "      <td>0</td>\n",
       "      <td>treehouse cornell take architecture new height...</td>\n",
       "    </tr>\n",
       "    <tr>\n",
       "      <td>1</td>\n",
       "      <td>track collection new original musical piece jo...</td>\n",
       "    </tr>\n",
       "    <tr>\n",
       "      <td>2</td>\n",
       "      <td>juxtaposing delicious food good friend unsettl...</td>\n",
       "    </tr>\n",
       "    <tr>\n",
       "      <td>3</td>\n",
       "      <td>melody mus tell story melody struggle encounte...</td>\n",
       "    </tr>\n",
       "    <tr>\n",
       "      <td>4</td>\n",
       "      <td>mission help build passion science teaching ne...</td>\n",
       "    </tr>\n",
       "  </tbody>\n",
       "</table>\n",
       "</div>"
      ],
      "text/plain": [
       "                                               blurb\n",
       "0  treehouse cornell take architecture new height...\n",
       "1  track collection new original musical piece jo...\n",
       "2  juxtaposing delicious food good friend unsettl...\n",
       "3  melody mus tell story melody struggle encounte...\n",
       "4  mission help build passion science teaching ne..."
      ]
     },
     "execution_count": 326,
     "metadata": {},
     "output_type": "execute_result"
    }
   ],
   "source": [
    "#write corpus array into a dataframe and save it to a csv for importing into the Step 4 (Classification)\n",
    "corpus_df = pd.DataFrame(corpus, columns = ['blurb'])\n",
    "corpus_df.head()"
   ]
  },
  {
   "cell_type": "markdown",
   "metadata": {},
   "source": [
    "### End of Step 3"
   ]
  },
  {
   "cell_type": "code",
   "execution_count": 327,
   "metadata": {},
   "outputs": [],
   "source": [
    "#write corpus_df to a .csv\n",
    "corpus_df.to_csv('corpus_data.csv')"
   ]
  },
  {
   "cell_type": "code",
   "execution_count": 328,
   "metadata": {},
   "outputs": [],
   "source": [
    "#write cleaned cleaned_df to a .csv\n",
    "cleaned_df.to_csv('cleaned2_data.csv')"
   ]
  },
  {
   "cell_type": "code",
   "execution_count": null,
   "metadata": {},
   "outputs": [],
   "source": []
  }
 ],
 "metadata": {
  "kernelspec": {
   "display_name": "Python 3",
   "language": "python",
   "name": "python3"
  },
  "language_info": {
   "codemirror_mode": {
    "name": "ipython",
    "version": 3
   },
   "file_extension": ".py",
   "mimetype": "text/x-python",
   "name": "python",
   "nbconvert_exporter": "python",
   "pygments_lexer": "ipython3",
   "version": "3.7.4"
  }
 },
 "nbformat": 4,
 "nbformat_minor": 2
}
