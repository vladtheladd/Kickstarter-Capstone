{
 "cells": [
  {
   "cell_type": "markdown",
   "metadata": {},
   "source": [
    "![logo](1_bDwEvCRgrKVbLrAXEixpfA.png)\n",
    "___"
   ]
  },
  {
   "cell_type": "markdown",
   "metadata": {},
   "source": [
    "##### import libraries"
   ]
  },
  {
   "cell_type": "code",
   "execution_count": 477,
   "metadata": {},
   "outputs": [
    {
     "name": "stderr",
     "output_type": "stream",
     "text": [
      "[nltk_data] Downloading package stopwords to\n",
      "[nltk_data]     C:\\Users\\vlad_\\AppData\\Roaming\\nltk_data...\n",
      "[nltk_data]   Package stopwords is already up-to-date!\n"
     ]
    }
   ],
   "source": [
    "import pandas as pd\n",
    "import numpy as np\n",
    "\n",
    "import seaborn as sns\n",
    "import matplotlib.pyplot as plt\n",
    "from scipy import stats\n",
    "%matplotlib inline \n",
    "sns.set(color_codes=True)\n",
    "\n",
    "import functools as ft\n",
    "\n",
    "#natural language processing\n",
    "#pip install nltk\n",
    "import nltk\n",
    "nltk.download('stopwords')\n",
    "from nltk.corpus import stopwords\n",
    "from nltk.stem.porter import PorterStemmer\n",
    "from nltk.stem import WordNetLemmatizer"
   ]
  },
  {
   "cell_type": "markdown",
   "metadata": {},
   "source": [
    "# Step 3 - Analysis\n",
    "    a) Importing data\n",
    "    b) Duplicate data\n",
    "    c) Null Data\n",
    "    d) Success-Percentage Column\n",
    "        - check for outliers\n",
    "    e) Checking for other outliers\n",
    "        - goals\n",
    "        - converted_pledged_cmount\n",
    "        - backers_count\n",
    "    f) Natural Language Processing\n",
    "        - cleaning blurb variable\n",
    "            - punctuation\n",
    "            - stopwords\n",
    "            - lemmatization\n",
    "        - writing and saving corpus"
   ]
  },
  {
   "cell_type": "markdown",
   "metadata": {},
   "source": [
    "### a) Importing\n",
    "##### Use 'cleaned_data.csv' to begin cleaning"
   ]
  },
  {
   "cell_type": "code",
   "execution_count": 391,
   "metadata": {},
   "outputs": [
    {
     "name": "stdout",
     "output_type": "stream",
     "text": [
      "(149564, 21)\n"
     ]
    },
    {
     "data": {
      "text/html": [
       "<div>\n",
       "<style scoped>\n",
       "    .dataframe tbody tr th:only-of-type {\n",
       "        vertical-align: middle;\n",
       "    }\n",
       "\n",
       "    .dataframe tbody tr th {\n",
       "        vertical-align: top;\n",
       "    }\n",
       "\n",
       "    .dataframe thead th {\n",
       "        text-align: right;\n",
       "    }\n",
       "</style>\n",
       "<table border=\"1\" class=\"dataframe\">\n",
       "  <thead>\n",
       "    <tr style=\"text-align: right;\">\n",
       "      <th></th>\n",
       "      <th>id</th>\n",
       "      <th>name</th>\n",
       "      <th>genre</th>\n",
       "      <th>subgenre</th>\n",
       "      <th>category</th>\n",
       "      <th>source_url</th>\n",
       "      <th>blurb</th>\n",
       "      <th>slug</th>\n",
       "      <th>goal</th>\n",
       "      <th>converted_pledged_amount</th>\n",
       "      <th>...</th>\n",
       "      <th>launched_at</th>\n",
       "      <th>deadline</th>\n",
       "      <th>country</th>\n",
       "      <th>currency</th>\n",
       "      <th>backers_count</th>\n",
       "      <th>disable_communication</th>\n",
       "      <th>is_starrable</th>\n",
       "      <th>spotlight</th>\n",
       "      <th>staff_pick</th>\n",
       "      <th>state</th>\n",
       "    </tr>\n",
       "  </thead>\n",
       "  <tbody>\n",
       "    <tr>\n",
       "      <td>0</td>\n",
       "      <td>498799566</td>\n",
       "      <td>Strange Wit, an original graphic novel about J...</td>\n",
       "      <td>Graphic Novels</td>\n",
       "      <td>comics</td>\n",
       "      <td>{\"id\":252,\"name\":\"Graphic Novels\",\"slug\":\"comi...</td>\n",
       "      <td>https://www.kickstarter.com/discover/categorie...</td>\n",
       "      <td>The true biography of the historical figure, w...</td>\n",
       "      <td>strange-wit-an-original-graphic-novel-about-ja...</td>\n",
       "      <td>12000</td>\n",
       "      <td>14740</td>\n",
       "      <td>...</td>\n",
       "      <td>2015-08-15 04:19:27</td>\n",
       "      <td>2015-09-14 04:19:27</td>\n",
       "      <td>US</td>\n",
       "      <td>USD</td>\n",
       "      <td>403</td>\n",
       "      <td>0</td>\n",
       "      <td>0</td>\n",
       "      <td>1</td>\n",
       "      <td>1</td>\n",
       "      <td>successful</td>\n",
       "    </tr>\n",
       "  </tbody>\n",
       "</table>\n",
       "<p>1 rows × 21 columns</p>\n",
       "</div>"
      ],
      "text/plain": [
       "          id                                               name  \\\n",
       "0  498799566  Strange Wit, an original graphic novel about J...   \n",
       "\n",
       "            genre subgenre                                           category  \\\n",
       "0  Graphic Novels   comics  {\"id\":252,\"name\":\"Graphic Novels\",\"slug\":\"comi...   \n",
       "\n",
       "                                          source_url  \\\n",
       "0  https://www.kickstarter.com/discover/categorie...   \n",
       "\n",
       "                                               blurb  \\\n",
       "0  The true biography of the historical figure, w...   \n",
       "\n",
       "                                                slug   goal  \\\n",
       "0  strange-wit-an-original-graphic-novel-about-ja...  12000   \n",
       "\n",
       "   converted_pledged_amount  ...          launched_at             deadline  \\\n",
       "0                     14740  ...  2015-08-15 04:19:27  2015-09-14 04:19:27   \n",
       "\n",
       "  country currency backers_count  disable_communication  is_starrable  \\\n",
       "0      US      USD           403                      0             0   \n",
       "\n",
       "   spotlight  staff_pick       state  \n",
       "0          1           1  successful  \n",
       "\n",
       "[1 rows x 21 columns]"
      ]
     },
     "execution_count": 391,
     "metadata": {},
     "output_type": "execute_result"
    }
   ],
   "source": [
    "#import .csv file\n",
    "cleaned_df = pd.read_csv(\"cleaned_data.csv\")\n",
    "\n",
    "cleaned_df.drop(['Unnamed: 0'], axis=1, inplace=True)\n",
    "\n",
    "print(cleaned_df.shape)\n",
    "cleaned_df.head(1)"
   ]
  },
  {
   "cell_type": "markdown",
   "metadata": {},
   "source": [
    "### b) Checking for duplicate data"
   ]
  },
  {
   "cell_type": "code",
   "execution_count": 392,
   "metadata": {},
   "outputs": [
    {
     "name": "stdout",
     "output_type": "stream",
     "text": [
      "dataframe shape:  (149564, 21)\n",
      "number of duplicate rows:  (0, 21)\n"
     ]
    }
   ],
   "source": [
    "#total number of rows and columns\n",
    "print('dataframe shape: ', cleaned_df.shape)\n",
    "\n",
    "#rows containing duplicate data\n",
    "duplicate_rows_df = cleaned_df[cleaned_df.duplicated()]\n",
    "\n",
    "print('number of duplicate rows: ', duplicate_rows_df.shape)"
   ]
  },
  {
   "cell_type": "markdown",
   "metadata": {},
   "source": [
    "### c) Checking for null data"
   ]
  },
  {
   "cell_type": "code",
   "execution_count": 486,
   "metadata": {
    "scrolled": true
   },
   "outputs": [
    {
     "name": "stdout",
     "output_type": "stream",
     "text": [
      "id                          0\n",
      "name                        0\n",
      "genre                       0\n",
      "subgenre                    0\n",
      "category                    0\n",
      "source_url                  0\n",
      "blurb                       0\n",
      "slug                        0\n",
      "goal                        0\n",
      "converted_pledged_amount    0\n",
      "created_at                  0\n",
      "launched_at                 0\n",
      "deadline                    0\n",
      "country                     0\n",
      "currency                    0\n",
      "backers_count               0\n",
      "disable_communication       0\n",
      "is_starrable                0\n",
      "spotlight                   0\n",
      "staff_pick                  0\n",
      "state                       0\n",
      "success_percentage          0\n",
      "dtype: int64\n"
     ]
    }
   ],
   "source": [
    "#finding the NaN values\n",
    "print(cleaned_df.isnull().sum())"
   ]
  },
  {
   "cell_type": "code",
   "execution_count": 394,
   "metadata": {},
   "outputs": [
    {
     "name": "stdout",
     "output_type": "stream",
     "text": [
      "       blurb\n",
      "142327   NaN\n"
     ]
    }
   ],
   "source": [
    "#locate the row in which the NaN value is present\n",
    "null_columns=cleaned_df.columns[cleaned_df.isnull().any()]\n",
    "print(cleaned_df[cleaned_df[\"blurb\"].isnull()][null_columns])\n"
   ]
  },
  {
   "cell_type": "code",
   "execution_count": 395,
   "metadata": {},
   "outputs": [],
   "source": [
    "#drop the row with NaN value\n",
    "cleaned_df.drop(cleaned_df.index[142327], inplace=True)\n",
    "\n",
    "#reset index\n",
    "cleaned_df.reset_index(drop=True,inplace=True)"
   ]
  },
  {
   "cell_type": "markdown",
   "metadata": {},
   "source": [
    "##### Counts for 'state' column"
   ]
  },
  {
   "cell_type": "code",
   "execution_count": 396,
   "metadata": {},
   "outputs": [
    {
     "name": "stdout",
     "output_type": "stream",
     "text": [
      "successful    93849\n",
      "failed        55714\n",
      "Name: state, dtype: int64\n",
      "\n",
      "\n",
      "In our data, we have a good proportion of failed:successful campaigns \n",
      " so the steps below will explore these numbers in more detail in an attempt to filter our data.\n"
     ]
    }
   ],
   "source": [
    "print(cleaned_df['state'].value_counts())\n",
    "print('\\n')\n",
    "print('In our data, we have a good proportion of failed:successful campaigns \\n so the steps below will explore these numbers in more detail in an attempt to filter our data.')"
   ]
  },
  {
   "cell_type": "markdown",
   "metadata": {},
   "source": [
    "### d) Make a new column for success % (goal amount / pledged amount)"
   ]
  },
  {
   "cell_type": "code",
   "execution_count": 397,
   "metadata": {},
   "outputs": [],
   "source": [
    "cleaned_df['success_percentage']=(cleaned_df['converted_pledged_amount'] / cleaned_df['goal']) * 100"
   ]
  },
  {
   "cell_type": "code",
   "execution_count": 398,
   "metadata": {
    "scrolled": true
   },
   "outputs": [
    {
     "data": {
      "text/plain": [
       "<matplotlib.axes._subplots.AxesSubplot at 0x1b50499cb48>"
      ]
     },
     "execution_count": 398,
     "metadata": {},
     "output_type": "execute_result"
    },
    {
     "data": {
      "image/png": "[encoded data removed]",
      "text/plain": [
       "<Figure size 432x288 with 1 Axes>"
      ]
     },
     "metadata": {},
     "output_type": "display_data"
    }
   ],
   "source": [
    "#make a boxplot of 'success_percentage' column\n",
    "sns.boxplot(x=cleaned_df['success_percentage'])"
   ]
  },
  {
   "cell_type": "code",
   "execution_count": 399,
   "metadata": {},
   "outputs": [
    {
     "name": "stdout",
     "output_type": "stream",
     "text": [
      "(0.0, 0.1]                7978\n",
      "(0.1, 0.2]                2290\n",
      "(0.2, 0.5]                3677\n",
      "(0.5, 1.0]                3423\n",
      "(1.0, 5.0]                9581\n",
      "(5.0, 10.0]               4893\n",
      "(10.0, 25.0]              6966\n",
      "(25.0, 50.0]              4360\n",
      "(50.0, 75.0]              1456\n",
      "(75.0, 100.0]             5570\n",
      "(100.0, 125.0]           48737\n",
      "(125.0, 150.0]           11371\n",
      "(150.0, 200.0]            9165\n",
      "(200.0, 300.0]            7086\n",
      "(300.0, 500.0]            5039\n",
      "(500.0, 1000.0]           3609\n",
      "(1000.0, 2500.0]          2282\n",
      "(2500.0, 5000.0]           635\n",
      "(5000.0, 7500.0]           214\n",
      "(7500.0, 10000.0]           79\n",
      "(10000.0, 100000.0]        196\n",
      "(100000.0, 1000000.0]       81\n",
      "(1000000.0, inf]             9\n",
      "Name: success_percentage, dtype: int64\n"
     ]
    }
   ],
   "source": [
    "#check range of 'success_percentage' column\n",
    "\n",
    "bins = [0, 0.1, 0.2, 0.5, 1, 5, 10, 25, 50, 75, 100, 125, 150, 200, 300, 500, 1000, 2500, 5000, 7500, 10000, 100000, 1000000, np.inf]\n",
    "success_bins = pd.cut(cleaned_df['success_percentage'], bins=bins).value_counts().sort_index()\n",
    "print (success_bins)"
   ]
  },
  {
   "cell_type": "code",
   "execution_count": 402,
   "metadata": {},
   "outputs": [
    {
     "name": "stdout",
     "output_type": "stream",
     "text": [
      "failed        37812\n",
      "successful        3\n",
      "Name: state, dtype: int64\n",
      "\n",
      "\n",
      "On the other hand, these campaigns were started with very high goals in mind and this is why they have such a \n",
      " low success percentage.\n",
      "\n",
      "\n",
      "5000       3485\n",
      "10000      3119\n",
      "50000      1612\n",
      "15000      1594\n",
      "20000      1556\n",
      "           ... \n",
      "1450000       1\n",
      "14355         1\n",
      "98500         1\n",
      "2261          1\n",
      "64            1\n",
      "Name: goal, Length: 1880, dtype: int64\n"
     ]
    }
   ],
   "source": [
    "#check left-outliers\n",
    "print(cleaned_df[cleaned_df['success_percentage'].between(0, 5)]['state'].value_counts())\n",
    "print('\\n')\n",
    "print('On the other hand, these campaigns were started with very high goals in mind and this is why they have such a \\n low success percentage.')\n",
    "print('\\n')\n",
    "print(cleaned_df[cleaned_df['success_percentage'].between(0, 5)]['goal'].value_counts())"
   ]
  },
  {
   "cell_type": "code",
   "execution_count": 411,
   "metadata": {},
   "outputs": [
    {
     "name": "stdout",
     "output_type": "stream",
     "text": [
      "successful    20706\n",
      "Name: state, dtype: int64\n",
      "\n",
      "\n",
      "It is clear that most of these campaigns were started with very low goals in mind and this is why they have such a \n",
      " high success percentage.\n",
      "\n",
      "\n",
      "4          1\n",
      "8          1\n",
      "9          1\n",
      "10         6\n",
      "12         2\n",
      "          ..\n",
      "700000     1\n",
      "750000     1\n",
      "1250000    2\n",
      "1285000    1\n",
      "1500000    1\n",
      "Name: goal, Length: 972, dtype: int64\n"
     ]
    }
   ],
   "source": [
    "#check outliers on the right extreme\n",
    "print(cleaned_df[cleaned_df['success_percentage'].between(110, np.inf)]['state'].value_counts())\n",
    "print('\\n')\n",
    "print('It is clear that most of these campaigns were started with very low goals in mind and this is why they have such a \\n high success percentage.')\n",
    "print('\\n')\n",
    "print(cleaned_df[cleaned_df['success_percentage'].between(110, np.inf)]['goal'].value_counts().sort_index())"
   ]
  },
  {
   "cell_type": "code",
   "execution_count": 404,
   "metadata": {},
   "outputs": [
    {
     "data": {
      "text/plain": [
       "(111748, 22)"
      ]
     },
     "execution_count": 404,
     "metadata": {},
     "output_type": "execute_result"
    }
   ],
   "source": [
    "#remove left outliers\n",
    "cleaned_df.drop(cleaned_df.loc[cleaned_df['success_percentage'].between(0, 5)].index, inplace=True)\n",
    "cleaned_df.shape"
   ]
  },
  {
   "cell_type": "code",
   "execution_count": 412,
   "metadata": {},
   "outputs": [
    {
     "data": {
      "text/plain": [
       "(54595, 22)"
      ]
     },
     "execution_count": 412,
     "metadata": {},
     "output_type": "execute_result"
    }
   ],
   "source": [
    "#remove right outliers\n",
    "cleaned_df.drop(cleaned_df.loc[cleaned_df['success_percentage'].between(110, np.inf)].index, inplace=True)\n",
    "cleaned_df.shape"
   ]
  },
  {
   "cell_type": "code",
   "execution_count": 413,
   "metadata": {},
   "outputs": [
    {
     "name": "stdout",
     "output_type": "stream",
     "text": [
      "Our boxplot is starting to look more like a box now.\n"
     ]
    },
    {
     "data": {
      "image/png": "[encoded data removed]",
      "text/plain": [
       "<Figure size 432x288 with 1 Axes>"
      ]
     },
     "metadata": {},
     "output_type": "display_data"
    }
   ],
   "source": [
    "sns.boxplot(x=cleaned_df['success_percentage'])\n",
    "print('Our boxplot is starting to look more like a box now.')"
   ]
  },
  {
   "cell_type": "code",
   "execution_count": 414,
   "metadata": {},
   "outputs": [
    {
     "name": "stdout",
     "output_type": "stream",
     "text": [
      "successful    36694\n",
      "failed        17901\n",
      "Name: state, dtype: int64\n"
     ]
    }
   ],
   "source": [
    "print(cleaned_df['state'].value_counts())"
   ]
  },
  {
   "cell_type": "markdown",
   "metadata": {},
   "source": [
    "### e) Checking for other outliers"
   ]
  },
  {
   "cell_type": "code",
   "execution_count": 415,
   "metadata": {},
   "outputs": [
    {
     "data": {
      "text/plain": [
       "<matplotlib.axes._subplots.AxesSubplot at 0x1b497428388>"
      ]
     },
     "execution_count": 415,
     "metadata": {},
     "output_type": "execute_result"
    },
    {
     "data": {
      "image/png": "[encoded data removed]",
      "text/plain": [
       "<Figure size 432x288 with 1 Axes>"
      ]
     },
     "metadata": {},
     "output_type": "display_data"
    }
   ],
   "source": [
    "sns.boxplot(x=cleaned_df['converted_pledged_amount'])"
   ]
  },
  {
   "cell_type": "code",
   "execution_count": 416,
   "metadata": {
    "scrolled": true
   },
   "outputs": [
    {
     "name": "stdout",
     "output_type": "stream",
     "text": [
      "(0.0, 1.0]                     42\n",
      "(1.0, 5.0]                     38\n",
      "(5.0, 10.0]                    91\n",
      "(10.0, 50.0]                  909\n",
      "(50.0, 100.0]                1254\n",
      "(100.0, 2500.0]             21311\n",
      "(2500.0, 5000.0]             9445\n",
      "(5000.0, 10000.0]            9522\n",
      "(10000.0, 25000.0]           8382\n",
      "(25000.0, 35000.0]           1752\n",
      "(35000.0, 50000.0]            763\n",
      "(50000.0, 75000.0]            663\n",
      "(75000.0, 100000.0]           180\n",
      "(100000.0, 125000.0]          128\n",
      "(125000.0, 500000.0]          112\n",
      "(500000.0, 1000000.0]           3\n",
      "(1000000.0, 10000000.0]         0\n",
      "(10000000.0, 15000000.0]        0\n",
      "(15000000.0, inf]               0\n",
      "Name: converted_pledged_amount, dtype: int64\n"
     ]
    }
   ],
   "source": [
    "#check range of 'converted_pledged_amount' column\n",
    "bins = [0, 1, 5, 10, 50, 100, 2500, 5000, 10000, 25000, 35000, 50000, 75000, 100000, 125000, 500000, 1000000, 10000000, 15000000, np.inf]\n",
    "pledged_bins = pd.cut(cleaned_df['converted_pledged_amount'], bins=bins).value_counts().sort_index()\n",
    "print (pledged_bins)"
   ]
  },
  {
   "cell_type": "code",
   "execution_count": 428,
   "metadata": {},
   "outputs": [
    {
     "name": "stdout",
     "output_type": "stream",
     "text": [
      "failed        462\n",
      "successful     92\n",
      "Name: state, dtype: int64\n",
      "\n",
      "\n",
      "What we find is that most of these left-outliers are somewhat distributed between success/fail.\n"
     ]
    }
   ],
   "source": [
    "#check what the 'converted pledged amount' values below 100 reveal\n",
    "print(cleaned_df[cleaned_df['converted_pledged_amount']<30]['state'].value_counts())\n",
    "print('\\n')\n",
    "print('What we find is that most of these left-outliers are somewhat distributed between success/fail.')"
   ]
  },
  {
   "cell_type": "code",
   "execution_count": 437,
   "metadata": {},
   "outputs": [
    {
     "name": "stdout",
     "output_type": "stream",
     "text": [
      "successful    2182\n",
      "failed         232\n",
      "Name: state, dtype: int64\n",
      "\n",
      "\n",
      "What also find that most of these right-outliers are not evenly distributed between success/fail.\n"
     ]
    }
   ],
   "source": [
    "#check what the 'converted pledged amount' values anove 50,000 reveal\n",
    "print(cleaned_df[cleaned_df['converted_pledged_amount']>15000]['state'].value_counts())\n",
    "print('\\n')\n",
    "print('What also find that most of these right-outliers are not evenly distributed between success/fail.')"
   ]
  },
  {
   "cell_type": "code",
   "execution_count": 438,
   "metadata": {},
   "outputs": [
    {
     "data": {
      "text/plain": [
       "(47104, 22)"
      ]
     },
     "execution_count": 438,
     "metadata": {},
     "output_type": "execute_result"
    }
   ],
   "source": [
    "#remove right outliers\n",
    "cleaned_df.drop(cleaned_df.loc[cleaned_df['converted_pledged_amount'].between(15000, np.inf)].index, inplace=True)\n",
    "cleaned_df.shape"
   ]
  },
  {
   "cell_type": "code",
   "execution_count": 439,
   "metadata": {},
   "outputs": [
    {
     "data": {
      "text/plain": [
       "<matplotlib.axes._subplots.AxesSubplot at 0x1b4975000c8>"
      ]
     },
     "execution_count": 439,
     "metadata": {},
     "output_type": "execute_result"
    },
    {
     "data": {
      "image/png": "[encoded data removed]",
      "text/plain": [
       "<Figure size 432x288 with 1 Axes>"
      ]
     },
     "metadata": {},
     "output_type": "display_data"
    }
   ],
   "source": [
    "sns.boxplot(x=cleaned_df['converted_pledged_amount'])"
   ]
  },
  {
   "cell_type": "code",
   "execution_count": 440,
   "metadata": {},
   "outputs": [
    {
     "data": {
      "text/plain": [
       "<matplotlib.axes._subplots.AxesSubplot at 0x1b49756fd88>"
      ]
     },
     "execution_count": 440,
     "metadata": {},
     "output_type": "execute_result"
    },
    {
     "data": {
      "image/png": "[encoded data removed]",
      "text/plain": [
       "<Figure size 432x288 with 1 Axes>"
      ]
     },
     "metadata": {},
     "output_type": "display_data"
    }
   ],
   "source": [
    "sns.boxplot(x=cleaned_df['backers_count'])"
   ]
  },
  {
   "cell_type": "code",
   "execution_count": 441,
   "metadata": {},
   "outputs": [
    {
     "name": "stdout",
     "output_type": "stream",
     "text": [
      "(0.0, 1.0]               626\n",
      "(1.0, 10.0]             9062\n",
      "(10.0, 25.0]           10672\n",
      "(25.0, 50.0]           10954\n",
      "(50.0, 75.0]            6553\n",
      "(75.0, 100.0]           3684\n",
      "(100.0, 250.0]          5174\n",
      "(250.0, 300.0]           194\n",
      "(300.0, 500.0]           164\n",
      "(500.0, 1000.0]           20\n",
      "(1000.0, 3000.0]           1\n",
      "(3000.0, 5000.0]           0\n",
      "(5000.0, 10000.0]          0\n",
      "(10000.0, 50000.0]         0\n",
      "(50000.0, 110000.0]        0\n",
      "(110000.0, inf]            0\n",
      "Name: backers_count, dtype: int64\n"
     ]
    }
   ],
   "source": [
    "#check range of 'backers_count' column\n",
    "bins = [0, 1, 10, 25, 50, 75, 100, 250, 300, 500, 1000, 3000, 5000, 10000, 50000, 110000, np.inf]\n",
    "backers_bins = pd.cut(cleaned_df['backers_count'], bins=bins).value_counts().sort_index()\n",
    "print (backers_bins)"
   ]
  },
  {
   "cell_type": "code",
   "execution_count": 456,
   "metadata": {},
   "outputs": [
    {
     "name": "stdout",
     "output_type": "stream",
     "text": [
      "successful    322\n",
      "failed         57\n",
      "Name: state, dtype: int64\n",
      "\n",
      "\n",
      "Since this row shows the number of backers for each campaign, it makes sense that the higher the number \n",
      " the more successful the campaign is. These outliers are somewhat distributed. \n",
      " ***Therefore no outlier removal for this variable.\n"
     ]
    }
   ],
   "source": [
    "#check what the 'backers_count' values above 1,000 reveal\n",
    "print(cleaned_df[cleaned_df['backers_count']>250]['state'].value_counts())\n",
    "print('\\n')\n",
    "print('Since this row shows the number of backers for each campaign, it makes sense that the higher the number \\n the more successful the campaign is. These outliers are somewhat distributed. \\n ***Therefore no outlier removal for this variable.')"
   ]
  },
  {
   "cell_type": "code",
   "execution_count": 458,
   "metadata": {},
   "outputs": [
    {
     "data": {
      "text/plain": [
       "<matplotlib.axes._subplots.AxesSubplot at 0x1b497612408>"
      ]
     },
     "execution_count": 458,
     "metadata": {},
     "output_type": "execute_result"
    },
    {
     "data": {
      "image/png": "[encoded data removed]",
      "text/plain": [
       "<Figure size 432x288 with 1 Axes>"
      ]
     },
     "metadata": {},
     "output_type": "display_data"
    }
   ],
   "source": [
    "sns.boxplot(x=cleaned_df['goal'])"
   ]
  },
  {
   "cell_type": "code",
   "execution_count": 459,
   "metadata": {},
   "outputs": [
    {
     "name": "stdout",
     "output_type": "stream",
     "text": [
      "(0.0, 1.5]                      34\n",
      "(1.5, 2.0]                       1\n",
      "(2.0, 5.0]                       6\n",
      "(5.0, 10.0]                     29\n",
      "(10.0, 50.0]                   193\n",
      "(50.0, 100.0]                  364\n",
      "(100.0, 2500.0]              17076\n",
      "(2500.0, 5000.0]             12330\n",
      "(5000.0, 10000.0]            10994\n",
      "(10000.0, 15000.0]            3015\n",
      "(15000.0, 20000.0]             941\n",
      "(20000.0, 25000.0]             617\n",
      "(25000.0, 35000.0]             612\n",
      "(35000.0, 50000.0]             533\n",
      "(50000.0, 75000.0]             192\n",
      "(75000.0, 85000.0]              32\n",
      "(85000.0, 100000.0]             79\n",
      "(100000.0, 500000.0]            56\n",
      "(500000.0, 1000000.0]            0\n",
      "(1000000.0, 10000000.0]          0\n",
      "(10000000.0, 100000000.0]        0\n",
      "(100000000.0, inf]               0\n",
      "Name: goal, dtype: int64\n"
     ]
    }
   ],
   "source": [
    "#check range of 'goal' column\n",
    "bins = [0, 1.5, 2, 5, 10, 50, 100, 2500, 5000, 10000, 15000, 20000, 25000, 35000, 50000, 75000, 85000, 100000, 500000, 1000000, 10000000, 100000000, np.inf]\n",
    "goal_bins = pd.cut(cleaned_df['goal'], bins=bins).value_counts().sort_index()\n",
    "print (goal_bins)"
   ]
  },
  {
   "cell_type": "code",
   "execution_count": 464,
   "metadata": {},
   "outputs": [
    {
     "name": "stdout",
     "output_type": "stream",
     "text": [
      "failed        3033\n",
      "successful      29\n",
      "Name: state, dtype: int64\n",
      "\n",
      "\n",
      "Clearly these are outliers and by looking at the rows and their [state] we can justify their removal from our data \n",
      " most of these campaigns are successful and must be sacrificed to maintain model accuracy.\n"
     ]
    }
   ],
   "source": [
    "#check what the 'goal' values above 1,000,000 reveal- are the campaigns mostly failures?\n",
    "print(cleaned_df[cleaned_df['goal']>15000]['state'].value_counts())\n",
    "print('\\n')\n",
    "print('Clearly these are outliers and by looking at the rows and their [state] we can justify their removal from our data \\n most of these campaigns are successful and must be sacrificed to maintain model accuracy.')\n"
   ]
  },
  {
   "cell_type": "code",
   "execution_count": 465,
   "metadata": {},
   "outputs": [
    {
     "data": {
      "text/plain": [
       "(43289, 22)"
      ]
     },
     "execution_count": 465,
     "metadata": {},
     "output_type": "execute_result"
    }
   ],
   "source": [
    "#remove right outliers\n",
    "cleaned_df.drop(cleaned_df.loc[cleaned_df['goal'].between(15000, np.inf)].index, inplace=True)\n",
    "cleaned_df.shape"
   ]
  },
  {
   "cell_type": "code",
   "execution_count": 466,
   "metadata": {},
   "outputs": [
    {
     "data": {
      "text/plain": [
       "<matplotlib.axes._subplots.AxesSubplot at 0x1b4976cc608>"
      ]
     },
     "execution_count": 466,
     "metadata": {},
     "output_type": "execute_result"
    },
    {
     "data": {
      "image/png": "[encoded data removed]",
      "text/plain": [
       "<Figure size 432x288 with 1 Axes>"
      ]
     },
     "metadata": {},
     "output_type": "display_data"
    }
   ],
   "source": [
    "sns.boxplot(x=cleaned_df['goal'])"
   ]
  },
  {
   "cell_type": "code",
   "execution_count": 467,
   "metadata": {},
   "outputs": [],
   "source": [
    "#reset index\n",
    "cleaned_df.reset_index(drop=True,inplace=True)"
   ]
  },
  {
   "cell_type": "markdown",
   "metadata": {},
   "source": [
    "### f) Natural Language Processing"
   ]
  },
  {
   "cell_type": "markdown",
   "metadata": {},
   "source": [
    "##### Clean the first row to check"
   ]
  },
  {
   "cell_type": "code",
   "execution_count": 478,
   "metadata": {},
   "outputs": [
    {
     "data": {
      "text/plain": [
       "'THEMA Literary Society proposes to publish One Thing Done Superbly, the autumn 2011 issue of THEMA Literary Journal.'"
      ]
     },
     "execution_count": 478,
     "metadata": {},
     "output_type": "execute_result"
    }
   ],
   "source": [
    "#create 'text' variable of every blurb description\n",
    "text = pd.DataFrame(cleaned_df['blurb'])\n",
    "\n",
    "#lets clean the first blurb as a first step\n",
    "text['blurb'][0]"
   ]
  },
  {
   "cell_type": "code",
   "execution_count": 479,
   "metadata": {},
   "outputs": [
    {
     "data": {
      "text/plain": [
       "'thema literary society proposes publish one thing done superbly autumn issue thema literary journal'"
      ]
     },
     "execution_count": 479,
     "metadata": {},
     "output_type": "execute_result"
    }
   ],
   "source": [
    "#only keep letters and replace other symbols with a white space in the first blurb\n",
    "blurb = re.sub('[^a-zA-Z]', ' ', text['blurb'][0])\n",
    "\n",
    "#change letters to lower-case\n",
    "blurb = blurb.lower()   \n",
    "\n",
    "#split the first blurb which is a string into list\n",
    "blurb = blurb.split()\n",
    "\n",
    "#for loop to remove stop-words and to do lemmatization\n",
    "wn = WordNetLemmatizer()\n",
    "blurb = [wn.lemmatize(word) for word in blurb if not word in set(stopwords.words('english'))]\n",
    "\n",
    "#join blurb back into a string from a list\n",
    "blurb = ' '.join(blurb)\n",
    "\n",
    "blurb"
   ]
  },
  {
   "cell_type": "markdown",
   "metadata": {},
   "source": [
    "### Clean the entire 'blurb' column"
   ]
  },
  {
   "cell_type": "code",
   "execution_count": 470,
   "metadata": {},
   "outputs": [],
   "source": [
    "length = len(pd.DataFrame(cleaned_df['blurb']))"
   ]
  },
  {
   "cell_type": "code",
   "execution_count": 480,
   "metadata": {},
   "outputs": [],
   "source": [
    "corpus = []\n",
    "for i in range(0, length):\n",
    "    #only keep letters and replace other symbols with a white space in the first blurb\n",
    "    blurb = re.sub('[^a-zA-Z]', ' ', text['blurb'][i])\n",
    "\n",
    "    #change letters to lower-case\n",
    "    blurb = blurb.lower()   \n",
    "    #split\n",
    "    blurb = blurb.split()\n",
    "    #for loop to remove stop-words and to do stemming\n",
    "    wn = WordNetLemmatizer()\n",
    "    blurb = [wn.lemmatize(word) for word in blurb if not word in set(stopwords.words('english'))]\n",
    "    #join blurb back into a string from a list\n",
    "    blurb = ' '.join(blurb)\n",
    "    corpus.append(blurb)"
   ]
  },
  {
   "cell_type": "code",
   "execution_count": 481,
   "metadata": {},
   "outputs": [
    {
     "data": {
      "text/html": [
       "<div>\n",
       "<style scoped>\n",
       "    .dataframe tbody tr th:only-of-type {\n",
       "        vertical-align: middle;\n",
       "    }\n",
       "\n",
       "    .dataframe tbody tr th {\n",
       "        vertical-align: top;\n",
       "    }\n",
       "\n",
       "    .dataframe thead th {\n",
       "        text-align: right;\n",
       "    }\n",
       "</style>\n",
       "<table border=\"1\" class=\"dataframe\">\n",
       "  <thead>\n",
       "    <tr style=\"text-align: right;\">\n",
       "      <th></th>\n",
       "      <th>blurb</th>\n",
       "    </tr>\n",
       "  </thead>\n",
       "  <tbody>\n",
       "    <tr>\n",
       "      <td>0</td>\n",
       "      <td>thema literary society proposes publish one th...</td>\n",
       "    </tr>\n",
       "    <tr>\n",
       "      <td>1</td>\n",
       "      <td>cnc crafted billet aluminum unique sophisticat...</td>\n",
       "    </tr>\n",
       "    <tr>\n",
       "      <td>2</td>\n",
       "      <td>genesis follows mother son live together forei...</td>\n",
       "    </tr>\n",
       "    <tr>\n",
       "      <td>3</td>\n",
       "      <td>losing fellow marine overseas sgt john casey d...</td>\n",
       "    </tr>\n",
       "    <tr>\n",
       "      <td>4</td>\n",
       "      <td>monster skulking dark king bent destroying lig...</td>\n",
       "    </tr>\n",
       "  </tbody>\n",
       "</table>\n",
       "</div>"
      ],
      "text/plain": [
       "                                               blurb\n",
       "0  thema literary society proposes publish one th...\n",
       "1  cnc crafted billet aluminum unique sophisticat...\n",
       "2  genesis follows mother son live together forei...\n",
       "3  losing fellow marine overseas sgt john casey d...\n",
       "4  monster skulking dark king bent destroying lig..."
      ]
     },
     "execution_count": 481,
     "metadata": {},
     "output_type": "execute_result"
    }
   ],
   "source": [
    "#write corpus array into a dataframe and save it to a csv for importing into the Step 4 (Classification)\n",
    "corpus_df = pd.DataFrame(corpus, columns = ['blurb'])\n",
    "corpus_df.head()"
   ]
  },
  {
   "cell_type": "markdown",
   "metadata": {},
   "source": [
    "### End of Step 3"
   ]
  },
  {
   "cell_type": "code",
   "execution_count": 482,
   "metadata": {},
   "outputs": [],
   "source": [
    "#write corpus_df to a .csv\n",
    "corpus_df.to_csv('corpus_data.csv')"
   ]
  },
  {
   "cell_type": "code",
   "execution_count": 483,
   "metadata": {},
   "outputs": [],
   "source": [
    "#write cleaned cleaned_df to a .csv\n",
    "cleaned_df.to_csv('cleaned2_data.csv')"
   ]
  },
  {
   "cell_type": "code",
   "execution_count": null,
   "metadata": {},
   "outputs": [],
   "source": []
  }
 ],
 "metadata": {
  "kernelspec": {
   "display_name": "Python 3",
   "language": "python",
   "name": "python3"
  },
  "language_info": {
   "codemirror_mode": {
    "name": "ipython",
    "version": 3
   },
   "file_extension": ".py",
   "mimetype": "text/x-python",
   "name": "python",
   "nbconvert_exporter": "python",
   "pygments_lexer": "ipython3",
   "version": "3.7.4"
  }
 },
 "nbformat": 4,
 "nbformat_minor": 2
}
