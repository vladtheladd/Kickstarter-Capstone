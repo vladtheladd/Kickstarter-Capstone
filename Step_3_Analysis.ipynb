{
 "cells": [
  {
   "cell_type": "markdown",
   "metadata": {},
   "source": [
    "![logo](1_bDwEvCRgrKVbLrAXEixpfA.png)\n",
    "___"
   ]
  },
  {
   "cell_type": "markdown",
   "metadata": {},
   "source": [
    "##### import libraries"
   ]
  },
  {
   "cell_type": "code",
   "execution_count": 2,
   "metadata": {},
   "outputs": [],
   "source": [
    "import pandas as pd\n",
    "import numpy as np\n",
    "\n",
    "import seaborn as sns\n",
    "import matplotlib.pyplot as plt\n",
    "from scipy import stats\n",
    "%matplotlib inline \n",
    "sns.set(color_codes=True)"
   ]
  },
  {
   "cell_type": "markdown",
   "metadata": {},
   "source": [
    "# Step 3 - Exploratory Data Analysis\n",
    "    a) Import data\n",
    "    b) Duplicate data\n",
    "    c) Null Data\n",
    "    d) Histograms\n",
    "    e) Outliers\n",
    "    f) Heat map\n",
    "    g) Scatter plot"
   ]
  },
  {
   "cell_type": "markdown",
   "metadata": {},
   "source": [
    "### a) Importing\n",
    "##### Use 'cleaned_data.csv' to begin cleaning"
   ]
  },
  {
   "cell_type": "code",
   "execution_count": 3,
   "metadata": {},
   "outputs": [
    {
     "name": "stdout",
     "output_type": "stream",
     "text": [
      "(149564, 21)\n"
     ]
    },
    {
     "data": {
      "text/html": [
       "<div>\n",
       "<style scoped>\n",
       "    .dataframe tbody tr th:only-of-type {\n",
       "        vertical-align: middle;\n",
       "    }\n",
       "\n",
       "    .dataframe tbody tr th {\n",
       "        vertical-align: top;\n",
       "    }\n",
       "\n",
       "    .dataframe thead th {\n",
       "        text-align: right;\n",
       "    }\n",
       "</style>\n",
       "<table border=\"1\" class=\"dataframe\">\n",
       "  <thead>\n",
       "    <tr style=\"text-align: right;\">\n",
       "      <th></th>\n",
       "      <th>id</th>\n",
       "      <th>name</th>\n",
       "      <th>genre</th>\n",
       "      <th>subgenre</th>\n",
       "      <th>category</th>\n",
       "      <th>source_url</th>\n",
       "      <th>blurb</th>\n",
       "      <th>slug</th>\n",
       "      <th>goal</th>\n",
       "      <th>converted_pledged_amount</th>\n",
       "      <th>...</th>\n",
       "      <th>launched_at</th>\n",
       "      <th>deadline</th>\n",
       "      <th>country</th>\n",
       "      <th>currency</th>\n",
       "      <th>backers_count</th>\n",
       "      <th>disable_communication</th>\n",
       "      <th>is_starrable</th>\n",
       "      <th>spotlight</th>\n",
       "      <th>staff_pick</th>\n",
       "      <th>state</th>\n",
       "    </tr>\n",
       "  </thead>\n",
       "  <tbody>\n",
       "    <tr>\n",
       "      <td>0</td>\n",
       "      <td>498799566</td>\n",
       "      <td>Strange Wit, an original graphic novel about J...</td>\n",
       "      <td>Graphic Novels</td>\n",
       "      <td>comics</td>\n",
       "      <td>{\"id\":252,\"name\":\"Graphic Novels\",\"slug\":\"comi...</td>\n",
       "      <td>https://www.kickstarter.com/discover/categorie...</td>\n",
       "      <td>The true biography of the historical figure, w...</td>\n",
       "      <td>strange-wit-an-original-graphic-novel-about-ja...</td>\n",
       "      <td>12000</td>\n",
       "      <td>14740</td>\n",
       "      <td>...</td>\n",
       "      <td>2015-08-15 04:19:27</td>\n",
       "      <td>2015-09-14 04:19:27</td>\n",
       "      <td>US</td>\n",
       "      <td>USD</td>\n",
       "      <td>403</td>\n",
       "      <td>0</td>\n",
       "      <td>0</td>\n",
       "      <td>1</td>\n",
       "      <td>1</td>\n",
       "      <td>successful</td>\n",
       "    </tr>\n",
       "  </tbody>\n",
       "</table>\n",
       "<p>1 rows × 21 columns</p>\n",
       "</div>"
      ],
      "text/plain": [
       "          id                                               name  \\\n",
       "0  498799566  Strange Wit, an original graphic novel about J...   \n",
       "\n",
       "            genre subgenre                                           category  \\\n",
       "0  Graphic Novels   comics  {\"id\":252,\"name\":\"Graphic Novels\",\"slug\":\"comi...   \n",
       "\n",
       "                                          source_url  \\\n",
       "0  https://www.kickstarter.com/discover/categorie...   \n",
       "\n",
       "                                               blurb  \\\n",
       "0  The true biography of the historical figure, w...   \n",
       "\n",
       "                                                slug   goal  \\\n",
       "0  strange-wit-an-original-graphic-novel-about-ja...  12000   \n",
       "\n",
       "   converted_pledged_amount  ...          launched_at             deadline  \\\n",
       "0                     14740  ...  2015-08-15 04:19:27  2015-09-14 04:19:27   \n",
       "\n",
       "  country currency backers_count  disable_communication  is_starrable  \\\n",
       "0      US      USD           403                      0             0   \n",
       "\n",
       "   spotlight  staff_pick       state  \n",
       "0          1           1  successful  \n",
       "\n",
       "[1 rows x 21 columns]"
      ]
     },
     "execution_count": 3,
     "metadata": {},
     "output_type": "execute_result"
    }
   ],
   "source": [
    "#import .csv file\n",
    "cleaned_df = pd.read_csv(\"cleaned_data.csv\")\n",
    "\n",
    "cleaned_df.drop(['Unnamed: 0'], axis=1, inplace=True)\n",
    "\n",
    "print(cleaned_df.shape)\n",
    "cleaned_df.head(1)"
   ]
  },
  {
   "cell_type": "markdown",
   "metadata": {},
   "source": [
    "### Duplicate data"
   ]
  },
  {
   "cell_type": "code",
   "execution_count": 3,
   "metadata": {},
   "outputs": [
    {
     "name": "stdout",
     "output_type": "stream",
     "text": [
      "dataframe shape:  (149564, 21)\n",
      "number of duplicate rows:  (0, 21)\n"
     ]
    }
   ],
   "source": [
    "#total number of rows and columns\n",
    "print('dataframe shape: ', cleaned_df.shape)\n",
    "\n",
    "#rows containing duplicate data\n",
    "duplicate_rows_df = cleaned_df[cleaned_df.duplicated()]\n",
    "\n",
    "print('number of duplicate rows: ', duplicate_rows_df.shape)"
   ]
  },
  {
   "cell_type": "markdown",
   "metadata": {},
   "source": [
    "### Null data"
   ]
  },
  {
   "cell_type": "code",
   "execution_count": 4,
   "metadata": {
    "scrolled": true
   },
   "outputs": [
    {
     "name": "stdout",
     "output_type": "stream",
     "text": [
      "id                          0\n",
      "name                        0\n",
      "genre                       0\n",
      "subgenre                    0\n",
      "category                    0\n",
      "source_url                  0\n",
      "blurb                       1\n",
      "slug                        0\n",
      "goal                        0\n",
      "converted_pledged_amount    0\n",
      "created_at                  0\n",
      "launched_at                 0\n",
      "deadline                    0\n",
      "country                     0\n",
      "currency                    0\n",
      "backers_count               0\n",
      "disable_communication       0\n",
      "is_starrable                0\n",
      "spotlight                   0\n",
      "staff_pick                  0\n",
      "state                       0\n",
      "dtype: int64\n"
     ]
    }
   ],
   "source": [
    "#finding the NaN values\n",
    "print(cleaned_df.isnull().sum())"
   ]
  },
  {
   "cell_type": "code",
   "execution_count": 5,
   "metadata": {},
   "outputs": [
    {
     "name": "stdout",
     "output_type": "stream",
     "text": [
      "       blurb\n",
      "142327   NaN\n"
     ]
    }
   ],
   "source": [
    "#locate the row in which the NaN value is present\n",
    "null_columns=cleaned_df.columns[cleaned_df.isnull().any()]\n",
    "print(cleaned_df[cleaned_df[\"blurb\"].isnull()][null_columns])\n"
   ]
  },
  {
   "cell_type": "code",
   "execution_count": 6,
   "metadata": {},
   "outputs": [],
   "source": [
    "#drop the row with NaN value\n",
    "cleaned_df.drop(cleaned_df.index[142327], inplace=True)\n",
    "\n",
    "#reset index\n",
    "cleaned_df.reset_index(drop=True,inplace=True)"
   ]
  },
  {
   "cell_type": "markdown",
   "metadata": {},
   "source": [
    "### Counts for 'state' column"
   ]
  },
  {
   "cell_type": "code",
   "execution_count": 7,
   "metadata": {},
   "outputs": [
    {
     "name": "stdout",
     "output_type": "stream",
     "text": [
      "successful    93849\n",
      "failed        55714\n",
      "Name: state, dtype: int64\n",
      "\n",
      "\n",
      "In our data, we have a good proportion of failed:successful campaigns \n",
      " so the steps below will explore these numbers in more detail in an attempt to filter our data\n"
     ]
    }
   ],
   "source": [
    "print(cleaned_df['state'].value_counts())\n",
    "print('\\n')\n",
    "print('In our data, we have a good proportion of failed:successful campaigns \\n so the steps below will explore these numbers in more detail in an attempt to filter our data')"
   ]
  },
  {
   "cell_type": "markdown",
   "metadata": {},
   "source": [
    "### Make a new column for success % (goal amount / pledged amount) and explore this new column to find outliers and begin filtering our data"
   ]
  },
  {
   "cell_type": "code",
   "execution_count": 8,
   "metadata": {},
   "outputs": [
    {
     "data": {
      "text/html": [
       "<div>\n",
       "<style scoped>\n",
       "    .dataframe tbody tr th:only-of-type {\n",
       "        vertical-align: middle;\n",
       "    }\n",
       "\n",
       "    .dataframe tbody tr th {\n",
       "        vertical-align: top;\n",
       "    }\n",
       "\n",
       "    .dataframe thead th {\n",
       "        text-align: right;\n",
       "    }\n",
       "</style>\n",
       "<table border=\"1\" class=\"dataframe\">\n",
       "  <thead>\n",
       "    <tr style=\"text-align: right;\">\n",
       "      <th></th>\n",
       "      <th>goal</th>\n",
       "      <th>converted_pledged_amount</th>\n",
       "      <th>success_percentage</th>\n",
       "    </tr>\n",
       "  </thead>\n",
       "  <tbody>\n",
       "    <tr>\n",
       "      <th>0</th>\n",
       "      <td>12000</td>\n",
       "      <td>14740</td>\n",
       "      <td>122.833333</td>\n",
       "    </tr>\n",
       "    <tr>\n",
       "      <th>1</th>\n",
       "      <td>20000</td>\n",
       "      <td>21799</td>\n",
       "      <td>108.995000</td>\n",
       "    </tr>\n",
       "    <tr>\n",
       "      <th>2</th>\n",
       "      <td>5000</td>\n",
       "      <td>10</td>\n",
       "      <td>0.200000</td>\n",
       "    </tr>\n",
       "    <tr>\n",
       "      <th>3</th>\n",
       "      <td>500</td>\n",
       "      <td>577</td>\n",
       "      <td>115.400000</td>\n",
       "    </tr>\n",
       "    <tr>\n",
       "      <th>4</th>\n",
       "      <td>30000</td>\n",
       "      <td>82</td>\n",
       "      <td>0.273333</td>\n",
       "    </tr>\n",
       "  </tbody>\n",
       "</table>\n",
       "</div>"
      ],
      "text/plain": [
       "    goal  converted_pledged_amount  success_percentage\n",
       "0  12000                     14740          122.833333\n",
       "1  20000                     21799          108.995000\n",
       "2   5000                        10            0.200000\n",
       "3    500                       577          115.400000\n",
       "4  30000                        82            0.273333"
      ]
     },
     "execution_count": 8,
     "metadata": {},
     "output_type": "execute_result"
    }
   ],
   "source": [
    "cleaned_df['success_percentage']=(cleaned_df['converted_pledged_amount'] / cleaned_df['goal']) * 100\n",
    "cleaned_df[['goal','converted_pledged_amount','success_percentage']].head()"
   ]
  },
  {
   "cell_type": "code",
   "execution_count": 9,
   "metadata": {
    "scrolled": true
   },
   "outputs": [
    {
     "data": {
      "text/plain": [
       "<matplotlib.axes._subplots.AxesSubplot at 0x17d81e94080>"
      ]
     },
     "execution_count": 9,
     "metadata": {},
     "output_type": "execute_result"
    },
    {
     "data": {
      "image/png": "[encoded data removed]",
      "text/plain": [
       "<Figure size 432x288 with 1 Axes>"
      ]
     },
     "metadata": {
      "needs_background": "light"
     },
     "output_type": "display_data"
    }
   ],
   "source": [
    "#make a boxplot of 'success_percentage' column\n",
    "sns.boxplot(x=cleaned_df['success_percentage'])"
   ]
  },
  {
   "cell_type": "code",
   "execution_count": 10,
   "metadata": {},
   "outputs": [
    {
     "name": "stdout",
     "output_type": "stream",
     "text": [
      "(0.0, 0.5]               13945\n",
      "(0.5, 1.0]                3423\n",
      "(1.0, 5.0]                9581\n",
      "(5.0, 10.0]               4893\n",
      "(10.0, 25.0]              6966\n",
      "(25.0, 50.0]              4360\n",
      "(50.0, 75.0]              1456\n",
      "(75.0, 100.0]             5570\n",
      "(100.0, 125.0]           48737\n",
      "(125.0, 150.0]           11371\n",
      "(150.0, 1000.0]          24899\n",
      "(1000.0, 2500.0]          2282\n",
      "(2500.0, 5000.0]           635\n",
      "(5000.0, 7500.0]           214\n",
      "(7500.0, 10000.0]           79\n",
      "(10000.0, 100000.0]        196\n",
      "(100000.0, 1000000.0]       81\n",
      "(1000000.0, inf]             9\n",
      "Name: success_percentage, dtype: int64\n"
     ]
    }
   ],
   "source": [
    "#check range of 'success_percentage' column\n",
    "\n",
    "bins = [0, 0.5, 1, 5, 10, 25, 50, 75, 100, 125, 150, 1000, 2500, 5000, 7500, 10000, 100000, 1000000, np.inf]\n",
    "success_bins = pd.cut(cleaned_df['success_percentage'], bins=bins).value_counts().sort_index()\n",
    "print (success_bins)"
   ]
  },
  {
   "cell_type": "code",
   "execution_count": 11,
   "metadata": {},
   "outputs": [
    {
     "name": "stdout",
     "output_type": "stream",
     "text": [
      "successful    196\n",
      "Name: state, dtype: int64\n",
      "\n",
      "\n",
      "It is clear that most of these campaigns were started with very low goals in mind and this is why they have such a \n",
      " high success percentage.\n",
      "\n",
      "\n",
      "1        59\n",
      "10       17\n",
      "1000     13\n",
      "100      12\n",
      "5        11\n",
      "10000    10\n",
      "25        6\n",
      "500       6\n",
      "5000      5\n",
      "15        4\n",
      "3         4\n",
      "30        4\n",
      "108       3\n",
      "20        3\n",
      "3000      2\n",
      "2         2\n",
      "1500      2\n",
      "200       2\n",
      "13        2\n",
      "99        2\n",
      "2500      2\n",
      "17        2\n",
      "600       2\n",
      "300       2\n",
      "20000     2\n",
      "42        2\n",
      "3888      2\n",
      "75        2\n",
      "30000     2\n",
      "29        1\n",
      "23        1\n",
      "32        1\n",
      "2200      1\n",
      "50        1\n",
      "7         1\n",
      "50000     1\n",
      "145       1\n",
      "97        1\n",
      "Name: goal, dtype: int64\n"
     ]
    }
   ],
   "source": [
    "#check outliers on the right extreme\n",
    "print(cleaned_df[cleaned_df['success_percentage'].between(10000.5, 100000)]['state'].value_counts())\n",
    "print('\\n')\n",
    "print('It is clear that most of these campaigns were started with very low goals in mind and this is why they have such a \\n high success percentage.')\n",
    "print('\\n')\n",
    "print(cleaned_df[cleaned_df['success_percentage'].between(10000.5, 100000)]['goal'].value_counts())"
   ]
  },
  {
   "cell_type": "code",
   "execution_count": 12,
   "metadata": {},
   "outputs": [
    {
     "name": "stdout",
     "output_type": "stream",
     "text": [
      "failed        30302\n",
      "successful        3\n",
      "Name: state, dtype: int64\n",
      "\n",
      "\n",
      "On the oher hand, these campaigns were started with very high goals in mind and this is why they have such a \n",
      " low success percentage.\n",
      "\n",
      "\n",
      "5000      2738\n",
      "10000     2611\n",
      "50000     1422\n",
      "15000     1296\n",
      "20000     1288\n",
      "25000     1201\n",
      "1000      1046\n",
      "3000      1005\n",
      "2000       924\n",
      "100000     821\n",
      "30000      814\n",
      "2500       717\n",
      "500        669\n",
      "1500       586\n",
      "8000       453\n",
      "4000       446\n",
      "6000       442\n",
      "3500       364\n",
      "35000      357\n",
      "7000       356\n",
      "40000      321\n",
      "60000      309\n",
      "150000     298\n",
      "75000      294\n",
      "12000      293\n",
      "7500       283\n",
      "250000     247\n",
      "200000     221\n",
      "500000     191\n",
      "5500       182\n",
      "          ... \n",
      "15950        1\n",
      "19840        1\n",
      "3672         1\n",
      "61060        1\n",
      "13999        1\n",
      "77500        1\n",
      "65350        1\n",
      "348000       1\n",
      "6075         1\n",
      "54675        1\n",
      "1337         1\n",
      "889          1\n",
      "33817        1\n",
      "4987         1\n",
      "164745       1\n",
      "109500       1\n",
      "43980        1\n",
      "35800        1\n",
      "1001         1\n",
      "68632        1\n",
      "11340        1\n",
      "5355         1\n",
      "1145         1\n",
      "415900       1\n",
      "89250        1\n",
      "3240         1\n",
      "52400        1\n",
      "15550        1\n",
      "3288         1\n",
      "32800        1\n",
      "Name: goal, Length: 1611, dtype: int64\n"
     ]
    }
   ],
   "source": [
    "#check outliers on the left extreme\n",
    "print(cleaned_df[cleaned_df['success_percentage'].between(0, 1.5)]['state'].value_counts())\n",
    "print('\\n')\n",
    "print('On the oher hand, these campaigns were started with very high goals in mind and this is why they have such a \\n low success percentage.')\n",
    "print('\\n')\n",
    "print(cleaned_df[cleaned_df['success_percentage'].between(0, 1.5)]['goal'].value_counts())"
   ]
  },
  {
   "cell_type": "code",
   "execution_count": 13,
   "metadata": {},
   "outputs": [
    {
     "data": {
      "text/plain": [
       "(119258, 22)"
      ]
     },
     "execution_count": 13,
     "metadata": {},
     "output_type": "execute_result"
    }
   ],
   "source": [
    "#remove left outliers\n",
    "\n",
    "cleaned_df.drop(cleaned_df.loc[cleaned_df['success_percentage'].between(0, 1.5)].index, inplace=True)\n",
    "cleaned_df.shape\n"
   ]
  },
  {
   "cell_type": "code",
   "execution_count": 28,
   "metadata": {},
   "outputs": [
    {
     "data": {
      "text/plain": [
       "(118895, 22)"
      ]
     },
     "execution_count": 28,
     "metadata": {},
     "output_type": "execute_result"
    }
   ],
   "source": [
    "#remove right outliers\n",
    "\n",
    "cleaned_df.drop(cleaned_df.loc[cleaned_df['success_percentage'].between(10000.5, np.inf)].index, inplace=True)\n",
    "cleaned_df.shape\n"
   ]
  },
  {
   "cell_type": "code",
   "execution_count": 29,
   "metadata": {},
   "outputs": [
    {
     "data": {
      "text/plain": [
       "<matplotlib.axes._subplots.AxesSubplot at 0x17d81bd2208>"
      ]
     },
     "execution_count": 29,
     "metadata": {},
     "output_type": "execute_result"
    },
    {
     "data": {
      "image/png": "[encoded data removed]",
      "text/plain": [
       "<Figure size 432x288 with 1 Axes>"
      ]
     },
     "metadata": {
      "needs_background": "light"
     },
     "output_type": "display_data"
    }
   ],
   "source": [
    "sns.boxplot(x=cleaned_df['success_percentage'])"
   ]
  },
  {
   "cell_type": "markdown",
   "metadata": {},
   "source": [
    "### Outliers"
   ]
  },
  {
   "cell_type": "code",
   "execution_count": 30,
   "metadata": {},
   "outputs": [
    {
     "data": {
      "text/plain": [
       "<matplotlib.axes._subplots.AxesSubplot at 0x17d855a5358>"
      ]
     },
     "execution_count": 30,
     "metadata": {},
     "output_type": "execute_result"
    },
    {
     "data": {
      "image/png": "[encoded data removed]",
      "text/plain": [
       "<Figure size 432x288 with 1 Axes>"
      ]
     },
     "metadata": {
      "needs_background": "light"
     },
     "output_type": "display_data"
    }
   ],
   "source": [
    "sns.boxplot(x=cleaned_df['converted_pledged_amount'])"
   ]
  },
  {
   "cell_type": "code",
   "execution_count": 34,
   "metadata": {},
   "outputs": [
    {
     "data": {
      "text/plain": [
       "1           72\n",
       "2           36\n",
       "3           22\n",
       "4            7\n",
       "5           62\n",
       "6           34\n",
       "7           18\n",
       "8           26\n",
       "9           19\n",
       "10         172\n",
       "11          78\n",
       "12          35\n",
       "13          27\n",
       "14          20\n",
       "15          88\n",
       "16          61\n",
       "17          40\n",
       "18          32\n",
       "19          17\n",
       "20         164\n",
       "21          81\n",
       "22          56\n",
       "23          33\n",
       "24          31\n",
       "25         233\n",
       "26          95\n",
       "27          35\n",
       "28          32\n",
       "29          26\n",
       "30         132\n",
       "          ... \n",
       "2085491      1\n",
       "2200642      2\n",
       "2209270      1\n",
       "2277182      1\n",
       "2286193      2\n",
       "2344134      1\n",
       "2437429      1\n",
       "2530756      1\n",
       "2542045      1\n",
       "2575192      2\n",
       "2586421      2\n",
       "2650310      1\n",
       "2708472      1\n",
       "2785537      1\n",
       "2803249      2\n",
       "2804475      1\n",
       "2810127      1\n",
       "2950874      1\n",
       "2952508      1\n",
       "3091488      2\n",
       "3127299      2\n",
       "3139558      2\n",
       "3203762      1\n",
       "3401361      1\n",
       "3410084      2\n",
       "3538065      2\n",
       "3948547      1\n",
       "4013731      1\n",
       "4236618      1\n",
       "7850866      2\n",
       "Name: converted_pledged_amount, Length: 27561, dtype: int64"
      ]
     },
     "execution_count": 34,
     "metadata": {},
     "output_type": "execute_result"
    }
   ],
   "source": [
    "cleaned_df['converted_pledged_amount'].value_counts().sort_index()"
   ]
  },
  {
   "cell_type": "code",
   "execution_count": 31,
   "metadata": {},
   "outputs": [
    {
     "data": {
      "text/plain": [
       "<matplotlib.axes._subplots.AxesSubplot at 0x17d81c9ce80>"
      ]
     },
     "execution_count": 31,
     "metadata": {},
     "output_type": "execute_result"
    },
    {
     "data": {
      "image/png": "[encoded data removed]",
      "text/plain": [
       "<Figure size 432x288 with 1 Axes>"
      ]
     },
     "metadata": {
      "needs_background": "light"
     },
     "output_type": "display_data"
    }
   ],
   "source": [
    "sns.boxplot(x=cleaned_df['backers_count'])"
   ]
  },
  {
   "cell_type": "code",
   "execution_count": 32,
   "metadata": {},
   "outputs": [
    {
     "data": {
      "text/plain": [
       "<matplotlib.axes._subplots.AxesSubplot at 0x17d85374898>"
      ]
     },
     "execution_count": 32,
     "metadata": {},
     "output_type": "execute_result"
    },
    {
     "data": {
      "image/png": "[encoded data removed]",
      "text/plain": [
       "<Figure size 432x288 with 1 Axes>"
      ]
     },
     "metadata": {
      "needs_background": "light"
     },
     "output_type": "display_data"
    }
   ],
   "source": [
    "sns.boxplot(x=cleaned_df['goal'])"
   ]
  },
  {
   "cell_type": "markdown",
   "metadata": {},
   "source": [
    "# Binning"
   ]
  },
  {
   "cell_type": "code",
   "execution_count": 18,
   "metadata": {
    "scrolled": true
   },
   "outputs": [
    {
     "name": "stdout",
     "output_type": "stream",
     "text": [
      "(0.0, 1.0]                     72\n",
      "(1.0, 5.0]                    127\n",
      "(5.0, 10.0]                   269\n",
      "(10.0, 50.0]                 2496\n",
      "(50.0, 100.0]                2623\n",
      "(100.0, 2500.0]             43714\n",
      "(2500.0, 5000.0]            18964\n",
      "(5000.0, 10000.0]           19014\n",
      "(10000.0, 25000.0]          18044\n",
      "(25000.0, 50000.0]           6986\n",
      "(50000.0, 75000.0]           2474\n",
      "(75000.0, 100000.0]          1031\n",
      "(100000.0, 1000000.0]        3030\n",
      "(1000000.0, 10000000.0]       214\n",
      "(10000000.0, 15000000.0]        4\n",
      "(15000000.0, inf]               0\n",
      "Name: converted_pledged_amount, dtype: int64\n"
     ]
    }
   ],
   "source": [
    "#check range of 'converted_pledged_amount' column\n",
    "\n",
    "bins = [0, 1, 5, 10, 50, 100, 2500, 5000, 10000, 25000, 50000, 75000, 100000, 1000000, 10000000, 15000000, np.inf]\n",
    "pledged_bins = pd.cut(cleaned_df['converted_pledged_amount'], bins=bins).value_counts().sort_index()\n",
    "print (pledged_bins)"
   ]
  },
  {
   "cell_type": "code",
   "execution_count": 19,
   "metadata": {},
   "outputs": [
    {
     "name": "stdout",
     "output_type": "stream",
     "text": [
      "successful    218\n",
      "Name: state, dtype: int64\n",
      "\n",
      "\n",
      "What we find is that all of these outliers are successful - this is obvious since we are looking at money pledged to a campaign \n",
      " for the purpose of this project, these outliers will remain in our dataset.\n"
     ]
    }
   ],
   "source": [
    "#check what the 'converted pledged amount' values anove 1,000,000 reveal\n",
    "print(cleaned_df[cleaned_df['converted_pledged_amount']>1000000]['state'].value_counts())\n",
    "print('\\n')\n",
    "print('What we find is that all of these outliers are successful - this is obvious since we are looking at money pledged to a campaign \\n for the purpose of this project, these outliers will remain in our dataset.')"
   ]
  },
  {
   "cell_type": "code",
   "execution_count": 20,
   "metadata": {},
   "outputs": [
    {
     "name": "stdout",
     "output_type": "stream",
     "text": [
      "(0.0, 1.0]              1580\n",
      "(1.0, 10.0]            16358\n",
      "(10.0, 25.0]           18784\n",
      "(25.0, 50.0]           21413\n",
      "(50.0, 75.0]           14228\n",
      "(75.0, 100.0]           9223\n",
      "(100.0, 250.0]         21612\n",
      "(250.0, 500.0]          8044\n",
      "(500.0, 1000.0]         4030\n",
      "(1000.0, 10000.0]       3631\n",
      "(10000.0, 50000.0]       150\n",
      "(50000.0, 110000.0]        9\n",
      "(110000.0, inf]            0\n",
      "Name: backers_count, dtype: int64\n"
     ]
    }
   ],
   "source": [
    "#check range of 'backers_count' column\n",
    "\n",
    "bins = [0, 1, 10, 25, 50, 75, 100, 250, 500, 1000, 10000, 50000, 110000, np.inf]\n",
    "backers_bins = pd.cut(cleaned_df['backers_count'], bins=bins).value_counts().sort_index()\n",
    "print (backers_bins)"
   ]
  },
  {
   "cell_type": "code",
   "execution_count": 21,
   "metadata": {},
   "outputs": [
    {
     "name": "stdout",
     "output_type": "stream",
     "text": [
      "successful    159\n",
      "Name: state, dtype: int64\n",
      "\n",
      "\n",
      "Since this row shows the number of backers for each campaign, it makes sense that the higher the number \n",
      " the more successful the campaign is, therefore we will keep these outliers\n"
     ]
    }
   ],
   "source": [
    "#check what the 'converted pledged amount' values above 10,000 reveal\n",
    "print(cleaned_df[cleaned_df['backers_count']>10000]['state'].value_counts())\n",
    "print('\\n')\n",
    "print('Since this row shows the number of backers for each campaign, it makes sense that the higher the number \\n the more successful the campaign is, therefore we will keep these outliers')"
   ]
  },
  {
   "cell_type": "code",
   "execution_count": 22,
   "metadata": {},
   "outputs": [
    {
     "name": "stdout",
     "output_type": "stream",
     "text": [
      "(0.0, 1.5]                     187\n",
      "(1.5, 2.0]                       8\n",
      "(2.0, 5.0]                      48\n",
      "(5.0, 10.0]                    190\n",
      "(10.0, 50.0]                   805\n",
      "(50.0, 100.0]                 1620\n",
      "(100.0, 2500.0]              43743\n",
      "(2500.0, 5000.0]             24579\n",
      "(5000.0, 10000.0]            21026\n",
      "(10000.0, 25000.0]           16851\n",
      "(25000.0, 50000.0]            6924\n",
      "(50000.0, 75000.0]            1297\n",
      "(75000.0, 100000.0]            988\n",
      "(100000.0, 500000.0]           742\n",
      "(500000.0, 1000000.0]           40\n",
      "(1000000.0, 10000000.0]         13\n",
      "(10000000.0, 100000000.0]        0\n",
      "(100000000.0, inf]               0\n",
      "Name: goal, dtype: int64\n"
     ]
    }
   ],
   "source": [
    "#check range of 'goal' column\n",
    "bins = [0, 1.5, 2, 5, 10, 50, 100, 2500, 5000, 10000, 25000, 50000, 75000, 100000, 500000, 1000000, 10000000, 100000000, np.inf]\n",
    "goal_bins = pd.cut(cleaned_df['goal'], bins=bins).value_counts().sort_index()\n",
    "print (goal_bins)"
   ]
  },
  {
   "cell_type": "code",
   "execution_count": 23,
   "metadata": {},
   "outputs": [
    {
     "name": "stdout",
     "output_type": "stream",
     "text": [
      "successful    8\n",
      "failed        5\n",
      "Name: state, dtype: int64\n",
      "\n",
      "\n",
      "Clearly these are outliers and by looking at the rows and their [state] we can justify their removal from our data \n",
      " most of these campaigns are successful and must be sacrificed to maintain model accuracy.\n"
     ]
    }
   ],
   "source": [
    "#check what the 'goal' values above 1,000,000 reveal- are the campaigns mostly failures?\n",
    "print(cleaned_df[cleaned_df['goal']>1000000]['state'].value_counts())\n",
    "print('\\n')\n",
    "print('Clearly these are outliers and by looking at the rows and their [state] we can justify their removal from our data \\n most of these campaigns are successful and must be sacrificed to maintain model accuracy.')\n"
   ]
  },
  {
   "cell_type": "markdown",
   "metadata": {},
   "source": [
    "##### Let's check what other 'goal' bins reveal about the campaigns 'state'"
   ]
  },
  {
   "cell_type": "code",
   "execution_count": 24,
   "metadata": {},
   "outputs": [
    {
     "name": "stdout",
     "output_type": "stream",
     "text": [
      "successful    28\n",
      "failed        25\n",
      "Name: state, dtype: int64\n",
      "\n",
      "\n",
      "These values are outliers and will be removed from our dataset as they would affect our modelling accuracy\n"
     ]
    }
   ],
   "source": [
    "#check what the 'goal' values above 500,000 reveal\n",
    "print(cleaned_df[cleaned_df['goal']>500000]['state'].value_counts())\n",
    "print('\\n')\n",
    "print('These values are outliers and will be removed from our dataset as they would affect our modelling accuracy')\n"
   ]
  },
  {
   "cell_type": "markdown",
   "metadata": {},
   "source": [
    "##### Let's remove outliers that have a goal above 500,000"
   ]
  },
  {
   "cell_type": "code",
   "execution_count": 25,
   "metadata": {},
   "outputs": [
    {
     "data": {
      "text/plain": [
       "(118985, 22)"
      ]
     },
     "execution_count": 25,
     "metadata": {},
     "output_type": "execute_result"
    }
   ],
   "source": [
    "#drop rows with a goal above 500,000\n",
    "cleaned_df.drop(cleaned_df[cleaned_df['goal'] >= 500000 ].index , inplace=True)\n",
    "\n",
    "cleaned_df.shape"
   ]
  },
  {
   "cell_type": "markdown",
   "metadata": {},
   "source": [
    "### Histograms"
   ]
  },
  {
   "cell_type": "code",
   "execution_count": 26,
   "metadata": {},
   "outputs": [
    {
     "ename": "NameError",
     "evalue": "name 'numeric_df' is not defined",
     "output_type": "error",
     "traceback": [
      "\u001b[1;31m---------------------------------------------------------------------------\u001b[0m",
      "\u001b[1;31mNameError\u001b[0m                                 Traceback (most recent call last)",
      "\u001b[1;32m<ipython-input-26-58a5fc135069>\u001b[0m in \u001b[0;36m<module>\u001b[1;34m\u001b[0m\n\u001b[0;32m      1\u001b[0m \u001b[1;31m#plotting our histogram\u001b[0m\u001b[1;33m\u001b[0m\u001b[1;33m\u001b[0m\u001b[1;33m\u001b[0m\u001b[0m\n\u001b[1;32m----> 2\u001b[1;33m \u001b[0mnumeric_df\u001b[0m\u001b[1;33m.\u001b[0m\u001b[0mconverted_pledged_amount\u001b[0m\u001b[1;33m.\u001b[0m\u001b[0mvalue_counts\u001b[0m\u001b[1;33m(\u001b[0m\u001b[1;33m)\u001b[0m\u001b[1;33m.\u001b[0m\u001b[0mnlargest\u001b[0m\u001b[1;33m(\u001b[0m\u001b[1;36m40\u001b[0m\u001b[1;33m)\u001b[0m\u001b[1;33m.\u001b[0m\u001b[0mplot\u001b[0m\u001b[1;33m(\u001b[0m\u001b[0mkind\u001b[0m\u001b[1;33m=\u001b[0m\u001b[1;34m'bar'\u001b[0m\u001b[1;33m,\u001b[0m \u001b[0mfigsize\u001b[0m\u001b[1;33m=\u001b[0m\u001b[1;33m(\u001b[0m\u001b[1;36m10\u001b[0m\u001b[1;33m,\u001b[0m\u001b[1;36m5\u001b[0m\u001b[1;33m)\u001b[0m\u001b[1;33m)\u001b[0m\u001b[1;33m\u001b[0m\u001b[1;33m\u001b[0m\u001b[0m\n\u001b[0m\u001b[0;32m      3\u001b[0m \u001b[0mplt\u001b[0m\u001b[1;33m.\u001b[0m\u001b[0mtitle\u001b[0m\u001b[1;33m(\u001b[0m\u001b[1;34m'Pledge Amount by No. of Backers'\u001b[0m\u001b[1;33m)\u001b[0m\u001b[1;33m\u001b[0m\u001b[1;33m\u001b[0m\u001b[0m\n\u001b[0;32m      4\u001b[0m \u001b[0mplt\u001b[0m\u001b[1;33m.\u001b[0m\u001b[0mylabel\u001b[0m\u001b[1;33m(\u001b[0m\u001b[1;34m'Pledge Amount'\u001b[0m\u001b[1;33m)\u001b[0m\u001b[1;33m\u001b[0m\u001b[1;33m\u001b[0m\u001b[0m\n\u001b[0;32m      5\u001b[0m \u001b[0mplt\u001b[0m\u001b[1;33m.\u001b[0m\u001b[0mxlabel\u001b[0m\u001b[1;33m(\u001b[0m\u001b[1;34m'No. of Backers'\u001b[0m\u001b[1;33m)\u001b[0m\u001b[1;33m;\u001b[0m\u001b[1;33m\u001b[0m\u001b[1;33m\u001b[0m\u001b[0m\n",
      "\u001b[1;31mNameError\u001b[0m: name 'numeric_df' is not defined"
     ]
    }
   ],
   "source": [
    "#plotting our histogram\n",
    "numeric_df.converted_pledged_amount.value_counts().nlargest(40).plot(kind='bar', figsize=(10,5))\n",
    "plt.title('Pledge Amount by No. of Backers')\n",
    "plt.ylabel('Pledge Amount')\n",
    "plt.xlabel('No. of Backers');"
   ]
  },
  {
   "cell_type": "markdown",
   "metadata": {},
   "source": [
    "### Heat map"
   ]
  },
  {
   "cell_type": "code",
   "execution_count": null,
   "metadata": {},
   "outputs": [],
   "source": [
    "plt.figure(figsize=(20,10))\n",
    "c = cleaned_df.corr()\n",
    "sns.heatmap(c,cmap='BrBG',annot=True)\n",
    "c"
   ]
  },
  {
   "cell_type": "markdown",
   "metadata": {},
   "source": [
    "### Scatter plot"
   ]
  },
  {
   "cell_type": "code",
   "execution_count": null,
   "metadata": {},
   "outputs": [],
   "source": [
    "#plotting a scatter plot\n",
    "fig, ax = plt.subplots(figsize=(10,6))\n",
    "ax.scatter(numeric_df['backers_count'], numeric_df['goal'])\n",
    "ax.set_xlabel('No. of Backers')\n",
    "ax.set_ylabel('Goal')\n",
    "plt.show()"
   ]
  },
  {
   "cell_type": "code",
   "execution_count": null,
   "metadata": {
    "scrolled": true
   },
   "outputs": [],
   "source": [
    "numeric_df['backers_count'].value_counts()"
   ]
  },
  {
   "cell_type": "markdown",
   "metadata": {},
   "source": [
    "google scholar:\n",
    "\n",
    "\n",
    "https://towardsdatascience.com/using-machine-learning-to-predict-kickstarter-success-e371ab56a743\n",
    "\n",
    "https://towardsdatascience.com/predicting-the-success-of-kickstarter-campaigns-3f4a976419b9\n",
    "\n",
    "https://thehustle.co/archive/02102019d/\n",
    "\n",
    "https://www.theverge.com/2019/11/19/20971432/kickstarter-project-budget-funding-calculator-campaign-backers\n",
    "\n"
   ]
  }
 ],
 "metadata": {
  "kernelspec": {
   "display_name": "Python 3",
   "language": "python",
   "name": "python3"
  },
  "language_info": {
   "codemirror_mode": {
    "name": "ipython",
    "version": 3
   },
   "file_extension": ".py",
   "mimetype": "text/x-python",
   "name": "python",
   "nbconvert_exporter": "python",
   "pygments_lexer": "ipython3",
   "version": "3.7.4"
  }
 },
 "nbformat": 4,
 "nbformat_minor": 2
}
