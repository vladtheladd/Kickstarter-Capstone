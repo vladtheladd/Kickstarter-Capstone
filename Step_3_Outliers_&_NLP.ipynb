{
 "cells": [
  {
   "cell_type": "markdown",
   "metadata": {},
   "source": [
    "![logo](1_bDwEvCRgrKVbLrAXEixpfA.png)\n",
    "___"
   ]
  },
  {
   "cell_type": "markdown",
   "metadata": {},
   "source": [
    "##### import libraries"
   ]
  },
  {
   "cell_type": "code",
   "execution_count": 24,
   "metadata": {},
   "outputs": [
    {
     "name": "stderr",
     "output_type": "stream",
     "text": [
      "[nltk_data] Downloading package stopwords to\n",
      "[nltk_data]     C:\\Users\\vlad_\\AppData\\Roaming\\nltk_data...\n",
      "[nltk_data]   Package stopwords is already up-to-date!\n"
     ]
    }
   ],
   "source": [
    "import pandas as pd\n",
    "import numpy as np\n",
    "\n",
    "import seaborn as sns\n",
    "import matplotlib.pyplot as plt\n",
    "from scipy import stats\n",
    "%matplotlib inline \n",
    "sns.set(color_codes=True)\n",
    "\n",
    "import functools as ft\n",
    "\n",
    "#natural language processing\n",
    "#pip install nltk\n",
    "import nltk\n",
    "nltk.download('stopwords')\n",
    "from nltk.corpus import stopwords\n",
    "from nltk.stem.porter import PorterStemmer\n",
    "from nltk.stem import WordNetLemmatizer\n",
    "\n",
    "import re"
   ]
  },
  {
   "cell_type": "markdown",
   "metadata": {},
   "source": [
    "# Step 3 - Outliers & NLP\n",
    "    a) Importing data\n",
    "    \n",
    "    b) Success-percentage column\n",
    "        - check for outliers\n",
    "        \n",
    "    c) Checking for other outliers\n",
    "        i) goals\n",
    "       ii) converted_pledged_cmount\n",
    "      iii) backers_count\n",
    "        \n",
    "    d) Natural Language Processing\n",
    "        - cleaning blurb variable\n",
    "            - punctuation\n",
    "            - stopwords\n",
    "            - lemmatization\n",
    "        - writing and saving corpus"
   ]
  },
  {
   "cell_type": "markdown",
   "metadata": {},
   "source": [
    "### a) Importing data\n",
    "##### Use 'cleaned_data.csv' to begin cleaning"
   ]
  },
  {
   "cell_type": "code",
   "execution_count": 43,
   "metadata": {},
   "outputs": [
    {
     "name": "stdout",
     "output_type": "stream",
     "text": [
      "(149563, 21)\n"
     ]
    },
    {
     "data": {
      "text/html": [
       "<div>\n",
       "<style scoped>\n",
       "    .dataframe tbody tr th:only-of-type {\n",
       "        vertical-align: middle;\n",
       "    }\n",
       "\n",
       "    .dataframe tbody tr th {\n",
       "        vertical-align: top;\n",
       "    }\n",
       "\n",
       "    .dataframe thead th {\n",
       "        text-align: right;\n",
       "    }\n",
       "</style>\n",
       "<table border=\"1\" class=\"dataframe\">\n",
       "  <thead>\n",
       "    <tr style=\"text-align: right;\">\n",
       "      <th></th>\n",
       "      <th>id</th>\n",
       "      <th>name</th>\n",
       "      <th>genre</th>\n",
       "      <th>subgenre</th>\n",
       "      <th>category</th>\n",
       "      <th>source_url</th>\n",
       "      <th>blurb</th>\n",
       "      <th>slug</th>\n",
       "      <th>goal</th>\n",
       "      <th>converted_pledged_amount</th>\n",
       "      <th>...</th>\n",
       "      <th>launched_at</th>\n",
       "      <th>deadline</th>\n",
       "      <th>country</th>\n",
       "      <th>currency</th>\n",
       "      <th>backers_count</th>\n",
       "      <th>disable_communication</th>\n",
       "      <th>is_starrable</th>\n",
       "      <th>spotlight</th>\n",
       "      <th>staff_pick</th>\n",
       "      <th>state</th>\n",
       "    </tr>\n",
       "  </thead>\n",
       "  <tbody>\n",
       "    <tr>\n",
       "      <td>0</td>\n",
       "      <td>498799566</td>\n",
       "      <td>Strange Wit, an original graphic novel about J...</td>\n",
       "      <td>Graphic Novels</td>\n",
       "      <td>comics</td>\n",
       "      <td>{\"id\":252,\"name\":\"Graphic Novels\",\"slug\":\"comi...</td>\n",
       "      <td>https://www.kickstarter.com/discover/categorie...</td>\n",
       "      <td>The true biography of the historical figure, w...</td>\n",
       "      <td>strange-wit-an-original-graphic-novel-about-ja...</td>\n",
       "      <td>12000</td>\n",
       "      <td>14740</td>\n",
       "      <td>...</td>\n",
       "      <td>2015-08-15 04:19:27</td>\n",
       "      <td>2015-09-14 04:19:27</td>\n",
       "      <td>US</td>\n",
       "      <td>USD</td>\n",
       "      <td>403</td>\n",
       "      <td>0</td>\n",
       "      <td>0</td>\n",
       "      <td>1</td>\n",
       "      <td>1</td>\n",
       "      <td>successful</td>\n",
       "    </tr>\n",
       "  </tbody>\n",
       "</table>\n",
       "<p>1 rows × 21 columns</p>\n",
       "</div>"
      ],
      "text/plain": [
       "          id                                               name  \\\n",
       "0  498799566  Strange Wit, an original graphic novel about J...   \n",
       "\n",
       "            genre subgenre                                           category  \\\n",
       "0  Graphic Novels   comics  {\"id\":252,\"name\":\"Graphic Novels\",\"slug\":\"comi...   \n",
       "\n",
       "                                          source_url  \\\n",
       "0  https://www.kickstarter.com/discover/categorie...   \n",
       "\n",
       "                                               blurb  \\\n",
       "0  The true biography of the historical figure, w...   \n",
       "\n",
       "                                                slug   goal  \\\n",
       "0  strange-wit-an-original-graphic-novel-about-ja...  12000   \n",
       "\n",
       "   converted_pledged_amount  ...          launched_at             deadline  \\\n",
       "0                     14740  ...  2015-08-15 04:19:27  2015-09-14 04:19:27   \n",
       "\n",
       "  country currency backers_count  disable_communication  is_starrable  \\\n",
       "0      US      USD           403                      0             0   \n",
       "\n",
       "   spotlight  staff_pick       state  \n",
       "0          1           1  successful  \n",
       "\n",
       "[1 rows x 21 columns]"
      ]
     },
     "execution_count": 43,
     "metadata": {},
     "output_type": "execute_result"
    }
   ],
   "source": [
    "#import .csv file\n",
    "cleaned_df = pd.read_csv(\"cleaned_data.csv\")\n",
    "\n",
    "cleaned_df.drop(['Unnamed: 0'], axis=1, inplace=True)\n",
    "\n",
    "print(cleaned_df.shape)\n",
    "cleaned_df.head(1)"
   ]
  },
  {
   "cell_type": "markdown",
   "metadata": {},
   "source": [
    "##### Counts for 'state' column"
   ]
  },
  {
   "cell_type": "code",
   "execution_count": 44,
   "metadata": {},
   "outputs": [
    {
     "name": "stdout",
     "output_type": "stream",
     "text": [
      "successful    93849\n",
      "failed        55714\n",
      "Name: state, dtype: int64\n"
     ]
    }
   ],
   "source": [
    "print(cleaned_df['state'].value_counts())"
   ]
  },
  {
   "cell_type": "markdown",
   "metadata": {},
   "source": [
    "In our data, we have a good proportion of failed:successful campaigns so the steps below will explore these numbers in more detail in an attempt to filter our data. After countless iterations, I have decided that the most optimum range of outliers to remove are the bottom and top 10%. By creating the following success-percentage column, I will show this outlier removal and subsequent filtering as well as look at the other quantitative columns and their potential outliers."
   ]
  },
  {
   "cell_type": "markdown",
   "metadata": {},
   "source": [
    "### b) Success-Percentage Column\n",
    "Make a new column for success % (pledged amount / goal amount)"
   ]
  },
  {
   "cell_type": "code",
   "execution_count": 45,
   "metadata": {},
   "outputs": [],
   "source": [
    "#create column\n",
    "cleaned_df['success_percentage']=(cleaned_df['converted_pledged_amount'] / cleaned_df['goal']) * 100"
   ]
  },
  {
   "cell_type": "code",
   "execution_count": 46,
   "metadata": {},
   "outputs": [
    {
     "name": "stdout",
     "output_type": "stream",
     "text": [
      "null: 0\n",
      "na: 0\n",
      "\n",
      "\n",
      "inf: False    149562\n",
      "True          1\n",
      "Name: success_percentage, dtype: int64\n"
     ]
    }
   ],
   "source": [
    "#finding the missing and infinite values\n",
    "print('null:', cleaned_df['success_percentage'].isnull().sum())\n",
    "print('na:', cleaned_df['success_percentage'].isna().sum())\n",
    "print('\\n')\n",
    "print('inf:', np.isinf(cleaned_df[\"success_percentage\"]).value_counts())"
   ]
  },
  {
   "cell_type": "code",
   "execution_count": 47,
   "metadata": {},
   "outputs": [
    {
     "name": "stdout",
     "output_type": "stream",
     "text": [
      "Int64Index([118304], dtype='int64')\n",
      "\n",
      "\n",
      "Row 118304 \"success_percentage\" value: inf\n"
     ]
    }
   ],
   "source": [
    "#locate the row in which the inf value is present (last column == 'inf')\n",
    "print(cleaned_df.index[np.isinf(cleaned_df['success_percentage'])])\n",
    "print('\\n')\n",
    "print('Row 118304 \"success_percentage\" value:', cleaned_df['success_percentage'].iloc[118304])"
   ]
  },
  {
   "cell_type": "code",
   "execution_count": 48,
   "metadata": {},
   "outputs": [
    {
     "name": "stdout",
     "output_type": "stream",
     "text": [
      "dataframe shape:  (149562, 22)\n"
     ]
    }
   ],
   "source": [
    "#drop the row with inf value\n",
    "cleaned_df.drop(cleaned_df.index[118304], inplace=True)\n",
    "\n",
    "#reset index\n",
    "cleaned_df.reset_index(drop=True,inplace=True)\n",
    "\n",
    "## total number of rows and columns\n",
    "print('dataframe shape: ', cleaned_df.shape)"
   ]
  },
  {
   "cell_type": "code",
   "execution_count": 49,
   "metadata": {
    "scrolled": true
   },
   "outputs": [
    {
     "data": {
      "text/plain": [
       "<matplotlib.axes._subplots.AxesSubplot at 0x18d29641988>"
      ]
     },
     "execution_count": 49,
     "metadata": {},
     "output_type": "execute_result"
    },
    {
     "data": {
      "image/png": "[encoded data removed]",
      "text/plain": [
       "<Figure size 432x288 with 1 Axes>"
      ]
     },
     "metadata": {},
     "output_type": "display_data"
    }
   ],
   "source": [
    "#make a boxplot of 'success_percentage' column\n",
    "sns.boxplot(x=cleaned_df['success_percentage'])"
   ]
  },
  {
   "cell_type": "code",
   "execution_count": 50,
   "metadata": {},
   "outputs": [
    {
     "name": "stdout",
     "output_type": "stream",
     "text": [
      "Length of dataframe: 104566\n"
     ]
    }
   ],
   "source": [
    "#find 15% and 85% quartile values\n",
    "a = cleaned_df.success_percentage.quantile(0.85)\n",
    "b = cleaned_df.success_percentage.quantile(0.15)\n",
    "\n",
    "#filter data based on quartile value\n",
    "cleaned_df = cleaned_df[cleaned_df.success_percentage < a]\n",
    "cleaned_df = cleaned_df[cleaned_df.success_percentage > b]\n",
    "\n",
    "print('Length of dataframe:', len(cleaned_df['success_percentage']))"
   ]
  },
  {
   "cell_type": "code",
   "execution_count": 51,
   "metadata": {},
   "outputs": [
    {
     "data": {
      "text/plain": [
       "array([[<matplotlib.axes._subplots.AxesSubplot object at 0x0000018D14C30F08>]],\n",
       "      dtype=object)"
      ]
     },
     "execution_count": 51,
     "metadata": {},
     "output_type": "execute_result"
    },
    {
     "data": {
      "image/png": "[encoded data removed]",
      "text/plain": [
       "<Figure size 432x288 with 1 Axes>"
      ]
     },
     "metadata": {},
     "output_type": "display_data"
    }
   ],
   "source": [
    "cleaned_df.hist(column='success_percentage')"
   ]
  },
  {
   "cell_type": "code",
   "execution_count": 52,
   "metadata": {},
   "outputs": [
    {
     "data": {
      "image/png": "[encoded data removed]",
      "text/plain": [
       "<Figure size 432x288 with 1 Axes>"
      ]
     },
     "metadata": {},
     "output_type": "display_data"
    }
   ],
   "source": [
    "y = cleaned_df['state']\n",
    "x = cleaned_df['success_percentage']\n",
    "\n",
    "plt.scatter(x, y)\n",
    "plt.show()"
   ]
  },
  {
   "cell_type": "code",
   "execution_count": 53,
   "metadata": {},
   "outputs": [
    {
     "name": "stdout",
     "output_type": "stream",
     "text": [
      "Our boxplot is starting to look more like a box now.\n"
     ]
    },
    {
     "data": {
      "image/png": "[encoded data removed]",
      "text/plain": [
       "<Figure size 432x288 with 1 Axes>"
      ]
     },
     "metadata": {},
     "output_type": "display_data"
    }
   ],
   "source": [
    "sns.boxplot(x=cleaned_df['success_percentage'])\n",
    "print('Our boxplot is starting to look more like a box now.')"
   ]
  },
  {
   "cell_type": "code",
   "execution_count": 54,
   "metadata": {},
   "outputs": [
    {
     "name": "stdout",
     "output_type": "stream",
     "text": [
      "successful    71411\n",
      "failed        33155\n",
      "Name: state, dtype: int64\n"
     ]
    }
   ],
   "source": [
    "print(cleaned_df['state'].value_counts())"
   ]
  },
  {
   "cell_type": "markdown",
   "metadata": {},
   "source": [
    "### c) Checking for other outliers"
   ]
  },
  {
   "cell_type": "markdown",
   "metadata": {},
   "source": [
    "Since we already removed outliers from the success-percentage column, removing more outliers from either goal and converted_pledged_amount would be redudant. Therefore, I will only turn my attention to removing outliers from the remaining quantitative variable: backers_count"
   ]
  },
  {
   "cell_type": "markdown",
   "metadata": {},
   "source": [
    "##### backers count"
   ]
  },
  {
   "cell_type": "code",
   "execution_count": 55,
   "metadata": {},
   "outputs": [
    {
     "data": {
      "text/plain": [
       "<matplotlib.axes._subplots.AxesSubplot at 0x18d149c1488>"
      ]
     },
     "execution_count": 55,
     "metadata": {},
     "output_type": "execute_result"
    },
    {
     "data": {
      "image/png": "[encoded data removed]",
      "text/plain": [
       "<Figure size 432x288 with 1 Axes>"
      ]
     },
     "metadata": {},
     "output_type": "display_data"
    }
   ],
   "source": [
    "sns.boxplot(x=cleaned_df['backers_count'])"
   ]
  },
  {
   "cell_type": "code",
   "execution_count": 56,
   "metadata": {},
   "outputs": [
    {
     "data": {
      "text/plain": [
       "array([[<matplotlib.axes._subplots.AxesSubplot object at 0x0000018D14B5DE08>]],\n",
       "      dtype=object)"
      ]
     },
     "execution_count": 56,
     "metadata": {},
     "output_type": "execute_result"
    },
    {
     "data": {
      "image/png": "[encoded data removed]",
      "text/plain": [
       "<Figure size 432x288 with 1 Axes>"
      ]
     },
     "metadata": {},
     "output_type": "display_data"
    }
   ],
   "source": [
    "cleaned_df.hist(column='backers_count')"
   ]
  },
  {
   "cell_type": "code",
   "execution_count": 57,
   "metadata": {},
   "outputs": [
    {
     "name": "stdout",
     "output_type": "stream",
     "text": [
      "Length of dataframe: 77926\n"
     ]
    }
   ],
   "source": [
    "#find 10% and 90% quartile values\n",
    "a = cleaned_df.backers_count.quantile(0.85)\n",
    "b = cleaned_df.backers_count.quantile(0.10)\n",
    "\n",
    "#filter data based on quartile value\n",
    "cleaned_df = cleaned_df[cleaned_df.backers_count < a]\n",
    "cleaned_df = cleaned_df[cleaned_df.backers_count > b]\n",
    "\n",
    "print('Length of dataframe:', len(cleaned_df['backers_count']))"
   ]
  },
  {
   "cell_type": "code",
   "execution_count": 58,
   "metadata": {},
   "outputs": [
    {
     "data": {
      "text/plain": [
       "array([[<matplotlib.axes._subplots.AxesSubplot object at 0x0000018D14B85F88>]],\n",
       "      dtype=object)"
      ]
     },
     "execution_count": 58,
     "metadata": {},
     "output_type": "execute_result"
    },
    {
     "data": {
      "image/png": "[encoded data removed]",
      "text/plain": [
       "<Figure size 432x288 with 1 Axes>"
      ]
     },
     "metadata": {},
     "output_type": "display_data"
    }
   ],
   "source": [
    "cleaned_df.hist(column='backers_count')"
   ]
  },
  {
   "cell_type": "code",
   "execution_count": 59,
   "metadata": {},
   "outputs": [
    {
     "data": {
      "text/plain": [
       "<matplotlib.axes._subplots.AxesSubplot at 0x18d14c95cc8>"
      ]
     },
     "execution_count": 59,
     "metadata": {},
     "output_type": "execute_result"
    },
    {
     "data": {
      "image/png": "[encoded data removed]",
      "text/plain": [
       "<Figure size 432x288 with 1 Axes>"
      ]
     },
     "metadata": {},
     "output_type": "display_data"
    }
   ],
   "source": [
    "sns.boxplot(x=cleaned_df['backers_count'])"
   ]
  },
  {
   "cell_type": "code",
   "execution_count": 60,
   "metadata": {},
   "outputs": [
    {
     "name": "stdout",
     "output_type": "stream",
     "text": [
      "successful    55682\n",
      "failed        22244\n",
      "Name: state, dtype: int64\n"
     ]
    }
   ],
   "source": [
    "#check range of data\n",
    "print(cleaned_df['state'].value_counts())"
   ]
  },
  {
   "cell_type": "code",
   "execution_count": 61,
   "metadata": {},
   "outputs": [],
   "source": [
    "#reset index\n",
    "cleaned_df.reset_index(drop=True,inplace=True)"
   ]
  },
  {
   "cell_type": "markdown",
   "metadata": {},
   "source": [
    "### f) Natural Language Processing"
   ]
  },
  {
   "cell_type": "markdown",
   "metadata": {},
   "source": [
    "##### Clean the first row to check"
   ]
  },
  {
   "cell_type": "code",
   "execution_count": 63,
   "metadata": {},
   "outputs": [
    {
     "data": {
      "text/plain": [
       "'Educating my community about self-sufficiency and building basics through constructing a tiny house.'"
      ]
     },
     "execution_count": 63,
     "metadata": {},
     "output_type": "execute_result"
    }
   ],
   "source": [
    "#create 'text' variable of every blurb description\n",
    "text = pd.DataFrame(cleaned_df['blurb'])\n",
    "\n",
    "#lets clean the first blurb as a first step\n",
    "text['blurb'][0]"
   ]
  },
  {
   "cell_type": "code",
   "execution_count": 64,
   "metadata": {},
   "outputs": [
    {
     "data": {
      "text/plain": [
       "'educating community self sufficiency building basic constructing tiny house'"
      ]
     },
     "execution_count": 64,
     "metadata": {},
     "output_type": "execute_result"
    }
   ],
   "source": [
    "#only keep letters and replace other symbols with a white space in the first blurb\n",
    "blurb = re.sub('[^a-zA-Z]', ' ', text['blurb'][0])\n",
    "\n",
    "#change letters to lower-case\n",
    "blurb = blurb.lower()   \n",
    "\n",
    "#split the first blurb which is a string into list\n",
    "blurb = blurb.split()\n",
    "\n",
    "#for loop to remove stop-words and to do lemmatization\n",
    "wn = WordNetLemmatizer()\n",
    "blurb = [wn.lemmatize(word) for word in blurb if not word in set(stopwords.words('english'))]\n",
    "\n",
    "#join blurb back into a string from a list\n",
    "blurb = ' '.join(blurb)\n",
    "\n",
    "blurb"
   ]
  },
  {
   "cell_type": "markdown",
   "metadata": {},
   "source": [
    "### Clean the entire 'blurb' column"
   ]
  },
  {
   "cell_type": "code",
   "execution_count": 65,
   "metadata": {},
   "outputs": [],
   "source": [
    "length = len(pd.DataFrame(cleaned_df['blurb']))"
   ]
  },
  {
   "cell_type": "code",
   "execution_count": 66,
   "metadata": {},
   "outputs": [],
   "source": [
    "corpus = []\n",
    "for i in range(0, length):\n",
    "    #only keep letters and replace other symbols with a white space in the first blurb\n",
    "    blurb = re.sub('[^a-zA-Z]', ' ', text['blurb'][i])\n",
    "\n",
    "    #change letters to lower-case\n",
    "    blurb = blurb.lower()   \n",
    "    #split\n",
    "    blurb = blurb.split()\n",
    "    #for loop to remove stop-words and to do stemming\n",
    "    wn = WordNetLemmatizer()\n",
    "    blurb = [wn.lemmatize(word) for word in blurb if not word in set(stopwords.words('english'))]\n",
    "    #join blurb back into a string from a list\n",
    "    blurb = ' '.join(blurb)\n",
    "    corpus.append(blurb)"
   ]
  },
  {
   "cell_type": "code",
   "execution_count": 67,
   "metadata": {},
   "outputs": [
    {
     "data": {
      "text/html": [
       "<div>\n",
       "<style scoped>\n",
       "    .dataframe tbody tr th:only-of-type {\n",
       "        vertical-align: middle;\n",
       "    }\n",
       "\n",
       "    .dataframe tbody tr th {\n",
       "        vertical-align: top;\n",
       "    }\n",
       "\n",
       "    .dataframe thead th {\n",
       "        text-align: right;\n",
       "    }\n",
       "</style>\n",
       "<table border=\"1\" class=\"dataframe\">\n",
       "  <thead>\n",
       "    <tr style=\"text-align: right;\">\n",
       "      <th></th>\n",
       "      <th>blurb</th>\n",
       "    </tr>\n",
       "  </thead>\n",
       "  <tbody>\n",
       "    <tr>\n",
       "      <td>0</td>\n",
       "      <td>educating community self sufficiency building ...</td>\n",
       "    </tr>\n",
       "    <tr>\n",
       "      <td>1</td>\n",
       "      <td>thema literary society proposes publish one th...</td>\n",
       "    </tr>\n",
       "    <tr>\n",
       "      <td>2</td>\n",
       "      <td>collection hand lettered thing say idea sentim...</td>\n",
       "    </tr>\n",
       "    <tr>\n",
       "      <td>3</td>\n",
       "      <td>genesis follows mother son live together forei...</td>\n",
       "    </tr>\n",
       "    <tr>\n",
       "      <td>4</td>\n",
       "      <td>help u bring art culture ballet community cent...</td>\n",
       "    </tr>\n",
       "  </tbody>\n",
       "</table>\n",
       "</div>"
      ],
      "text/plain": [
       "                                               blurb\n",
       "0  educating community self sufficiency building ...\n",
       "1  thema literary society proposes publish one th...\n",
       "2  collection hand lettered thing say idea sentim...\n",
       "3  genesis follows mother son live together forei...\n",
       "4  help u bring art culture ballet community cent..."
      ]
     },
     "execution_count": 67,
     "metadata": {},
     "output_type": "execute_result"
    }
   ],
   "source": [
    "#write corpus array into a dataframe and save it to a csv for importing into the Step 4 (Classification)\n",
    "corpus_df = pd.DataFrame(corpus, columns = ['blurb'])\n",
    "corpus_df.head()"
   ]
  },
  {
   "cell_type": "markdown",
   "metadata": {},
   "source": [
    "### End of Step 3"
   ]
  },
  {
   "cell_type": "code",
   "execution_count": 68,
   "metadata": {},
   "outputs": [],
   "source": [
    "#write corpus_df to a .csv\n",
    "corpus_df.to_csv('corpus_data.csv')"
   ]
  },
  {
   "cell_type": "code",
   "execution_count": 69,
   "metadata": {},
   "outputs": [],
   "source": [
    "#write cleaned cleaned_df to a .csv\n",
    "cleaned_df.to_csv('cleaned2_data.csv')"
   ]
  },
  {
   "cell_type": "code",
   "execution_count": null,
   "metadata": {},
   "outputs": [],
   "source": []
  }
 ],
 "metadata": {
  "kernelspec": {
   "display_name": "Python 3",
   "language": "python",
   "name": "python3"
  },
  "language_info": {
   "codemirror_mode": {
    "name": "ipython",
    "version": 3
   },
   "file_extension": ".py",
   "mimetype": "text/x-python",
   "name": "python",
   "nbconvert_exporter": "python",
   "pygments_lexer": "ipython3",
   "version": "3.7.4"
  }
 },
 "nbformat": 4,
 "nbformat_minor": 2
}
