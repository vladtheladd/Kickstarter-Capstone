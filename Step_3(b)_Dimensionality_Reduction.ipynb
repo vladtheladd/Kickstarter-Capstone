{
 "cells": [
  {
   "cell_type": "markdown",
   "metadata": {},
   "source": [
    "![logo](1_bDwEvCRgrKVbLrAXEixpfA.png)\n",
    "___"
   ]
  },
  {
   "cell_type": "markdown",
   "metadata": {},
   "source": [
    "##### import libraries"
   ]
  },
  {
   "cell_type": "code",
   "execution_count": 81,
   "metadata": {},
   "outputs": [],
   "source": [
    "import pandas as pd\n",
    "import numpy as np\n",
    "import re\n",
    "import statsmodels.api as sm\n",
    "import functools as ft\n",
    "\n",
    "import seaborn as sns\n",
    "import matplotlib.pyplot as plt\n",
    "from scipy import stats\n",
    "%matplotlib inline \n",
    "sns.set(color_codes=True)\n",
    "\n",
    "from sklearn.linear_model import RidgeCV, LassoCV, Ridge, Lasso\n",
    "from sklearn.feature_selection import VarianceThreshold\n",
    "from sklearn.model_selection import train_test_split\n",
    "from sklearn.preprocessing import StandardScaler\n",
    "from sklearn.decomposition import PCA\n"
   ]
  },
  {
   "cell_type": "markdown",
   "metadata": {},
   "source": [
    "# Step 3(b) - Dimensionality Reduction\n",
    "    a) Importing data\n",
    "    b) Variance Threshold\n",
    "    c) Backwards Elimination\n",
    "    d) Principal Component Analysis"
   ]
  },
  {
   "cell_type": "markdown",
   "metadata": {},
   "source": [
    "### a) Importing data\n",
    "##### Use 'cleaned_data.csv' to begin cleaning"
   ]
  },
  {
   "cell_type": "code",
   "execution_count": 86,
   "metadata": {},
   "outputs": [
    {
     "name": "stdout",
     "output_type": "stream",
     "text": [
      "(10062, 22)\n"
     ]
    },
    {
     "data": {
      "text/html": [
       "<div>\n",
       "<style scoped>\n",
       "    .dataframe tbody tr th:only-of-type {\n",
       "        vertical-align: middle;\n",
       "    }\n",
       "\n",
       "    .dataframe tbody tr th {\n",
       "        vertical-align: top;\n",
       "    }\n",
       "\n",
       "    .dataframe thead th {\n",
       "        text-align: right;\n",
       "    }\n",
       "</style>\n",
       "<table border=\"1\" class=\"dataframe\">\n",
       "  <thead>\n",
       "    <tr style=\"text-align: right;\">\n",
       "      <th></th>\n",
       "      <th>id</th>\n",
       "      <th>name</th>\n",
       "      <th>genre</th>\n",
       "      <th>subgenre</th>\n",
       "      <th>category</th>\n",
       "      <th>source_url</th>\n",
       "      <th>blurb</th>\n",
       "      <th>slug</th>\n",
       "      <th>goal</th>\n",
       "      <th>converted_pledged_amount</th>\n",
       "      <th>...</th>\n",
       "      <th>deadline</th>\n",
       "      <th>country</th>\n",
       "      <th>currency</th>\n",
       "      <th>backers_count</th>\n",
       "      <th>disable_communication</th>\n",
       "      <th>is_starrable</th>\n",
       "      <th>spotlight</th>\n",
       "      <th>staff_pick</th>\n",
       "      <th>state</th>\n",
       "      <th>success_percentage</th>\n",
       "    </tr>\n",
       "  </thead>\n",
       "  <tbody>\n",
       "    <tr>\n",
       "      <td>0</td>\n",
       "      <td>656694037</td>\n",
       "      <td>The Treehouse at Cornell</td>\n",
       "      <td>Architecture</td>\n",
       "      <td>design</td>\n",
       "      <td>{\"id\":258,\"name\":\"Architecture\",\"slug\":\"design...</td>\n",
       "      <td>https://www.kickstarter.com/discover/categorie...</td>\n",
       "      <td>The Treehouse at Cornell takes architecture to...</td>\n",
       "      <td>the-treehouse-at-cornell</td>\n",
       "      <td>5000</td>\n",
       "      <td>1990</td>\n",
       "      <td>...</td>\n",
       "      <td>2014-04-29 16:32:09</td>\n",
       "      <td>US</td>\n",
       "      <td>USD</td>\n",
       "      <td>35</td>\n",
       "      <td>0</td>\n",
       "      <td>0</td>\n",
       "      <td>0</td>\n",
       "      <td>1</td>\n",
       "      <td>failed</td>\n",
       "      <td>39.8</td>\n",
       "    </tr>\n",
       "  </tbody>\n",
       "</table>\n",
       "<p>1 rows × 22 columns</p>\n",
       "</div>"
      ],
      "text/plain": [
       "          id                      name         genre subgenre  \\\n",
       "0  656694037  The Treehouse at Cornell  Architecture   design   \n",
       "\n",
       "                                            category  \\\n",
       "0  {\"id\":258,\"name\":\"Architecture\",\"slug\":\"design...   \n",
       "\n",
       "                                          source_url  \\\n",
       "0  https://www.kickstarter.com/discover/categorie...   \n",
       "\n",
       "                                               blurb  \\\n",
       "0  The Treehouse at Cornell takes architecture to...   \n",
       "\n",
       "                       slug  goal  converted_pledged_amount  ...  \\\n",
       "0  the-treehouse-at-cornell  5000                      1990  ...   \n",
       "\n",
       "              deadline country currency backers_count disable_communication  \\\n",
       "0  2014-04-29 16:32:09      US      USD            35                     0   \n",
       "\n",
       "   is_starrable  spotlight  staff_pick   state  success_percentage  \n",
       "0             0          0           1  failed                39.8  \n",
       "\n",
       "[1 rows x 22 columns]"
      ]
     },
     "execution_count": 86,
     "metadata": {},
     "output_type": "execute_result"
    }
   ],
   "source": [
    "#import .csv file\n",
    "cleaned2_df = pd.read_csv(\"cleaned2_data.csv\")\n",
    "\n",
    "cleaned2_df.drop(['Unnamed: 0'], axis=1, inplace=True)\n",
    "\n",
    "print(cleaned2_df.shape)\n",
    "cleaned2_df.head(1)"
   ]
  },
  {
   "cell_type": "markdown",
   "metadata": {},
   "source": [
    "### b) Variance Threshold"
   ]
  },
  {
   "cell_type": "code",
   "execution_count": 87,
   "metadata": {},
   "outputs": [],
   "source": [
    "#splitting the data into X and Y / separating the predictor variable \n",
    "#leaving only the numeric variables\n",
    "\n",
    "X = cleaned2_df.filter(['id',\n",
    "                       'goal',\n",
    "                       'coverted_pledged_amount',\n",
    "                       'country',\n",
    "                       'currency',\n",
    "                       'backers_count',\n",
    "                       'disable_communication',\n",
    "                       'is_starrable',\n",
    "                       'spotlight',\n",
    "                       'staff_pick',\n",
    "                       'success_percentage'], axis=1)\n",
    "y = cleaned2_df['state']          "
   ]
  },
  {
   "cell_type": "code",
   "execution_count": 88,
   "metadata": {},
   "outputs": [
    {
     "name": "stdout",
     "output_type": "stream",
     "text": [
      "['US' 'CA']\n",
      "['USD' 'CAD']\n",
      "\n",
      "\n",
      "[1 0]\n",
      "[1 0]\n"
     ]
    }
   ],
   "source": [
    "print(X.country.unique())\n",
    "print(X.currency.unique())\n",
    "\n",
    "#replace US/USD & CA/CAN with 1 & 0 respentively\n",
    "\n",
    "X.country.replace(['US', 'CA'], [1, 0], inplace=True)\n",
    "X.currency.replace(['USD', 'CAD'], [1, 0], inplace=True)\n",
    "\n",
    "print('\\n')\n",
    "print(X.country.unique())\n",
    "print(X.currency.unique())"
   ]
  },
  {
   "cell_type": "code",
   "execution_count": 89,
   "metadata": {},
   "outputs": [
    {
     "name": "stdout",
     "output_type": "stream",
     "text": [
      "['failed' 'successful']\n",
      "\n",
      "\n",
      "[0 1]\n"
     ]
    }
   ],
   "source": [
    "print(y.unique())\n",
    "\n",
    "#replace successful/failed with 1 & 0 respentively\n",
    "y.replace(['successful', 'failed'], [1, 0], inplace=True)\n",
    "\n",
    "print('\\n')\n",
    "print(y.unique())"
   ]
  },
  {
   "cell_type": "code",
   "execution_count": 90,
   "metadata": {},
   "outputs": [],
   "source": [
    "#testing for the threshold of 0.5\n",
    "thresh = 0.5\n",
    "selector = VarianceThreshold(threshold=thresh)\n",
    "vt = selector.fit_transform(X)"
   ]
  },
  {
   "cell_type": "code",
   "execution_count": 91,
   "metadata": {},
   "outputs": [
    {
     "name": "stdout",
     "output_type": "stream",
     "text": [
      "['country', 'currency', 'disable_communication', 'is_starrable', 'spotlight', 'staff_pick']\n",
      "6\n"
     ]
    }
   ],
   "source": [
    "#all the columns the Variance Threshold is removing\n",
    "VarElim = (X.columns.difference(X.loc[:, selector.get_support()].columns)).tolist()\n",
    "print(VarElim)\n",
    "print(len(VarElim))"
   ]
  },
  {
   "cell_type": "markdown",
   "metadata": {},
   "source": [
    "### c) Backward Elimination"
   ]
  },
  {
   "cell_type": "code",
   "execution_count": 92,
   "metadata": {},
   "outputs": [
    {
     "name": "stdout",
     "output_type": "stream",
     "text": [
      "const                    float64\n",
      "id                         int64\n",
      "goal                       int64\n",
      "country                    int64\n",
      "currency                   int64\n",
      "backers_count              int64\n",
      "disable_communication      int64\n",
      "is_starrable               int64\n",
      "spotlight                  int64\n",
      "staff_pick                 int64\n",
      "success_percentage       float64\n",
      "dtype: object\n"
     ]
    },
    {
     "name": "stderr",
     "output_type": "stream",
     "text": [
      "C:\\Users\\vlad_\\Anaconda3\\lib\\site-packages\\numpy\\core\\fromnumeric.py:2389: FutureWarning: Method .ptp is deprecated and will be removed in a future version. Use numpy.ptp instead.\n",
      "  return ptp(axis=axis, out=out, **kwargs)\n"
     ]
    }
   ],
   "source": [
    "#adding constant column of ones, mandatory for sm.OLS model\n",
    "X_1 = sm.add_constant(X)\n",
    "print(X_1.dtypes)"
   ]
  },
  {
   "cell_type": "code",
   "execution_count": 93,
   "metadata": {},
   "outputs": [
    {
     "data": {
      "text/plain": [
       "id                       0.000000\n",
       "disable_communication    0.000000\n",
       "is_starrable             0.000000\n",
       "spotlight                0.000000\n",
       "country                  0.580668\n",
       "currency                 0.596364\n",
       "backers_count            0.721915\n",
       "const                    0.744655\n",
       "goal                     0.767166\n",
       "staff_pick               0.945059\n",
       "success_percentage       0.965811\n",
       "dtype: float64"
      ]
     },
     "execution_count": 93,
     "metadata": {},
     "output_type": "execute_result"
    }
   ],
   "source": [
    "#fitting sm model\n",
    "model = sm.OLS(y,X_1).fit()\n",
    "model.pvalues.sort_values()"
   ]
  },
  {
   "cell_type": "code",
   "execution_count": 94,
   "metadata": {},
   "outputs": [
    {
     "name": "stdout",
     "output_type": "stream",
     "text": [
      "['disable_communication', 'is_starrable', 'spotlight']\n",
      "3\n"
     ]
    },
    {
     "name": "stderr",
     "output_type": "stream",
     "text": [
      "C:\\Users\\vlad_\\Anaconda3\\lib\\site-packages\\statsmodels\\base\\model.py:1294: RuntimeWarning: invalid value encountered in true_divide\n",
      "  return self.params / self.bse\n",
      "C:\\Users\\vlad_\\Anaconda3\\lib\\site-packages\\scipy\\stats\\_distn_infrastructure.py:901: RuntimeWarning: invalid value encountered in greater\n",
      "  return (a < x) & (x < b)\n",
      "C:\\Users\\vlad_\\Anaconda3\\lib\\site-packages\\scipy\\stats\\_distn_infrastructure.py:901: RuntimeWarning: invalid value encountered in less\n",
      "  return (a < x) & (x < b)\n",
      "C:\\Users\\vlad_\\Anaconda3\\lib\\site-packages\\scipy\\stats\\_distn_infrastructure.py:1892: RuntimeWarning: invalid value encountered in less_equal\n",
      "  cond2 = cond0 & (x <= _a)\n"
     ]
    }
   ],
   "source": [
    "#Backward Elimination\n",
    "cols = list(X.columns)\n",
    "pmax = 1\n",
    "while (len(cols)>0):\n",
    "    p= []\n",
    "    X_1 = X[cols]\n",
    "    X_1 = sm.add_constant(X_1)\n",
    "    model = sm.OLS(y,X_1).fit()\n",
    "    p = pd.Series(model.pvalues.values[1:],index = cols)      \n",
    "    pmax = max(p)\n",
    "    feature_with_p_max = p.idxmax()\n",
    "    if(pmax>0.05):\n",
    "        cols.remove(feature_with_p_max)\n",
    "    else:\n",
    "        break\n",
    "selected_features_BE = cols\n",
    "print(selected_features_BE)\n",
    "print(len(selected_features_BE))"
   ]
  },
  {
   "cell_type": "markdown",
   "metadata": {},
   "source": [
    "### d) Principal Component Analysis"
   ]
  },
  {
   "cell_type": "code",
   "execution_count": 102,
   "metadata": {},
   "outputs": [],
   "source": [
    "#splitting data into training and test sets\n",
    "X_train, X_test, y_train, y_test = train_test_split(X, y, test_size=0.20, random_state=0)"
   ]
  },
  {
   "cell_type": "code",
   "execution_count": 103,
   "metadata": {},
   "outputs": [],
   "source": [
    "#feature scaling\n",
    "sc = StandardScaler()\n",
    "X_train = sc.fit_transform(X_train)\n",
    "X_test = sc.transform(X_test)"
   ]
  },
  {
   "cell_type": "code",
   "execution_count": 104,
   "metadata": {},
   "outputs": [],
   "source": [
    "#apply PCA\n",
    "pca = PCA(n_components = None)\n",
    "X_train = pca.fit_transform(X_train)\n",
    "X_test = pca.transform(X_test)"
   ]
  },
  {
   "cell_type": "code",
   "execution_count": 105,
   "metadata": {},
   "outputs": [
    {
     "name": "stdout",
     "output_type": "stream",
     "text": [
      "[3.29439944e-01 2.30647346e-01 1.51070812e-01 1.24964949e-01\n",
      " 1.06047032e-01 4.82458643e-02 9.58405351e-03 6.27688161e-33\n",
      " 1.42531557e-34 7.90437220e-40]\n",
      "10\n"
     ]
    }
   ],
   "source": [
    "exp_variance = pca.explained_variance_ratio_\n",
    "print(exp_variance)\n",
    "print (np.count_nonzero(exp_variance))"
   ]
  },
  {
   "cell_type": "code",
   "execution_count": 106,
   "metadata": {},
   "outputs": [
    {
     "name": "stdout",
     "output_type": "stream",
     "text": [
      "0   0\n",
      "1   0.32943994414858047\n",
      "2   0.5600872898194567\n",
      "3   0.7111581016783843\n",
      "4   0.8361230502913168\n",
      "5   0.9421700822171512\n",
      "6   0.990415946489143\n",
      "7   0.9999999999999999\n",
      "8   0.9999999999999999\n",
      "9   0.9999999999999999\n"
     ]
    }
   ],
   "source": [
    "for i in range(0,np.count_nonzero(exp_variance + 1)):\n",
    "    print(i,\" \", sum(exp_variance[0:i]))"
   ]
  },
  {
   "cell_type": "markdown",
   "metadata": {},
   "source": [
    "### End of Step 3(b)"
   ]
  },
  {
   "cell_type": "code",
   "execution_count": 328,
   "metadata": {},
   "outputs": [],
   "source": [
    "#write cleaned cleaned_df to a .csv\n",
    "cleaned2_df.to_csv('cleaned2_data_pca.csv')"
   ]
  },
  {
   "cell_type": "code",
   "execution_count": null,
   "metadata": {},
   "outputs": [],
   "source": []
  }
 ],
 "metadata": {
  "kernelspec": {
   "display_name": "Python 3",
   "language": "python",
   "name": "python3"
  },
  "language_info": {
   "codemirror_mode": {
    "name": "ipython",
    "version": 3
   },
   "file_extension": ".py",
   "mimetype": "text/x-python",
   "name": "python",
   "nbconvert_exporter": "python",
   "pygments_lexer": "ipython3",
   "version": "3.7.4"
  }
 },
 "nbformat": 4,
 "nbformat_minor": 2
}
