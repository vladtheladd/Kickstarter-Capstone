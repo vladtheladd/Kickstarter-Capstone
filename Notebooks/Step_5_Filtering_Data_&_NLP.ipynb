{
 "cells": [
  {
   "cell_type": "markdown",
   "metadata": {},
   "source": [
    "![logo](1_bDwEvCRgrKVbLrAXEixpfA.png)\n",
    "___"
   ]
  },
  {
   "cell_type": "markdown",
   "metadata": {},
   "source": [
    "##### import libraries"
   ]
  },
  {
   "cell_type": "code",
   "execution_count": 7,
   "metadata": {},
   "outputs": [
    {
     "name": "stderr",
     "output_type": "stream",
     "text": [
      "[nltk_data] Downloading package stopwords to\n",
      "[nltk_data]     C:\\Users\\vlad_\\AppData\\Roaming\\nltk_data...\n",
      "[nltk_data]   Package stopwords is already up-to-date!\n"
     ]
    }
   ],
   "source": [
    "import pandas as pd\n",
    "import numpy as np\n",
    "\n",
    "import seaborn as sns\n",
    "import matplotlib.pyplot as plt\n",
    "#from scipy import stats\n",
    "%matplotlib inline \n",
    "sns.set(color_codes=True)\n",
    "\n",
    "#natural language processing\n",
    "#pip install nltk\n",
    "import re\n",
    "import nltk\n",
    "nltk.download('stopwords')\n",
    "from nltk.corpus import stopwords\n",
    "from nltk.stem.porter import PorterStemmer\n",
    "from nltk.stem import WordNetLemmatizer"
   ]
  },
  {
   "cell_type": "markdown",
   "metadata": {},
   "source": [
    "Now that we have seen the results of our initial classification models, we can draw a few conclusions. First, the model is using words from the entire Kickstarter dataset to predict the 'state' of a campaign. This is useful, however, it would make more sense to fit these classifications to the seperate genres of the kickstarter dataset. The poor performace of our previous classification algorithms also supports this.\n",
    "\n",
    "By splitting our data and only looking at the top 5 genres of the dataset, I hope to increase the performance of the models, as well as have a more effective and insightful conclusion that future Kickstarter entrepreneurs can use. ie) If someone looking to start a movie campaign on Kickstarter wants to see what descriptive words perform well on the website, they won't find the previous classification models useful. Classification that uses all the words of the entire corpus to predict the campaign state is too general and saturated to provide any real-world implications for an actually Kickstarter campaign. Therefore, Ithe following sections will explore a more genre-specific set of data. "
   ]
  },
  {
   "cell_type": "markdown",
   "metadata": {},
   "source": [
    "# Step 5 - Filtering Data & NLP\n",
    "    a) Importing data\n",
    "    \n",
    "    b) Filtering\n",
    "        -seperate cleaned2_df top-5 genres into their own dataframes\n",
    "    \n",
    "    c) Create Corpora\n",
    "        -use previous NLP techniques to build seperate corpora for each new dataframe\n",
    "    \n",
    "    d) Save new data to .csv"
   ]
  },
  {
   "cell_type": "markdown",
   "metadata": {},
   "source": [
    "### a) Importing data"
   ]
  },
  {
   "cell_type": "code",
   "execution_count": 8,
   "metadata": {},
   "outputs": [
    {
     "name": "stdout",
     "output_type": "stream",
     "text": [
      "(114898, 22)\n",
      "music          18849\n",
      "film           15591\n",
      "publishing     12487\n",
      "art            12317\n",
      "food            9494\n",
      "technology      8771\n",
      "fashion         5684\n",
      "comics          5534\n",
      "games           5180\n",
      "theater         3940\n",
      "photography     3873\n",
      "crafts          3763\n",
      "design          3415\n",
      "dance           3248\n",
      "journalism      2752\n",
      "Name: subgenre, dtype: int64\n"
     ]
    }
   ],
   "source": [
    "#import cleaned2_data.csv file\n",
    "cleaned2_df = pd.read_csv(\"cleaned2_data.csv\")\n",
    "\n",
    "cleaned2_df.drop(['Unnamed: 0'], axis=1, inplace=True)\n",
    "\n",
    "print(cleaned2_df.shape)\n",
    "print(cleaned2_df['subgenre'].value_counts())"
   ]
  },
  {
   "cell_type": "markdown",
   "metadata": {},
   "source": [
    "### b) Filter Data"
   ]
  },
  {
   "cell_type": "code",
   "execution_count": 9,
   "metadata": {},
   "outputs": [],
   "source": [
    "#filter top-5 subgenres into their own dataframes\n",
    "\n",
    "music_df = cleaned2_df.loc[cleaned2_df['subgenre'] == 'music']\n",
    "music_df.reset_index(drop=True,inplace=True)\n",
    "\n",
    "film_df = cleaned2_df.loc[cleaned2_df['subgenre'] == 'film']\n",
    "film_df.reset_index(drop=True,inplace=True)\n",
    "\n",
    "publishing_df = cleaned2_df.loc[cleaned2_df['subgenre'] == 'publishing']\n",
    "publishing_df.reset_index(drop=True,inplace=True)\n",
    "\n",
    "art_df = cleaned2_df.loc[cleaned2_df['subgenre'] == 'art']\n",
    "art_df.reset_index(drop=True,inplace=True)\n",
    "\n",
    "food_df = cleaned2_df.loc[cleaned2_df['subgenre'] == 'food']\n",
    "food_df.reset_index(drop=True,inplace=True)"
   ]
  },
  {
   "cell_type": "markdown",
   "metadata": {},
   "source": [
    "### c) Create Corpora"
   ]
  },
  {
   "cell_type": "markdown",
   "metadata": {},
   "source": [
    "##### music_df"
   ]
  },
  {
   "cell_type": "code",
   "execution_count": 10,
   "metadata": {},
   "outputs": [],
   "source": [
    "length = len(pd.DataFrame(music_df['blurb']))\n",
    "\n",
    "music_corpus = []\n",
    "for i in range(0, length):\n",
    "    #only keep letters and replace other symbols with a white space in the first blurb\n",
    "    blurb = re.sub('[^a-zA-Z]', ' ', music_df['blurb'][i])\n",
    "\n",
    "    #change letters to lower-case\n",
    "    blurb = blurb.lower()   \n",
    "    #split\n",
    "    blurb = blurb.split()\n",
    "    #for loop to remove stop-words and to do stemming\n",
    "    wn = WordNetLemmatizer()\n",
    "    blurb = [wn.lemmatize(word) for word in blurb if not word in set(stopwords.words('english'))]\n",
    "    #join blurb back into a string from a list\n",
    "    blurb = ' '.join(blurb)\n",
    "    music_corpus.append(blurb)"
   ]
  },
  {
   "cell_type": "code",
   "execution_count": 11,
   "metadata": {},
   "outputs": [
    {
     "data": {
      "text/html": [
       "<div>\n",
       "<style scoped>\n",
       "    .dataframe tbody tr th:only-of-type {\n",
       "        vertical-align: middle;\n",
       "    }\n",
       "\n",
       "    .dataframe tbody tr th {\n",
       "        vertical-align: top;\n",
       "    }\n",
       "\n",
       "    .dataframe thead th {\n",
       "        text-align: right;\n",
       "    }\n",
       "</style>\n",
       "<table border=\"1\" class=\"dataframe\">\n",
       "  <thead>\n",
       "    <tr style=\"text-align: right;\">\n",
       "      <th></th>\n",
       "      <th>blurb</th>\n",
       "    </tr>\n",
       "  </thead>\n",
       "  <tbody>\n",
       "    <tr>\n",
       "      <td>0</td>\n",
       "      <td>track collection new original musical piece jo...</td>\n",
       "    </tr>\n",
       "    <tr>\n",
       "      <td>1</td>\n",
       "      <td>family eric garner need help raising money cre...</td>\n",
       "    </tr>\n",
       "    <tr>\n",
       "      <td>2</td>\n",
       "      <td>washington dc rock n roll band need help press...</td>\n",
       "    </tr>\n",
       "    <tr>\n",
       "      <td>3</td>\n",
       "      <td>four year since released solo record last card...</td>\n",
       "    </tr>\n",
       "    <tr>\n",
       "      <td>4</td>\n",
       "      <td>denver rock band hate seek fund release second...</td>\n",
       "    </tr>\n",
       "  </tbody>\n",
       "</table>\n",
       "</div>"
      ],
      "text/plain": [
       "                                               blurb\n",
       "0  track collection new original musical piece jo...\n",
       "1  family eric garner need help raising money cre...\n",
       "2  washington dc rock n roll band need help press...\n",
       "3  four year since released solo record last card...\n",
       "4  denver rock band hate seek fund release second..."
      ]
     },
     "execution_count": 11,
     "metadata": {},
     "output_type": "execute_result"
    }
   ],
   "source": [
    "#write into a dataframe\n",
    "music_corpus_df = pd.DataFrame(music_corpus, columns = ['blurb'])\n",
    "music_corpus_df.head()"
   ]
  },
  {
   "cell_type": "markdown",
   "metadata": {},
   "source": [
    "##### film_df"
   ]
  },
  {
   "cell_type": "code",
   "execution_count": 12,
   "metadata": {},
   "outputs": [],
   "source": [
    "length = len(pd.DataFrame(film_df['blurb']))\n",
    "\n",
    "film_corpus = []\n",
    "for i in range(0, length):\n",
    "    #only keep letters and replace other symbols with a white space in the first blurb\n",
    "    blurb = re.sub('[^a-zA-Z]', ' ', film_df['blurb'][i])\n",
    "\n",
    "    #change letters to lower-case\n",
    "    blurb = blurb.lower()   \n",
    "    #split\n",
    "    blurb = blurb.split()\n",
    "    #for loop to remove stop-words and to do stemming\n",
    "    wn = WordNetLemmatizer()\n",
    "    blurb = [wn.lemmatize(word) for word in blurb if not word in set(stopwords.words('english'))]\n",
    "    #join blurb back into a string from a list\n",
    "    blurb = ' '.join(blurb)\n",
    "    film_corpus.append(blurb)"
   ]
  },
  {
   "cell_type": "code",
   "execution_count": 13,
   "metadata": {},
   "outputs": [
    {
     "data": {
      "text/html": [
       "<div>\n",
       "<style scoped>\n",
       "    .dataframe tbody tr th:only-of-type {\n",
       "        vertical-align: middle;\n",
       "    }\n",
       "\n",
       "    .dataframe tbody tr th {\n",
       "        vertical-align: top;\n",
       "    }\n",
       "\n",
       "    .dataframe thead th {\n",
       "        text-align: right;\n",
       "    }\n",
       "</style>\n",
       "<table border=\"1\" class=\"dataframe\">\n",
       "  <thead>\n",
       "    <tr style=\"text-align: right;\">\n",
       "      <th></th>\n",
       "      <th>blurb</th>\n",
       "    </tr>\n",
       "  </thead>\n",
       "  <tbody>\n",
       "    <tr>\n",
       "      <td>0</td>\n",
       "      <td>genesis follows mother son live together forei...</td>\n",
       "    </tr>\n",
       "    <tr>\n",
       "      <td>1</td>\n",
       "      <td>losing fellow marine overseas sgt john casey d...</td>\n",
       "    </tr>\n",
       "    <tr>\n",
       "      <td>2</td>\n",
       "      <td>l short fan film follows spartan linda event h...</td>\n",
       "    </tr>\n",
       "    <tr>\n",
       "      <td>3</td>\n",
       "      <td>four friend embark road trip together hope ove...</td>\n",
       "    </tr>\n",
       "    <tr>\n",
       "      <td>4</td>\n",
       "      <td>juxtaposing delicious food good friend unsettl...</td>\n",
       "    </tr>\n",
       "  </tbody>\n",
       "</table>\n",
       "</div>"
      ],
      "text/plain": [
       "                                               blurb\n",
       "0  genesis follows mother son live together forei...\n",
       "1  losing fellow marine overseas sgt john casey d...\n",
       "2  l short fan film follows spartan linda event h...\n",
       "3  four friend embark road trip together hope ove...\n",
       "4  juxtaposing delicious food good friend unsettl..."
      ]
     },
     "execution_count": 13,
     "metadata": {},
     "output_type": "execute_result"
    }
   ],
   "source": [
    "#write into a dataframe\n",
    "film_corpus_df = pd.DataFrame(film_corpus, columns = ['blurb'])\n",
    "film_corpus_df.head()"
   ]
  },
  {
   "cell_type": "markdown",
   "metadata": {},
   "source": [
    "##### publishing_df"
   ]
  },
  {
   "cell_type": "code",
   "execution_count": 16,
   "metadata": {},
   "outputs": [],
   "source": [
    "length = len(pd.DataFrame(publishing_df['blurb']))\n",
    "\n",
    "publishing_corpus = []\n",
    "for i in range(0, length):\n",
    "    #only keep letters and replace other symbols with a white space in the first blurb\n",
    "    blurb = re.sub('[^a-zA-Z]', ' ', publishing_df['blurb'][i])\n",
    "\n",
    "    #change letters to lower-case\n",
    "    blurb = blurb.lower()   \n",
    "    #split\n",
    "    blurb = blurb.split()\n",
    "    #for loop to remove stop-words and to do stemming\n",
    "    wn = WordNetLemmatizer()\n",
    "    blurb = [wn.lemmatize(word) for word in blurb if not word in set(stopwords.words('english'))]\n",
    "    #join blurb back into a string from a list\n",
    "    blurb = ' '.join(blurb)\n",
    "    publishing_corpus.append(blurb)"
   ]
  },
  {
   "cell_type": "code",
   "execution_count": 17,
   "metadata": {},
   "outputs": [
    {
     "data": {
      "text/html": [
       "<div>\n",
       "<style scoped>\n",
       "    .dataframe tbody tr th:only-of-type {\n",
       "        vertical-align: middle;\n",
       "    }\n",
       "\n",
       "    .dataframe tbody tr th {\n",
       "        vertical-align: top;\n",
       "    }\n",
       "\n",
       "    .dataframe thead th {\n",
       "        text-align: right;\n",
       "    }\n",
       "</style>\n",
       "<table border=\"1\" class=\"dataframe\">\n",
       "  <thead>\n",
       "    <tr style=\"text-align: right;\">\n",
       "      <th></th>\n",
       "      <th>blurb</th>\n",
       "    </tr>\n",
       "  </thead>\n",
       "  <tbody>\n",
       "    <tr>\n",
       "      <td>0</td>\n",
       "      <td>thema literary society proposes publish one th...</td>\n",
       "    </tr>\n",
       "    <tr>\n",
       "      <td>1</td>\n",
       "      <td>collection hand lettered thing say idea sentim...</td>\n",
       "    </tr>\n",
       "    <tr>\n",
       "      <td>2</td>\n",
       "      <td>monster skulking dark king bent destroying lig...</td>\n",
       "    </tr>\n",
       "    <tr>\n",
       "      <td>3</td>\n",
       "      <td>spark child interest write draw anytime anywhe...</td>\n",
       "    </tr>\n",
       "    <tr>\n",
       "      <td>4</td>\n",
       "      <td>wild word literary magazine set free ad fee</td>\n",
       "    </tr>\n",
       "  </tbody>\n",
       "</table>\n",
       "</div>"
      ],
      "text/plain": [
       "                                               blurb\n",
       "0  thema literary society proposes publish one th...\n",
       "1  collection hand lettered thing say idea sentim...\n",
       "2  monster skulking dark king bent destroying lig...\n",
       "3  spark child interest write draw anytime anywhe...\n",
       "4        wild word literary magazine set free ad fee"
      ]
     },
     "execution_count": 17,
     "metadata": {},
     "output_type": "execute_result"
    }
   ],
   "source": [
    "#write into a dataframe\n",
    "publishing_corpus_df = pd.DataFrame(publishing_corpus, columns = ['blurb'])\n",
    "publishing_corpus_df.head()"
   ]
  },
  {
   "cell_type": "markdown",
   "metadata": {},
   "source": [
    "##### art_df"
   ]
  },
  {
   "cell_type": "code",
   "execution_count": 14,
   "metadata": {},
   "outputs": [],
   "source": [
    "length = len(pd.DataFrame(art_df['blurb']))\n",
    "\n",
    "art_corpus = []\n",
    "for i in range(0, length):\n",
    "    #only keep letters and replace other symbols with a white space in the first blurb\n",
    "    blurb = re.sub('[^a-zA-Z]', ' ', art_df['blurb'][i])\n",
    "\n",
    "    #change letters to lower-case\n",
    "    blurb = blurb.lower()   \n",
    "    #split\n",
    "    blurb = blurb.split()\n",
    "    #for loop to remove stop-words and to do stemming\n",
    "    wn = WordNetLemmatizer()\n",
    "    blurb = [wn.lemmatize(word) for word in blurb if not word in set(stopwords.words('english'))]\n",
    "    #join blurb back into a string from a list\n",
    "    blurb = ' '.join(blurb)\n",
    "    art_corpus.append(blurb)"
   ]
  },
  {
   "cell_type": "code",
   "execution_count": 15,
   "metadata": {},
   "outputs": [
    {
     "data": {
      "text/html": [
       "<div>\n",
       "<style scoped>\n",
       "    .dataframe tbody tr th:only-of-type {\n",
       "        vertical-align: middle;\n",
       "    }\n",
       "\n",
       "    .dataframe tbody tr th {\n",
       "        vertical-align: top;\n",
       "    }\n",
       "\n",
       "    .dataframe thead th {\n",
       "        text-align: right;\n",
       "    }\n",
       "</style>\n",
       "<table border=\"1\" class=\"dataframe\">\n",
       "  <thead>\n",
       "    <tr style=\"text-align: right;\">\n",
       "      <th></th>\n",
       "      <th>blurb</th>\n",
       "    </tr>\n",
       "  </thead>\n",
       "  <tbody>\n",
       "    <tr>\n",
       "      <td>0</td>\n",
       "      <td>th anniversary year fsf revolutionary abstract...</td>\n",
       "    </tr>\n",
       "    <tr>\n",
       "      <td>1</td>\n",
       "      <td>let paint tv going search creativity space mis...</td>\n",
       "    </tr>\n",
       "    <tr>\n",
       "      <td>2</td>\n",
       "      <td>one unique space scene painted ink metallic se...</td>\n",
       "    </tr>\n",
       "    <tr>\n",
       "      <td>3</td>\n",
       "      <td>mosaic mural westside avenue adult center vent...</td>\n",
       "    </tr>\n",
       "    <tr>\n",
       "      <td>4</td>\n",
       "      <td>project make animal mask artistic skill develo...</td>\n",
       "    </tr>\n",
       "  </tbody>\n",
       "</table>\n",
       "</div>"
      ],
      "text/plain": [
       "                                               blurb\n",
       "0  th anniversary year fsf revolutionary abstract...\n",
       "1  let paint tv going search creativity space mis...\n",
       "2  one unique space scene painted ink metallic se...\n",
       "3  mosaic mural westside avenue adult center vent...\n",
       "4  project make animal mask artistic skill develo..."
      ]
     },
     "execution_count": 15,
     "metadata": {},
     "output_type": "execute_result"
    }
   ],
   "source": [
    "#write into a dataframe\n",
    "art_corpus_df = pd.DataFrame(art_corpus, columns = ['blurb'])\n",
    "art_corpus_df.head()"
   ]
  },
  {
   "cell_type": "markdown",
   "metadata": {},
   "source": [
    "##### food_df"
   ]
  },
  {
   "cell_type": "code",
   "execution_count": 18,
   "metadata": {},
   "outputs": [],
   "source": [
    "length = len(pd.DataFrame(food_df['blurb']))\n",
    "\n",
    "food_corpus = []\n",
    "for i in range(0, length):\n",
    "    #only keep letters and replace other symbols with a white space in the first blurb\n",
    "    blurb = re.sub('[^a-zA-Z]', ' ', food_df['blurb'][i])\n",
    "\n",
    "    #change letters to lower-case\n",
    "    blurb = blurb.lower()   \n",
    "    #split\n",
    "    blurb = blurb.split()\n",
    "    #for loop to remove stop-words and to do stemming\n",
    "    wn = WordNetLemmatizer()\n",
    "    blurb = [wn.lemmatize(word) for word in blurb if not word in set(stopwords.words('english'))]\n",
    "    #join blurb back into a string from a list\n",
    "    blurb = ' '.join(blurb)\n",
    "    food_corpus.append(blurb)"
   ]
  },
  {
   "cell_type": "code",
   "execution_count": 19,
   "metadata": {},
   "outputs": [
    {
     "data": {
      "text/html": [
       "<div>\n",
       "<style scoped>\n",
       "    .dataframe tbody tr th:only-of-type {\n",
       "        vertical-align: middle;\n",
       "    }\n",
       "\n",
       "    .dataframe tbody tr th {\n",
       "        vertical-align: top;\n",
       "    }\n",
       "\n",
       "    .dataframe thead th {\n",
       "        text-align: right;\n",
       "    }\n",
       "</style>\n",
       "<table border=\"1\" class=\"dataframe\">\n",
       "  <thead>\n",
       "    <tr style=\"text-align: right;\">\n",
       "      <th></th>\n",
       "      <th>blurb</th>\n",
       "    </tr>\n",
       "  </thead>\n",
       "  <tbody>\n",
       "    <tr>\n",
       "      <td>0</td>\n",
       "      <td>drink fine wine le work</td>\n",
       "    </tr>\n",
       "    <tr>\n",
       "      <td>1</td>\n",
       "      <td>help make stockton next beer destination suppo...</td>\n",
       "    </tr>\n",
       "    <tr>\n",
       "      <td>2</td>\n",
       "      <td>crafting spectacular wine using grape many und...</td>\n",
       "    </tr>\n",
       "    <tr>\n",
       "      <td>3</td>\n",
       "      <td>racine brewing company newest nano brewery rac...</td>\n",
       "    </tr>\n",
       "    <tr>\n",
       "      <td>4</td>\n",
       "      <td>raising honey bee leasing farmer crop pollinat...</td>\n",
       "    </tr>\n",
       "  </tbody>\n",
       "</table>\n",
       "</div>"
      ],
      "text/plain": [
       "                                               blurb\n",
       "0                            drink fine wine le work\n",
       "1  help make stockton next beer destination suppo...\n",
       "2  crafting spectacular wine using grape many und...\n",
       "3  racine brewing company newest nano brewery rac...\n",
       "4  raising honey bee leasing farmer crop pollinat..."
      ]
     },
     "execution_count": 19,
     "metadata": {},
     "output_type": "execute_result"
    }
   ],
   "source": [
    "#write into a dataframe\n",
    "food_corpus_df = pd.DataFrame(food_corpus, columns = ['blurb'])\n",
    "food_corpus_df.head()"
   ]
  },
  {
   "cell_type": "markdown",
   "metadata": {},
   "source": [
    "##### write .csv files"
   ]
  },
  {
   "cell_type": "code",
   "execution_count": 21,
   "metadata": {},
   "outputs": [
    {
     "name": "stdout",
     "output_type": "stream",
     "text": [
      "(18849, 23)\n"
     ]
    },
    {
     "name": "stderr",
     "output_type": "stream",
     "text": [
      "C:\\Users\\vlad_\\Anaconda3\\lib\\site-packages\\ipykernel_launcher.py:2: SettingWithCopyWarning: \n",
      "A value is trying to be set on a copy of a slice from a DataFrame.\n",
      "Try using .loc[row_indexer,col_indexer] = value instead\n",
      "\n",
      "See the caveats in the documentation: http://pandas.pydata.org/pandas-docs/stable/user_guide/indexing.html#returning-a-view-versus-a-copy\n",
      "  \n"
     ]
    },
    {
     "data": {
      "text/html": [
       "<div>\n",
       "<style scoped>\n",
       "    .dataframe tbody tr th:only-of-type {\n",
       "        vertical-align: middle;\n",
       "    }\n",
       "\n",
       "    .dataframe tbody tr th {\n",
       "        vertical-align: top;\n",
       "    }\n",
       "\n",
       "    .dataframe thead th {\n",
       "        text-align: right;\n",
       "    }\n",
       "</style>\n",
       "<table border=\"1\" class=\"dataframe\">\n",
       "  <thead>\n",
       "    <tr style=\"text-align: right;\">\n",
       "      <th></th>\n",
       "      <th>id</th>\n",
       "      <th>name</th>\n",
       "      <th>genre</th>\n",
       "      <th>subgenre</th>\n",
       "      <th>category</th>\n",
       "      <th>source_url</th>\n",
       "      <th>blurb</th>\n",
       "      <th>slug</th>\n",
       "      <th>goal</th>\n",
       "      <th>converted_pledged_amount</th>\n",
       "      <th>...</th>\n",
       "      <th>country</th>\n",
       "      <th>currency</th>\n",
       "      <th>backers_count</th>\n",
       "      <th>disable_communication</th>\n",
       "      <th>is_starrable</th>\n",
       "      <th>spotlight</th>\n",
       "      <th>staff_pick</th>\n",
       "      <th>state</th>\n",
       "      <th>success_percentage</th>\n",
       "      <th>blurb_corpus</th>\n",
       "    </tr>\n",
       "  </thead>\n",
       "  <tbody>\n",
       "    <tr>\n",
       "      <td>0</td>\n",
       "      <td>177511186</td>\n",
       "      <td>i am worthy</td>\n",
       "      <td>R&amp;B</td>\n",
       "      <td>music</td>\n",
       "      <td>{\"id\":322,\"name\":\"R&amp;B\",\"slug\":\"music/r&amp;b\",\"pos...</td>\n",
       "      <td>https://www.kickstarter.com/discover/categorie...</td>\n",
       "      <td>a 20 track collection of new original musical ...</td>\n",
       "      <td>i-am-worthy-0</td>\n",
       "      <td>25000</td>\n",
       "      <td>19213</td>\n",
       "      <td>...</td>\n",
       "      <td>US</td>\n",
       "      <td>USD</td>\n",
       "      <td>108</td>\n",
       "      <td>0</td>\n",
       "      <td>0</td>\n",
       "      <td>0</td>\n",
       "      <td>0</td>\n",
       "      <td>failed</td>\n",
       "      <td>76.852</td>\n",
       "      <td>track collection new original musical piece jo...</td>\n",
       "    </tr>\n",
       "  </tbody>\n",
       "</table>\n",
       "<p>1 rows × 23 columns</p>\n",
       "</div>"
      ],
      "text/plain": [
       "          id         name genre subgenre  \\\n",
       "0  177511186  i am worthy   R&B    music   \n",
       "\n",
       "                                            category  \\\n",
       "0  {\"id\":322,\"name\":\"R&B\",\"slug\":\"music/r&b\",\"pos...   \n",
       "\n",
       "                                          source_url  \\\n",
       "0  https://www.kickstarter.com/discover/categorie...   \n",
       "\n",
       "                                               blurb           slug   goal  \\\n",
       "0  a 20 track collection of new original musical ...  i-am-worthy-0  25000   \n",
       "\n",
       "   converted_pledged_amount  ... country currency backers_count  \\\n",
       "0                     19213  ...      US      USD           108   \n",
       "\n",
       "  disable_communication is_starrable  spotlight  staff_pick   state  \\\n",
       "0                     0            0          0           0  failed   \n",
       "\n",
       "   success_percentage                                       blurb_corpus  \n",
       "0              76.852  track collection new original musical piece jo...  \n",
       "\n",
       "[1 rows x 23 columns]"
      ]
     },
     "execution_count": 21,
     "metadata": {},
     "output_type": "execute_result"
    }
   ],
   "source": [
    "#append music_corpus blurb to music_df\n",
    "music_df['blurb_corpus'] = music_corpus_df['blurb']\n",
    "print(music_df.shape)\n",
    "music_df.head(1)"
   ]
  },
  {
   "cell_type": "code",
   "execution_count": 22,
   "metadata": {},
   "outputs": [
    {
     "name": "stdout",
     "output_type": "stream",
     "text": [
      "(15591, 23)\n"
     ]
    },
    {
     "name": "stderr",
     "output_type": "stream",
     "text": [
      "C:\\Users\\vlad_\\Anaconda3\\lib\\site-packages\\ipykernel_launcher.py:2: SettingWithCopyWarning: \n",
      "A value is trying to be set on a copy of a slice from a DataFrame.\n",
      "Try using .loc[row_indexer,col_indexer] = value instead\n",
      "\n",
      "See the caveats in the documentation: http://pandas.pydata.org/pandas-docs/stable/user_guide/indexing.html#returning-a-view-versus-a-copy\n",
      "  \n"
     ]
    },
    {
     "data": {
      "text/html": [
       "<div>\n",
       "<style scoped>\n",
       "    .dataframe tbody tr th:only-of-type {\n",
       "        vertical-align: middle;\n",
       "    }\n",
       "\n",
       "    .dataframe tbody tr th {\n",
       "        vertical-align: top;\n",
       "    }\n",
       "\n",
       "    .dataframe thead th {\n",
       "        text-align: right;\n",
       "    }\n",
       "</style>\n",
       "<table border=\"1\" class=\"dataframe\">\n",
       "  <thead>\n",
       "    <tr style=\"text-align: right;\">\n",
       "      <th></th>\n",
       "      <th>id</th>\n",
       "      <th>name</th>\n",
       "      <th>genre</th>\n",
       "      <th>subgenre</th>\n",
       "      <th>category</th>\n",
       "      <th>source_url</th>\n",
       "      <th>blurb</th>\n",
       "      <th>slug</th>\n",
       "      <th>goal</th>\n",
       "      <th>converted_pledged_amount</th>\n",
       "      <th>...</th>\n",
       "      <th>country</th>\n",
       "      <th>currency</th>\n",
       "      <th>backers_count</th>\n",
       "      <th>disable_communication</th>\n",
       "      <th>is_starrable</th>\n",
       "      <th>spotlight</th>\n",
       "      <th>staff_pick</th>\n",
       "      <th>state</th>\n",
       "      <th>success_percentage</th>\n",
       "      <th>blurb_corpus</th>\n",
       "    </tr>\n",
       "  </thead>\n",
       "  <tbody>\n",
       "    <tr>\n",
       "      <td>0</td>\n",
       "      <td>69573339</td>\n",
       "      <td>Genesis</td>\n",
       "      <td>Science Fiction</td>\n",
       "      <td>film</td>\n",
       "      <td>{\"id\":301,\"name\":\"Science Fiction\",\"slug\":\"fil...</td>\n",
       "      <td>https://www.kickstarter.com/discover/categorie...</td>\n",
       "      <td>Genesis follows a mother and son that live tog...</td>\n",
       "      <td>genesis-5</td>\n",
       "      <td>7000</td>\n",
       "      <td>7415</td>\n",
       "      <td>...</td>\n",
       "      <td>US</td>\n",
       "      <td>USD</td>\n",
       "      <td>72</td>\n",
       "      <td>0</td>\n",
       "      <td>0</td>\n",
       "      <td>1</td>\n",
       "      <td>0</td>\n",
       "      <td>successful</td>\n",
       "      <td>105.928571</td>\n",
       "      <td>genesis follows mother son live together forei...</td>\n",
       "    </tr>\n",
       "  </tbody>\n",
       "</table>\n",
       "<p>1 rows × 23 columns</p>\n",
       "</div>"
      ],
      "text/plain": [
       "         id     name            genre subgenre  \\\n",
       "0  69573339  Genesis  Science Fiction     film   \n",
       "\n",
       "                                            category  \\\n",
       "0  {\"id\":301,\"name\":\"Science Fiction\",\"slug\":\"fil...   \n",
       "\n",
       "                                          source_url  \\\n",
       "0  https://www.kickstarter.com/discover/categorie...   \n",
       "\n",
       "                                               blurb       slug  goal  \\\n",
       "0  Genesis follows a mother and son that live tog...  genesis-5  7000   \n",
       "\n",
       "   converted_pledged_amount  ... country currency backers_count  \\\n",
       "0                      7415  ...      US      USD            72   \n",
       "\n",
       "  disable_communication is_starrable  spotlight  staff_pick       state  \\\n",
       "0                     0            0          1           0  successful   \n",
       "\n",
       "   success_percentage                                       blurb_corpus  \n",
       "0          105.928571  genesis follows mother son live together forei...  \n",
       "\n",
       "[1 rows x 23 columns]"
      ]
     },
     "execution_count": 22,
     "metadata": {},
     "output_type": "execute_result"
    }
   ],
   "source": [
    "#append film_corpus blurb to film_df\n",
    "film_df['blurb_corpus'] = film_corpus_df['blurb']\n",
    "print(film_df.shape)\n",
    "film_df.head(1)"
   ]
  },
  {
   "cell_type": "code",
   "execution_count": 23,
   "metadata": {},
   "outputs": [
    {
     "name": "stdout",
     "output_type": "stream",
     "text": [
      "(12317, 23)\n"
     ]
    },
    {
     "name": "stderr",
     "output_type": "stream",
     "text": [
      "C:\\Users\\vlad_\\Anaconda3\\lib\\site-packages\\ipykernel_launcher.py:2: SettingWithCopyWarning: \n",
      "A value is trying to be set on a copy of a slice from a DataFrame.\n",
      "Try using .loc[row_indexer,col_indexer] = value instead\n",
      "\n",
      "See the caveats in the documentation: http://pandas.pydata.org/pandas-docs/stable/user_guide/indexing.html#returning-a-view-versus-a-copy\n",
      "  \n"
     ]
    },
    {
     "data": {
      "text/html": [
       "<div>\n",
       "<style scoped>\n",
       "    .dataframe tbody tr th:only-of-type {\n",
       "        vertical-align: middle;\n",
       "    }\n",
       "\n",
       "    .dataframe tbody tr th {\n",
       "        vertical-align: top;\n",
       "    }\n",
       "\n",
       "    .dataframe thead th {\n",
       "        text-align: right;\n",
       "    }\n",
       "</style>\n",
       "<table border=\"1\" class=\"dataframe\">\n",
       "  <thead>\n",
       "    <tr style=\"text-align: right;\">\n",
       "      <th></th>\n",
       "      <th>id</th>\n",
       "      <th>name</th>\n",
       "      <th>genre</th>\n",
       "      <th>subgenre</th>\n",
       "      <th>category</th>\n",
       "      <th>source_url</th>\n",
       "      <th>blurb</th>\n",
       "      <th>slug</th>\n",
       "      <th>goal</th>\n",
       "      <th>converted_pledged_amount</th>\n",
       "      <th>...</th>\n",
       "      <th>country</th>\n",
       "      <th>currency</th>\n",
       "      <th>backers_count</th>\n",
       "      <th>disable_communication</th>\n",
       "      <th>is_starrable</th>\n",
       "      <th>spotlight</th>\n",
       "      <th>staff_pick</th>\n",
       "      <th>state</th>\n",
       "      <th>success_percentage</th>\n",
       "      <th>blurb_corpus</th>\n",
       "    </tr>\n",
       "  </thead>\n",
       "  <tbody>\n",
       "    <tr>\n",
       "      <td>0</td>\n",
       "      <td>1175859175</td>\n",
       "      <td>5th Anniversary Year / Five Small Fires</td>\n",
       "      <td>Conceptual Art</td>\n",
       "      <td>art</td>\n",
       "      <td>{\"id\":20,\"name\":\"Conceptual Art\",\"slug\":\"art/c...</td>\n",
       "      <td>https://www.kickstarter.com/discover/categorie...</td>\n",
       "      <td>5th Anniversary Year | FSF is about revolution...</td>\n",
       "      <td>5th-anniversary-year-five-small-fires</td>\n",
       "      <td>5000</td>\n",
       "      <td>5271</td>\n",
       "      <td>...</td>\n",
       "      <td>US</td>\n",
       "      <td>USD</td>\n",
       "      <td>53</td>\n",
       "      <td>0</td>\n",
       "      <td>0</td>\n",
       "      <td>1</td>\n",
       "      <td>0</td>\n",
       "      <td>successful</td>\n",
       "      <td>105.42</td>\n",
       "      <td>th anniversary year fsf revolutionary abstract...</td>\n",
       "    </tr>\n",
       "  </tbody>\n",
       "</table>\n",
       "<p>1 rows × 23 columns</p>\n",
       "</div>"
      ],
      "text/plain": [
       "           id                                     name           genre  \\\n",
       "0  1175859175  5th Anniversary Year / Five Small Fires  Conceptual Art   \n",
       "\n",
       "  subgenre                                           category  \\\n",
       "0      art  {\"id\":20,\"name\":\"Conceptual Art\",\"slug\":\"art/c...   \n",
       "\n",
       "                                          source_url  \\\n",
       "0  https://www.kickstarter.com/discover/categorie...   \n",
       "\n",
       "                                               blurb  \\\n",
       "0  5th Anniversary Year | FSF is about revolution...   \n",
       "\n",
       "                                    slug  goal  converted_pledged_amount  ...  \\\n",
       "0  5th-anniversary-year-five-small-fires  5000                      5271  ...   \n",
       "\n",
       "  country currency backers_count disable_communication is_starrable  \\\n",
       "0      US      USD            53                     0            0   \n",
       "\n",
       "   spotlight  staff_pick       state  success_percentage  \\\n",
       "0          1           0  successful              105.42   \n",
       "\n",
       "                                        blurb_corpus  \n",
       "0  th anniversary year fsf revolutionary abstract...  \n",
       "\n",
       "[1 rows x 23 columns]"
      ]
     },
     "execution_count": 23,
     "metadata": {},
     "output_type": "execute_result"
    }
   ],
   "source": [
    "#append art_corpus blurb to art_df\n",
    "art_df['blurb_corpus'] = art_corpus_df['blurb']\n",
    "print(art_df.shape)\n",
    "art_df.head(1)"
   ]
  },
  {
   "cell_type": "code",
   "execution_count": 24,
   "metadata": {},
   "outputs": [
    {
     "name": "stdout",
     "output_type": "stream",
     "text": [
      "(12487, 23)\n"
     ]
    },
    {
     "name": "stderr",
     "output_type": "stream",
     "text": [
      "C:\\Users\\vlad_\\Anaconda3\\lib\\site-packages\\ipykernel_launcher.py:2: SettingWithCopyWarning: \n",
      "A value is trying to be set on a copy of a slice from a DataFrame.\n",
      "Try using .loc[row_indexer,col_indexer] = value instead\n",
      "\n",
      "See the caveats in the documentation: http://pandas.pydata.org/pandas-docs/stable/user_guide/indexing.html#returning-a-view-versus-a-copy\n",
      "  \n"
     ]
    },
    {
     "data": {
      "text/html": [
       "<div>\n",
       "<style scoped>\n",
       "    .dataframe tbody tr th:only-of-type {\n",
       "        vertical-align: middle;\n",
       "    }\n",
       "\n",
       "    .dataframe tbody tr th {\n",
       "        vertical-align: top;\n",
       "    }\n",
       "\n",
       "    .dataframe thead th {\n",
       "        text-align: right;\n",
       "    }\n",
       "</style>\n",
       "<table border=\"1\" class=\"dataframe\">\n",
       "  <thead>\n",
       "    <tr style=\"text-align: right;\">\n",
       "      <th></th>\n",
       "      <th>id</th>\n",
       "      <th>name</th>\n",
       "      <th>genre</th>\n",
       "      <th>subgenre</th>\n",
       "      <th>category</th>\n",
       "      <th>source_url</th>\n",
       "      <th>blurb</th>\n",
       "      <th>slug</th>\n",
       "      <th>goal</th>\n",
       "      <th>converted_pledged_amount</th>\n",
       "      <th>...</th>\n",
       "      <th>country</th>\n",
       "      <th>currency</th>\n",
       "      <th>backers_count</th>\n",
       "      <th>disable_communication</th>\n",
       "      <th>is_starrable</th>\n",
       "      <th>spotlight</th>\n",
       "      <th>staff_pick</th>\n",
       "      <th>state</th>\n",
       "      <th>success_percentage</th>\n",
       "      <th>blurb_corpus</th>\n",
       "    </tr>\n",
       "  </thead>\n",
       "  <tbody>\n",
       "    <tr>\n",
       "      <td>0</td>\n",
       "      <td>814040741</td>\n",
       "      <td>THEMA issue \"One Thing Done Superbly\"</td>\n",
       "      <td>Periodicals</td>\n",
       "      <td>publishing</td>\n",
       "      <td>{\"id\":49,\"name\":\"Periodicals\",\"slug\":\"publishi...</td>\n",
       "      <td>https://www.kickstarter.com/discover/categorie...</td>\n",
       "      <td>THEMA Literary Society proposes to publish One...</td>\n",
       "      <td>thema-issue-one-thing-done-superbly</td>\n",
       "      <td>4000</td>\n",
       "      <td>891</td>\n",
       "      <td>...</td>\n",
       "      <td>US</td>\n",
       "      <td>USD</td>\n",
       "      <td>18</td>\n",
       "      <td>0</td>\n",
       "      <td>0</td>\n",
       "      <td>0</td>\n",
       "      <td>0</td>\n",
       "      <td>failed</td>\n",
       "      <td>22.275</td>\n",
       "      <td>thema literary society proposes publish one th...</td>\n",
       "    </tr>\n",
       "  </tbody>\n",
       "</table>\n",
       "<p>1 rows × 23 columns</p>\n",
       "</div>"
      ],
      "text/plain": [
       "          id                                   name        genre    subgenre  \\\n",
       "0  814040741  THEMA issue \"One Thing Done Superbly\"  Periodicals  publishing   \n",
       "\n",
       "                                            category  \\\n",
       "0  {\"id\":49,\"name\":\"Periodicals\",\"slug\":\"publishi...   \n",
       "\n",
       "                                          source_url  \\\n",
       "0  https://www.kickstarter.com/discover/categorie...   \n",
       "\n",
       "                                               blurb  \\\n",
       "0  THEMA Literary Society proposes to publish One...   \n",
       "\n",
       "                                  slug  goal  converted_pledged_amount  ...  \\\n",
       "0  thema-issue-one-thing-done-superbly  4000                       891  ...   \n",
       "\n",
       "  country currency backers_count disable_communication is_starrable  \\\n",
       "0      US      USD            18                     0            0   \n",
       "\n",
       "   spotlight  staff_pick   state  success_percentage  \\\n",
       "0          0           0  failed              22.275   \n",
       "\n",
       "                                        blurb_corpus  \n",
       "0  thema literary society proposes publish one th...  \n",
       "\n",
       "[1 rows x 23 columns]"
      ]
     },
     "execution_count": 24,
     "metadata": {},
     "output_type": "execute_result"
    }
   ],
   "source": [
    "#append publishing_corpus blurb to publishing_df\n",
    "publishing_df['blurb_corpus'] = publishing_corpus_df['blurb']\n",
    "print(publishing_df.shape)\n",
    "publishing_df.head(1)"
   ]
  },
  {
   "cell_type": "code",
   "execution_count": 25,
   "metadata": {},
   "outputs": [
    {
     "name": "stdout",
     "output_type": "stream",
     "text": [
      "(9494, 23)\n"
     ]
    },
    {
     "name": "stderr",
     "output_type": "stream",
     "text": [
      "C:\\Users\\vlad_\\Anaconda3\\lib\\site-packages\\ipykernel_launcher.py:2: SettingWithCopyWarning: \n",
      "A value is trying to be set on a copy of a slice from a DataFrame.\n",
      "Try using .loc[row_indexer,col_indexer] = value instead\n",
      "\n",
      "See the caveats in the documentation: http://pandas.pydata.org/pandas-docs/stable/user_guide/indexing.html#returning-a-view-versus-a-copy\n",
      "  \n"
     ]
    },
    {
     "data": {
      "text/html": [
       "<div>\n",
       "<style scoped>\n",
       "    .dataframe tbody tr th:only-of-type {\n",
       "        vertical-align: middle;\n",
       "    }\n",
       "\n",
       "    .dataframe tbody tr th {\n",
       "        vertical-align: top;\n",
       "    }\n",
       "\n",
       "    .dataframe thead th {\n",
       "        text-align: right;\n",
       "    }\n",
       "</style>\n",
       "<table border=\"1\" class=\"dataframe\">\n",
       "  <thead>\n",
       "    <tr style=\"text-align: right;\">\n",
       "      <th></th>\n",
       "      <th>id</th>\n",
       "      <th>name</th>\n",
       "      <th>genre</th>\n",
       "      <th>subgenre</th>\n",
       "      <th>category</th>\n",
       "      <th>source_url</th>\n",
       "      <th>blurb</th>\n",
       "      <th>slug</th>\n",
       "      <th>goal</th>\n",
       "      <th>converted_pledged_amount</th>\n",
       "      <th>...</th>\n",
       "      <th>country</th>\n",
       "      <th>currency</th>\n",
       "      <th>backers_count</th>\n",
       "      <th>disable_communication</th>\n",
       "      <th>is_starrable</th>\n",
       "      <th>spotlight</th>\n",
       "      <th>staff_pick</th>\n",
       "      <th>state</th>\n",
       "      <th>success_percentage</th>\n",
       "      <th>blurb_corpus</th>\n",
       "    </tr>\n",
       "  </thead>\n",
       "  <tbody>\n",
       "    <tr>\n",
       "      <td>0</td>\n",
       "      <td>1320153611</td>\n",
       "      <td>End of the Vine: Wine Arbitrage</td>\n",
       "      <td>Drinks</td>\n",
       "      <td>food</td>\n",
       "      <td>{\"id\":307,\"name\":\"Drinks\",\"slug\":\"food/drinks\"...</td>\n",
       "      <td>https://www.kickstarter.com/discover/categorie...</td>\n",
       "      <td>Drink fine wine for less - we'll do the work.</td>\n",
       "      <td>end-of-the-vine-wine-arbitrage</td>\n",
       "      <td>25000</td>\n",
       "      <td>61370</td>\n",
       "      <td>...</td>\n",
       "      <td>US</td>\n",
       "      <td>USD</td>\n",
       "      <td>35</td>\n",
       "      <td>0</td>\n",
       "      <td>0</td>\n",
       "      <td>1</td>\n",
       "      <td>0</td>\n",
       "      <td>successful</td>\n",
       "      <td>245.48</td>\n",
       "      <td>drink fine wine le work</td>\n",
       "    </tr>\n",
       "  </tbody>\n",
       "</table>\n",
       "<p>1 rows × 23 columns</p>\n",
       "</div>"
      ],
      "text/plain": [
       "           id                             name   genre subgenre  \\\n",
       "0  1320153611  End of the Vine: Wine Arbitrage  Drinks     food   \n",
       "\n",
       "                                            category  \\\n",
       "0  {\"id\":307,\"name\":\"Drinks\",\"slug\":\"food/drinks\"...   \n",
       "\n",
       "                                          source_url  \\\n",
       "0  https://www.kickstarter.com/discover/categorie...   \n",
       "\n",
       "                                           blurb  \\\n",
       "0  Drink fine wine for less - we'll do the work.   \n",
       "\n",
       "                             slug   goal  converted_pledged_amount  ...  \\\n",
       "0  end-of-the-vine-wine-arbitrage  25000                     61370  ...   \n",
       "\n",
       "  country currency backers_count disable_communication is_starrable  \\\n",
       "0      US      USD            35                     0            0   \n",
       "\n",
       "   spotlight  staff_pick       state  success_percentage  \\\n",
       "0          1           0  successful              245.48   \n",
       "\n",
       "              blurb_corpus  \n",
       "0  drink fine wine le work  \n",
       "\n",
       "[1 rows x 23 columns]"
      ]
     },
     "execution_count": 25,
     "metadata": {},
     "output_type": "execute_result"
    }
   ],
   "source": [
    "#append food_corpus blurb to food_df\n",
    "food_df['blurb_corpus'] = food_corpus_df['blurb']\n",
    "print(food_df.shape)\n",
    "food_df.head(1)"
   ]
  },
  {
   "cell_type": "code",
   "execution_count": 26,
   "metadata": {},
   "outputs": [],
   "source": [
    "#write music_df to a .csv\n",
    "music_df.to_csv('music_data.csv')"
   ]
  },
  {
   "cell_type": "code",
   "execution_count": 27,
   "metadata": {},
   "outputs": [],
   "source": [
    "#write film_df to a .csv\n",
    "film_df.to_csv('film_data.csv')"
   ]
  },
  {
   "cell_type": "code",
   "execution_count": 28,
   "metadata": {},
   "outputs": [],
   "source": [
    "#write art_df to a .csv\n",
    "art_df.to_csv('art_data.csv')"
   ]
  },
  {
   "cell_type": "code",
   "execution_count": 29,
   "metadata": {},
   "outputs": [],
   "source": [
    "#write publishing_df to a .csv\n",
    "publishing_df.to_csv('publishing_data.csv')"
   ]
  },
  {
   "cell_type": "code",
   "execution_count": 30,
   "metadata": {},
   "outputs": [],
   "source": [
    "#write comics_df to a .csv\n",
    "food_df.to_csv('food_data.csv')"
   ]
  },
  {
   "cell_type": "markdown",
   "metadata": {},
   "source": [
    "### End of Step 5"
   ]
  },
  {
   "cell_type": "code",
   "execution_count": null,
   "metadata": {},
   "outputs": [],
   "source": []
  }
 ],
 "metadata": {
  "kernelspec": {
   "display_name": "Python 3",
   "language": "python",
   "name": "python3"
  },
  "language_info": {
   "codemirror_mode": {
    "name": "ipython",
    "version": 3
   },
   "file_extension": ".py",
   "mimetype": "text/x-python",
   "name": "python",
   "nbconvert_exporter": "python",
   "pygments_lexer": "ipython3",
   "version": "3.7.4"
  }
 },
 "nbformat": 4,
 "nbformat_minor": 2
}
