{
 "cells": [
  {
   "cell_type": "markdown",
   "metadata": {},
   "source": [
    "![logo](1_bDwEvCRgrKVbLrAXEixpfA.png)\n",
    "___"
   ]
  },
  {
   "cell_type": "markdown",
   "metadata": {},
   "source": [
    "##### import libraries"
   ]
  },
  {
   "cell_type": "code",
   "execution_count": null,
   "metadata": {},
   "outputs": [],
   "source": [
    "import pandas as pd\n",
    "import numpy as np"
   ]
  },
  {
   "cell_type": "markdown",
   "metadata": {},
   "source": [
    "# Step 2 - Preprocessing & Cleaning\n",
    "    a) Importing \n",
    "    b) Changing data-types\n",
    "            - Possible error\n",
    "            - Numeric data\n",
    "            - Binary data (i-iv)\n",
    "            - Datetime data\n",
    "    c) Regex formatting\n",
    "            - Add 'genre'\n",
    "            - Add 'subgenre'\n",
    "    d) Filtering data"
   ]
  },
  {
   "cell_type": "markdown",
   "metadata": {},
   "source": [
    "### a) Importing \n",
    "##### Use 'kickstarter_data.csv' to begin cleaning"
   ]
  },
  {
   "cell_type": "code",
   "execution_count": 129,
   "metadata": {},
   "outputs": [
    {
     "name": "stdout",
     "output_type": "stream",
     "text": [
      "(215858, 20)\n"
     ]
    },
    {
     "data": {
      "text/html": [
       "<div>\n",
       "<style scoped>\n",
       "    .dataframe tbody tr th:only-of-type {\n",
       "        vertical-align: middle;\n",
       "    }\n",
       "\n",
       "    .dataframe tbody tr th {\n",
       "        vertical-align: top;\n",
       "    }\n",
       "\n",
       "    .dataframe thead th {\n",
       "        text-align: right;\n",
       "    }\n",
       "</style>\n",
       "<table border=\"1\" class=\"dataframe\">\n",
       "  <thead>\n",
       "    <tr style=\"text-align: right;\">\n",
       "      <th></th>\n",
       "      <th>backers_count</th>\n",
       "      <th>blurb</th>\n",
       "      <th>category</th>\n",
       "      <th>converted_pledged_amount</th>\n",
       "      <th>country</th>\n",
       "      <th>created_at</th>\n",
       "      <th>currency</th>\n",
       "      <th>deadline</th>\n",
       "      <th>disable_communication</th>\n",
       "      <th>goal</th>\n",
       "      <th>id</th>\n",
       "      <th>is_starrable</th>\n",
       "      <th>launched_at</th>\n",
       "      <th>name</th>\n",
       "      <th>slug</th>\n",
       "      <th>source_url</th>\n",
       "      <th>spotlight</th>\n",
       "      <th>staff_pick</th>\n",
       "      <th>state</th>\n",
       "      <th>state_changed_at</th>\n",
       "    </tr>\n",
       "  </thead>\n",
       "  <tbody>\n",
       "    <tr>\n",
       "      <th>0</th>\n",
       "      <td>31</td>\n",
       "      <td>Un livre enfant pour l’apprentissage des émoti...</td>\n",
       "      <td>{\"id\":46,\"name\":\"Children's Books\",\"slug\":\"pub...</td>\n",
       "      <td>709</td>\n",
       "      <td>FR</td>\n",
       "      <td>1561554849</td>\n",
       "      <td>EUR</td>\n",
       "      <td>1566744397</td>\n",
       "      <td>false</td>\n",
       "      <td>600</td>\n",
       "      <td>1458932991</td>\n",
       "      <td>false</td>\n",
       "      <td>1561560397</td>\n",
       "      <td>Louli à l’école</td>\n",
       "      <td>louli-a-lecole</td>\n",
       "      <td>https://www.kickstarter.com/discover/categorie...</td>\n",
       "      <td>true</td>\n",
       "      <td>false</td>\n",
       "      <td>successful</td>\n",
       "      <td>1566744397</td>\n",
       "    </tr>\n",
       "  </tbody>\n",
       "</table>\n",
       "</div>"
      ],
      "text/plain": [
       "  backers_count                                              blurb  \\\n",
       "0            31  Un livre enfant pour l’apprentissage des émoti...   \n",
       "\n",
       "                                            category converted_pledged_amount  \\\n",
       "0  {\"id\":46,\"name\":\"Children's Books\",\"slug\":\"pub...                      709   \n",
       "\n",
       "  country  created_at currency    deadline disable_communication goal  \\\n",
       "0      FR  1561554849      EUR  1566744397                 false  600   \n",
       "\n",
       "           id is_starrable launched_at             name            slug  \\\n",
       "0  1458932991        false  1561560397  Louli à l’école  louli-a-lecole   \n",
       "\n",
       "                                          source_url spotlight staff_pick  \\\n",
       "0  https://www.kickstarter.com/discover/categorie...      true      false   \n",
       "\n",
       "        state state_changed_at  \n",
       "0  successful       1566744397  "
      ]
     },
     "execution_count": 129,
     "metadata": {},
     "output_type": "execute_result"
    }
   ],
   "source": [
    "#import .csv file\n",
    "kickstarter_df = pd.read_csv(\"kickstarter_data.csv\")\n",
    "\n",
    "kickstarter_df.drop(['Unnamed: 0'], axis=1, inplace=True)\n",
    "\n",
    "print(kickstarter_df.shape)\n",
    "kickstarter_df.head(1)\n"
   ]
  },
  {
   "cell_type": "markdown",
   "metadata": {},
   "source": [
    "##### Since the raw data was a combination of 57 .csv files, the header row was duplicated 57 times when merged into raw_kickstarter_df. These duplicated rows should be removed and remaining data stored in \"cleaned_df\""
   ]
  },
  {
   "cell_type": "code",
   "execution_count": 130,
   "metadata": {},
   "outputs": [
    {
     "name": "stdout",
     "output_type": "stream",
     "text": [
      "backers_count               object\n",
      "blurb                       object\n",
      "category                    object\n",
      "converted_pledged_amount    object\n",
      "country                     object\n",
      "created_at                  object\n",
      "currency                    object\n",
      "deadline                    object\n",
      "disable_communication       object\n",
      "goal                        object\n",
      "id                          object\n",
      "is_starrable                object\n",
      "launched_at                 object\n",
      "name                        object\n",
      "slug                        object\n",
      "source_url                  object\n",
      "spotlight                   object\n",
      "staff_pick                  object\n",
      "state                       object\n",
      "state_changed_at            object\n",
      "dtype: object\n",
      "(215801, 20)\n"
     ]
    },
    {
     "data": {
      "text/html": [
       "<div>\n",
       "<style scoped>\n",
       "    .dataframe tbody tr th:only-of-type {\n",
       "        vertical-align: middle;\n",
       "    }\n",
       "\n",
       "    .dataframe tbody tr th {\n",
       "        vertical-align: top;\n",
       "    }\n",
       "\n",
       "    .dataframe thead th {\n",
       "        text-align: right;\n",
       "    }\n",
       "</style>\n",
       "<table border=\"1\" class=\"dataframe\">\n",
       "  <thead>\n",
       "    <tr style=\"text-align: right;\">\n",
       "      <th></th>\n",
       "      <th>backers_count</th>\n",
       "      <th>blurb</th>\n",
       "      <th>category</th>\n",
       "      <th>converted_pledged_amount</th>\n",
       "      <th>country</th>\n",
       "      <th>created_at</th>\n",
       "      <th>currency</th>\n",
       "      <th>deadline</th>\n",
       "      <th>disable_communication</th>\n",
       "      <th>goal</th>\n",
       "      <th>id</th>\n",
       "      <th>is_starrable</th>\n",
       "      <th>launched_at</th>\n",
       "      <th>name</th>\n",
       "      <th>slug</th>\n",
       "      <th>source_url</th>\n",
       "      <th>spotlight</th>\n",
       "      <th>staff_pick</th>\n",
       "      <th>state</th>\n",
       "      <th>state_changed_at</th>\n",
       "    </tr>\n",
       "  </thead>\n",
       "  <tbody>\n",
       "    <tr>\n",
       "      <th>0</th>\n",
       "      <td>31</td>\n",
       "      <td>Un livre enfant pour l’apprentissage des émoti...</td>\n",
       "      <td>{\"id\":46,\"name\":\"Children's Books\",\"slug\":\"pub...</td>\n",
       "      <td>709</td>\n",
       "      <td>FR</td>\n",
       "      <td>1561554849</td>\n",
       "      <td>EUR</td>\n",
       "      <td>1566744397</td>\n",
       "      <td>false</td>\n",
       "      <td>600</td>\n",
       "      <td>1458932991</td>\n",
       "      <td>false</td>\n",
       "      <td>1561560397</td>\n",
       "      <td>Louli à l’école</td>\n",
       "      <td>louli-a-lecole</td>\n",
       "      <td>https://www.kickstarter.com/discover/categorie...</td>\n",
       "      <td>true</td>\n",
       "      <td>false</td>\n",
       "      <td>successful</td>\n",
       "      <td>1566744397</td>\n",
       "    </tr>\n",
       "  </tbody>\n",
       "</table>\n",
       "</div>"
      ],
      "text/plain": [
       "  backers_count                                              blurb  \\\n",
       "0            31  Un livre enfant pour l’apprentissage des émoti...   \n",
       "\n",
       "                                            category converted_pledged_amount  \\\n",
       "0  {\"id\":46,\"name\":\"Children's Books\",\"slug\":\"pub...                      709   \n",
       "\n",
       "  country  created_at currency    deadline disable_communication goal  \\\n",
       "0      FR  1561554849      EUR  1566744397                 false  600   \n",
       "\n",
       "           id is_starrable launched_at             name            slug  \\\n",
       "0  1458932991        false  1561560397  Louli à l’école  louli-a-lecole   \n",
       "\n",
       "                                          source_url spotlight staff_pick  \\\n",
       "0  https://www.kickstarter.com/discover/categorie...      true      false   \n",
       "\n",
       "        state state_changed_at  \n",
       "0  successful       1566744397  "
      ]
     },
     "execution_count": 130,
     "metadata": {},
     "output_type": "execute_result"
    }
   ],
   "source": [
    "#remove duplicated header rows (should expect 57 less rows)\n",
    "cleaned_df = kickstarter_df[kickstarter_df['country'] != 'country']\n",
    "\n",
    "#reset index for cleaned_df\n",
    "cleaned_df.reset_index(drop=True, inplace=True)\n",
    "\n",
    "#check datatypes\n",
    "print(kickstarter_df.dtypes)\n",
    "print(cleaned_df.shape)\n",
    "cleaned_df.head(1)"
   ]
  },
  {
   "cell_type": "markdown",
   "metadata": {},
   "source": [
    "### b) Changing data-types \n",
    "##### Possible error"
   ]
  },
  {
   "cell_type": "code",
   "execution_count": 131,
   "metadata": {},
   "outputs": [
    {
     "data": {
      "text/html": [
       "<div>\n",
       "<style scoped>\n",
       "    .dataframe tbody tr th:only-of-type {\n",
       "        vertical-align: middle;\n",
       "    }\n",
       "\n",
       "    .dataframe tbody tr th {\n",
       "        vertical-align: top;\n",
       "    }\n",
       "\n",
       "    .dataframe thead th {\n",
       "        text-align: right;\n",
       "    }\n",
       "</style>\n",
       "<table border=\"1\" class=\"dataframe\">\n",
       "  <thead>\n",
       "    <tr style=\"text-align: right;\">\n",
       "      <th></th>\n",
       "      <th>backers_count</th>\n",
       "      <th>blurb</th>\n",
       "      <th>category</th>\n",
       "      <th>converted_pledged_amount</th>\n",
       "      <th>country</th>\n",
       "      <th>created_at</th>\n",
       "      <th>currency</th>\n",
       "      <th>deadline</th>\n",
       "      <th>disable_communication</th>\n",
       "      <th>goal</th>\n",
       "      <th>id</th>\n",
       "      <th>is_starrable</th>\n",
       "      <th>launched_at</th>\n",
       "      <th>name</th>\n",
       "      <th>slug</th>\n",
       "      <th>source_url</th>\n",
       "      <th>spotlight</th>\n",
       "      <th>staff_pick</th>\n",
       "      <th>state</th>\n",
       "      <th>state_changed_at</th>\n",
       "    </tr>\n",
       "  </thead>\n",
       "  <tbody>\n",
       "    <tr>\n",
       "      <th>215800</th>\n",
       "      <td>\u001a</td>\n",
       "      <td>NaN</td>\n",
       "      <td>NaN</td>\n",
       "      <td>NaN</td>\n",
       "      <td>NaN</td>\n",
       "      <td>NaN</td>\n",
       "      <td>NaN</td>\n",
       "      <td>NaN</td>\n",
       "      <td>NaN</td>\n",
       "      <td>NaN</td>\n",
       "      <td>NaN</td>\n",
       "      <td>NaN</td>\n",
       "      <td>NaN</td>\n",
       "      <td>NaN</td>\n",
       "      <td>NaN</td>\n",
       "      <td>NaN</td>\n",
       "      <td>NaN</td>\n",
       "      <td>NaN</td>\n",
       "      <td>NaN</td>\n",
       "      <td>NaN</td>\n",
       "    </tr>\n",
       "  </tbody>\n",
       "</table>\n",
       "</div>"
      ],
      "text/plain": [
       "       backers_count blurb category converted_pledged_amount country  \\\n",
       "215800             \u001a   NaN      NaN                      NaN     NaN   \n",
       "\n",
       "       created_at currency deadline disable_communication goal   id  \\\n",
       "215800        NaN      NaN      NaN                   NaN  NaN  NaN   \n",
       "\n",
       "       is_starrable launched_at name slug source_url spotlight staff_pick  \\\n",
       "215800          NaN         NaN  NaN  NaN        NaN       NaN        NaN   \n",
       "\n",
       "       state state_changed_at  \n",
       "215800   NaN              NaN  "
      ]
     },
     "execution_count": 131,
     "metadata": {},
     "output_type": "execute_result"
    }
   ],
   "source": [
    "#error was encountered for 'backers_count' - the following includes troubleshooting\n",
    "\n",
    "                #cleaned_df['backers_count'] = cleaned_df['backers_count'].astype('int64')\n",
    "                #ValueError: invalid literal for int() with base 10: '\\x1a'\n",
    "\n",
    "#find '\\x1a'\n",
    "\n",
    "ValueError = cleaned_df.loc[cleaned_df['backers_count'] == '\\x1a']\n",
    "ValueError\n"
   ]
  },
  {
   "cell_type": "code",
   "execution_count": 132,
   "metadata": {},
   "outputs": [
    {
     "name": "stderr",
     "output_type": "stream",
     "text": [
      "C:\\ProgramData\\Anaconda3\\lib\\site-packages\\pandas\\core\\frame.py:3697: SettingWithCopyWarning: \n",
      "A value is trying to be set on a copy of a slice from a DataFrame\n",
      "\n",
      "See the caveats in the documentation: http://pandas.pydata.org/pandas-docs/stable/indexing.html#indexing-view-versus-copy\n",
      "  errors=errors)\n"
     ]
    },
    {
     "data": {
      "text/html": [
       "<div>\n",
       "<style scoped>\n",
       "    .dataframe tbody tr th:only-of-type {\n",
       "        vertical-align: middle;\n",
       "    }\n",
       "\n",
       "    .dataframe tbody tr th {\n",
       "        vertical-align: top;\n",
       "    }\n",
       "\n",
       "    .dataframe thead th {\n",
       "        text-align: right;\n",
       "    }\n",
       "</style>\n",
       "<table border=\"1\" class=\"dataframe\">\n",
       "  <thead>\n",
       "    <tr style=\"text-align: right;\">\n",
       "      <th></th>\n",
       "      <th>backers_count</th>\n",
       "      <th>blurb</th>\n",
       "      <th>category</th>\n",
       "      <th>converted_pledged_amount</th>\n",
       "      <th>country</th>\n",
       "      <th>created_at</th>\n",
       "      <th>currency</th>\n",
       "      <th>deadline</th>\n",
       "      <th>disable_communication</th>\n",
       "      <th>goal</th>\n",
       "      <th>id</th>\n",
       "      <th>is_starrable</th>\n",
       "      <th>launched_at</th>\n",
       "      <th>name</th>\n",
       "      <th>slug</th>\n",
       "      <th>source_url</th>\n",
       "      <th>spotlight</th>\n",
       "      <th>staff_pick</th>\n",
       "      <th>state</th>\n",
       "      <th>state_changed_at</th>\n",
       "    </tr>\n",
       "  </thead>\n",
       "  <tbody>\n",
       "    <tr>\n",
       "      <th>215798</th>\n",
       "      <td>0</td>\n",
       "      <td>Looking to expand my pumpkin roll sales to a m...</td>\n",
       "      <td>{\"id\":311,\"name\":\"Food Trucks\",\"slug\":\"food/fo...</td>\n",
       "      <td>0.0</td>\n",
       "      <td>US</td>\n",
       "      <td>1404858909.0</td>\n",
       "      <td>USD</td>\n",
       "      <td>1409524500.0</td>\n",
       "      <td>False</td>\n",
       "      <td>20000.0</td>\n",
       "      <td>1520160677.0</td>\n",
       "      <td>False</td>\n",
       "      <td>1405972895.0</td>\n",
       "      <td>The Pumpkin Roll Express/Mean Bean Cafe Express</td>\n",
       "      <td>the-pumpkin-roll-express-mean-bean-cafe-express</td>\n",
       "      <td>https://www.kickstarter.com/discover/categorie...</td>\n",
       "      <td>False</td>\n",
       "      <td>False</td>\n",
       "      <td>failed</td>\n",
       "      <td>1409524500.0</td>\n",
       "    </tr>\n",
       "    <tr>\n",
       "      <th>215799</th>\n",
       "      <td>6</td>\n",
       "      <td>All-electric mobile farm stand for transportin...</td>\n",
       "      <td>{\"id\":310,\"name\":\"Farmer's Markets\",\"slug\":\"fo...</td>\n",
       "      <td>260.0</td>\n",
       "      <td>US</td>\n",
       "      <td>1370700777.0</td>\n",
       "      <td>USD</td>\n",
       "      <td>1428513606.0</td>\n",
       "      <td>False</td>\n",
       "      <td>19000.0</td>\n",
       "      <td>1022627018.0</td>\n",
       "      <td>False</td>\n",
       "      <td>1425921606.0</td>\n",
       "      <td>ECO-FRIENDLY MOBILE FARM STAND FOR URBAN FOOD ...</td>\n",
       "      <td>eco-friendly-mobile-farm-stand-for-urban-food-...</td>\n",
       "      <td>https://www.kickstarter.com/discover/categorie...</td>\n",
       "      <td>False</td>\n",
       "      <td>False</td>\n",
       "      <td>failed</td>\n",
       "      <td>1428513608.0</td>\n",
       "    </tr>\n",
       "  </tbody>\n",
       "</table>\n",
       "</div>"
      ],
      "text/plain": [
       "       backers_count                                              blurb  \\\n",
       "215798             0  Looking to expand my pumpkin roll sales to a m...   \n",
       "215799             6  All-electric mobile farm stand for transportin...   \n",
       "\n",
       "                                                 category  \\\n",
       "215798  {\"id\":311,\"name\":\"Food Trucks\",\"slug\":\"food/fo...   \n",
       "215799  {\"id\":310,\"name\":\"Farmer's Markets\",\"slug\":\"fo...   \n",
       "\n",
       "       converted_pledged_amount country    created_at currency      deadline  \\\n",
       "215798                      0.0      US  1404858909.0      USD  1409524500.0   \n",
       "215799                    260.0      US  1370700777.0      USD  1428513606.0   \n",
       "\n",
       "       disable_communication     goal            id is_starrable  \\\n",
       "215798                 False  20000.0  1520160677.0        False   \n",
       "215799                 False  19000.0  1022627018.0        False   \n",
       "\n",
       "         launched_at                                               name  \\\n",
       "215798  1405972895.0    The Pumpkin Roll Express/Mean Bean Cafe Express   \n",
       "215799  1425921606.0  ECO-FRIENDLY MOBILE FARM STAND FOR URBAN FOOD ...   \n",
       "\n",
       "                                                     slug  \\\n",
       "215798    the-pumpkin-roll-express-mean-bean-cafe-express   \n",
       "215799  eco-friendly-mobile-farm-stand-for-urban-food-...   \n",
       "\n",
       "                                               source_url spotlight  \\\n",
       "215798  https://www.kickstarter.com/discover/categorie...     False   \n",
       "215799  https://www.kickstarter.com/discover/categorie...     False   \n",
       "\n",
       "       staff_pick   state state_changed_at  \n",
       "215798      False  failed     1409524500.0  \n",
       "215799      False  failed     1428513608.0  "
      ]
     },
     "execution_count": 132,
     "metadata": {},
     "output_type": "execute_result"
    }
   ],
   "source": [
    "#seems like the last row of our original dataset had some corrupt data\n",
    "#remove last row\n",
    "\n",
    "cleaned_df.drop(cleaned_df.index[-1], inplace = True)\n",
    "cleaned_df.tail(2)"
   ]
  },
  {
   "cell_type": "markdown",
   "metadata": {},
   "source": [
    "##### Numeric data"
   ]
  },
  {
   "cell_type": "code",
   "execution_count": 133,
   "metadata": {},
   "outputs": [
    {
     "name": "stderr",
     "output_type": "stream",
     "text": [
      "C:\\ProgramData\\Anaconda3\\lib\\site-packages\\pandas\\core\\indexing.py:630: SettingWithCopyWarning: \n",
      "A value is trying to be set on a copy of a slice from a DataFrame.\n",
      "Try using .loc[row_indexer,col_indexer] = value instead\n",
      "\n",
      "See the caveats in the documentation: http://pandas.pydata.org/pandas-docs/stable/indexing.html#indexing-view-versus-copy\n",
      "  self.obj[item_labels[indexer[info_axis]]] = value\n",
      "C:\\ProgramData\\Anaconda3\\lib\\site-packages\\pandas\\core\\indexing.py:543: SettingWithCopyWarning: \n",
      "A value is trying to be set on a copy of a slice from a DataFrame.\n",
      "Try using .loc[row_indexer,col_indexer] = value instead\n",
      "\n",
      "See the caveats in the documentation: http://pandas.pydata.org/pandas-docs/stable/indexing.html#indexing-view-versus-copy\n",
      "  self.obj[item] = s\n"
     ]
    },
    {
     "name": "stdout",
     "output_type": "stream",
     "text": [
      "backers_count                int64\n",
      "blurb                       object\n",
      "category                    object\n",
      "converted_pledged_amount     int64\n",
      "country                     object\n",
      "created_at                  object\n",
      "currency                    object\n",
      "deadline                    object\n",
      "disable_communication       object\n",
      "goal                         int64\n",
      "id                           int64\n",
      "is_starrable                object\n",
      "launched_at                 object\n",
      "name                        object\n",
      "slug                        object\n",
      "source_url                  object\n",
      "spotlight                   object\n",
      "staff_pick                  object\n",
      "state                       object\n",
      "state_changed_at            object\n",
      "dtype: object\n"
     ]
    }
   ],
   "source": [
    "#change numeric data to int/float types\n",
    "cleaned_df.loc[:, 'backers_count'] = cleaned_df.loc[: , 'backers_count'].astype('float64').astype('int64')\n",
    "cleaned_df.loc[:, 'converted_pledged_amount'] = cleaned_df.loc[:, 'converted_pledged_amount'].astype('float64').astype('int64')\n",
    "cleaned_df.loc[:, 'goal'] = cleaned_df.loc[:, 'goal'].astype('float64').astype('int64')\n",
    "cleaned_df.loc[:, 'id'] = cleaned_df.loc[:, 'id'].astype('float64').astype('int64')\n",
    "\n",
    "print(cleaned_df.dtypes)"
   ]
  },
  {
   "cell_type": "markdown",
   "metadata": {},
   "source": [
    "##### Binary data (i-iv)\n",
    "    - multiple spellings of True/False exist"
   ]
  },
  {
   "cell_type": "markdown",
   "metadata": {},
   "source": [
    "##### i) 'disable_communication' column"
   ]
  },
  {
   "cell_type": "code",
   "execution_count": 134,
   "metadata": {},
   "outputs": [
    {
     "name": "stdout",
     "output_type": "stream",
     "text": [
      "['false' 'true' 'False' 'True']\n",
      "\n",
      "\n",
      "# of False\n",
      "count    2860\n",
      "Name: disable_communication, dtype: int64\n",
      "# of false\n",
      "count    212292\n",
      "Name: disable_communication, dtype: int64\n",
      "# of True\n",
      "count    5\n",
      "Name: disable_communication, dtype: int64\n",
      "# of true\n",
      "count    643\n",
      "Name: disable_communication, dtype: int64\n"
     ]
    }
   ],
   "source": [
    "print(cleaned_df.disable_communication.unique())\n",
    "print('\\n')\n",
    "print('# of False')\n",
    "print(cleaned_df.loc[cleaned_df['disable_communication']=='False','disable_communication'].agg(['count']))\n",
    "print('# of false')\n",
    "print(cleaned_df.loc[cleaned_df['disable_communication']=='false','disable_communication'].agg(['count']))\n",
    "print('# of True')\n",
    "print(cleaned_df.loc[cleaned_df['disable_communication']=='True','disable_communication'].agg(['count']))\n",
    "print('# of true')\n",
    "print(cleaned_df.loc[cleaned_df['disable_communication']=='true','disable_communication'].agg(['count']))"
   ]
  },
  {
   "cell_type": "code",
   "execution_count": 135,
   "metadata": {},
   "outputs": [
    {
     "name": "stdout",
     "output_type": "stream",
     "text": [
      "# of true\n",
      "count    648\n",
      "Name: disable_communication, dtype: int64\n"
     ]
    },
    {
     "name": "stderr",
     "output_type": "stream",
     "text": [
      "C:\\ProgramData\\Anaconda3\\lib\\site-packages\\pandas\\core\\generic.py:5890: SettingWithCopyWarning: \n",
      "A value is trying to be set on a copy of a slice from a DataFrame\n",
      "\n",
      "See the caveats in the documentation: http://pandas.pydata.org/pandas-docs/stable/indexing.html#indexing-view-versus-copy\n",
      "  self._update_inplace(new_data)\n"
     ]
    }
   ],
   "source": [
    "#replace True/true & False/false with 1 & 0\n",
    "\n",
    "cleaned_df.disable_communication.replace(['True', 'False'], [1, 0], inplace=True)\n",
    "cleaned_df.disable_communication.replace(['true', 'false'], [1, 0], inplace=True)\n",
    "\n",
    "#check unique counts again (count of 1 should == 648)\n",
    "\n",
    "print('# of true')\n",
    "print(cleaned_df.loc[cleaned_df['disable_communication']==1,'disable_communication'].agg(['count']))"
   ]
  },
  {
   "cell_type": "markdown",
   "metadata": {},
   "source": [
    "##### ii) 'starrable' column"
   ]
  },
  {
   "cell_type": "code",
   "execution_count": 136,
   "metadata": {},
   "outputs": [
    {
     "name": "stdout",
     "output_type": "stream",
     "text": [
      "['false' 'true' 'False' 'True']\n",
      "\n",
      "\n",
      "# of False\n",
      "count    2796\n",
      "Name: is_starrable, dtype: int64\n",
      "# of false\n",
      "count    207449\n",
      "Name: is_starrable, dtype: int64\n",
      "# of True\n",
      "count    69\n",
      "Name: is_starrable, dtype: int64\n",
      "# of true\n",
      "count    5486\n",
      "Name: is_starrable, dtype: int64\n"
     ]
    }
   ],
   "source": [
    "print(cleaned_df.is_starrable.unique())\n",
    "print('\\n')\n",
    "print('# of False')\n",
    "print(cleaned_df.loc[cleaned_df['is_starrable']=='False','is_starrable'].agg(['count']))\n",
    "print('# of false')\n",
    "print(cleaned_df.loc[cleaned_df['is_starrable']=='false','is_starrable'].agg(['count']))\n",
    "print('# of True')\n",
    "print(cleaned_df.loc[cleaned_df['is_starrable']=='True','is_starrable'].agg(['count']))\n",
    "print('# of true')\n",
    "print(cleaned_df.loc[cleaned_df['is_starrable']=='true','is_starrable'].agg(['count']))"
   ]
  },
  {
   "cell_type": "code",
   "execution_count": 137,
   "metadata": {},
   "outputs": [
    {
     "name": "stdout",
     "output_type": "stream",
     "text": [
      "# of true\n",
      "count    5555\n",
      "Name: is_starrable, dtype: int64\n"
     ]
    }
   ],
   "source": [
    "#replace True/true & False/false with 1 & 0\n",
    "\n",
    "cleaned_df.is_starrable.replace(['True', 'False'], [1, 0], inplace=True)\n",
    "cleaned_df.is_starrable.replace(['true', 'false'], [1, 0], inplace=True)\n",
    "\n",
    "#check unique counts again (count of 1 should == 5555)\n",
    "\n",
    "print('# of true')\n",
    "print(cleaned_df.loc[cleaned_df['is_starrable']==1,'is_starrable'].agg(['count']))"
   ]
  },
  {
   "cell_type": "markdown",
   "metadata": {},
   "source": [
    "##### iii) 'spotlight' column"
   ]
  },
  {
   "cell_type": "code",
   "execution_count": 138,
   "metadata": {},
   "outputs": [
    {
     "name": "stdout",
     "output_type": "stream",
     "text": [
      "['true' 'false' 'True' 'False']\n",
      "\n",
      "\n",
      "# of False\n",
      "count    1210\n",
      "Name: spotlight, dtype: int64\n",
      "# of false\n",
      "count    90318\n",
      "Name: spotlight, dtype: int64\n",
      "# of True\n",
      "count    1655\n",
      "Name: spotlight, dtype: int64\n",
      "# of true\n",
      "count    122617\n",
      "Name: spotlight, dtype: int64\n"
     ]
    }
   ],
   "source": [
    "#evaluate 'spotlight' column\n",
    "#multiple spellings of True/False exist\n",
    "\n",
    "print(cleaned_df.spotlight.unique())\n",
    "print('\\n')\n",
    "print('# of False')\n",
    "print(cleaned_df.loc[cleaned_df['spotlight']=='False','spotlight'].agg(['count']))\n",
    "print('# of false')\n",
    "print(cleaned_df.loc[cleaned_df['spotlight']=='false','spotlight'].agg(['count']))\n",
    "print('# of True')\n",
    "print(cleaned_df.loc[cleaned_df['spotlight']=='True','spotlight'].agg(['count']))\n",
    "print('# of true')\n",
    "print(cleaned_df.loc[cleaned_df['spotlight']=='true','spotlight'].agg(['count']))"
   ]
  },
  {
   "cell_type": "code",
   "execution_count": 139,
   "metadata": {},
   "outputs": [
    {
     "name": "stdout",
     "output_type": "stream",
     "text": [
      "# of true\n",
      "count    124272\n",
      "Name: spotlight, dtype: int64\n"
     ]
    }
   ],
   "source": [
    "#replace True/true & False/false with 1 & 0\n",
    "\n",
    "cleaned_df.spotlight.replace(['True', 'False'], [1, 0], inplace=True)\n",
    "cleaned_df.spotlight.replace(['true', 'false'], [1, 0], inplace=True)\n",
    "\n",
    "#check unique counts again (count of 1 should == 124272)\n",
    "\n",
    "print('# of true')\n",
    "print(cleaned_df.loc[cleaned_df['spotlight']==1,'spotlight'].agg(['count']))"
   ]
  },
  {
   "cell_type": "markdown",
   "metadata": {},
   "source": [
    "##### iv) 'staff_pick' column"
   ]
  },
  {
   "cell_type": "code",
   "execution_count": 140,
   "metadata": {},
   "outputs": [
    {
     "name": "stdout",
     "output_type": "stream",
     "text": [
      "['false' 'true' 'False' 'True']\n",
      "\n",
      "\n",
      "# of False\n",
      "count    2456\n",
      "Name: staff_pick, dtype: int64\n",
      "# of false\n",
      "count    185411\n",
      "Name: staff_pick, dtype: int64\n",
      "# of True\n",
      "count    409\n",
      "Name: staff_pick, dtype: int64\n",
      "# of true\n",
      "count    27524\n",
      "Name: staff_pick, dtype: int64\n"
     ]
    }
   ],
   "source": [
    "#evaluate 'staff_pick' column\n",
    "#multiple spellings of True/False exist\n",
    "\n",
    "print(cleaned_df.staff_pick.unique())\n",
    "print('\\n')\n",
    "print('# of False')\n",
    "print(cleaned_df.loc[cleaned_df['staff_pick']=='False','staff_pick'].agg(['count']))\n",
    "print('# of false')\n",
    "print(cleaned_df.loc[cleaned_df['staff_pick']=='false','staff_pick'].agg(['count']))\n",
    "print('# of True')\n",
    "print(cleaned_df.loc[cleaned_df['staff_pick']=='True','staff_pick'].agg(['count']))\n",
    "print('# of true')\n",
    "print(cleaned_df.loc[cleaned_df['staff_pick']=='true','staff_pick'].agg(['count']))"
   ]
  },
  {
   "cell_type": "code",
   "execution_count": 141,
   "metadata": {},
   "outputs": [
    {
     "name": "stdout",
     "output_type": "stream",
     "text": [
      "# of true\n",
      "count    27933\n",
      "Name: staff_pick, dtype: int64\n"
     ]
    }
   ],
   "source": [
    "#replace True/true & False/false with 1 & 0\n",
    "\n",
    "cleaned_df.staff_pick.replace(['True', 'False'], [1, 0], inplace=True)\n",
    "cleaned_df.staff_pick.replace(['true', 'false'], [1, 0], inplace=True)\n",
    "\n",
    "#check unique counts again (count of 1 should == 27933)\n",
    "\n",
    "print('# of true')\n",
    "print(cleaned_df.loc[cleaned_df['staff_pick']==1,'staff_pick'].agg(['count']))"
   ]
  },
  {
   "cell_type": "markdown",
   "metadata": {},
   "source": [
    "##### Check data-types"
   ]
  },
  {
   "cell_type": "code",
   "execution_count": 142,
   "metadata": {},
   "outputs": [
    {
     "name": "stdout",
     "output_type": "stream",
     "text": [
      "backers_count                int64\n",
      "blurb                       object\n",
      "category                    object\n",
      "converted_pledged_amount     int64\n",
      "country                     object\n",
      "created_at                  object\n",
      "currency                    object\n",
      "deadline                    object\n",
      "disable_communication        int64\n",
      "goal                         int64\n",
      "id                           int64\n",
      "is_starrable                 int64\n",
      "launched_at                 object\n",
      "name                        object\n",
      "slug                        object\n",
      "source_url                  object\n",
      "spotlight                    int64\n",
      "staff_pick                   int64\n",
      "state                       object\n",
      "state_changed_at            object\n",
      "dtype: object\n"
     ]
    },
    {
     "data": {
      "text/html": [
       "<div>\n",
       "<style scoped>\n",
       "    .dataframe tbody tr th:only-of-type {\n",
       "        vertical-align: middle;\n",
       "    }\n",
       "\n",
       "    .dataframe tbody tr th {\n",
       "        vertical-align: top;\n",
       "    }\n",
       "\n",
       "    .dataframe thead th {\n",
       "        text-align: right;\n",
       "    }\n",
       "</style>\n",
       "<table border=\"1\" class=\"dataframe\">\n",
       "  <thead>\n",
       "    <tr style=\"text-align: right;\">\n",
       "      <th></th>\n",
       "      <th>backers_count</th>\n",
       "      <th>blurb</th>\n",
       "      <th>category</th>\n",
       "      <th>converted_pledged_amount</th>\n",
       "      <th>country</th>\n",
       "      <th>created_at</th>\n",
       "      <th>currency</th>\n",
       "      <th>deadline</th>\n",
       "      <th>disable_communication</th>\n",
       "      <th>goal</th>\n",
       "      <th>id</th>\n",
       "      <th>is_starrable</th>\n",
       "      <th>launched_at</th>\n",
       "      <th>name</th>\n",
       "      <th>slug</th>\n",
       "      <th>source_url</th>\n",
       "      <th>spotlight</th>\n",
       "      <th>staff_pick</th>\n",
       "      <th>state</th>\n",
       "      <th>state_changed_at</th>\n",
       "    </tr>\n",
       "  </thead>\n",
       "  <tbody>\n",
       "    <tr>\n",
       "      <th>0</th>\n",
       "      <td>31</td>\n",
       "      <td>Un livre enfant pour l’apprentissage des émoti...</td>\n",
       "      <td>{\"id\":46,\"name\":\"Children's Books\",\"slug\":\"pub...</td>\n",
       "      <td>709</td>\n",
       "      <td>FR</td>\n",
       "      <td>1561554849</td>\n",
       "      <td>EUR</td>\n",
       "      <td>1566744397</td>\n",
       "      <td>0</td>\n",
       "      <td>600</td>\n",
       "      <td>1458932991</td>\n",
       "      <td>0</td>\n",
       "      <td>1561560397</td>\n",
       "      <td>Louli à l’école</td>\n",
       "      <td>louli-a-lecole</td>\n",
       "      <td>https://www.kickstarter.com/discover/categorie...</td>\n",
       "      <td>1</td>\n",
       "      <td>0</td>\n",
       "      <td>successful</td>\n",
       "      <td>1566744397</td>\n",
       "    </tr>\n",
       "  </tbody>\n",
       "</table>\n",
       "</div>"
      ],
      "text/plain": [
       "   backers_count                                              blurb  \\\n",
       "0             31  Un livre enfant pour l’apprentissage des émoti...   \n",
       "\n",
       "                                            category  \\\n",
       "0  {\"id\":46,\"name\":\"Children's Books\",\"slug\":\"pub...   \n",
       "\n",
       "   converted_pledged_amount country  created_at currency    deadline  \\\n",
       "0                       709      FR  1561554849      EUR  1566744397   \n",
       "\n",
       "   disable_communication  goal          id  is_starrable launched_at  \\\n",
       "0                      0   600  1458932991             0  1561560397   \n",
       "\n",
       "              name            slug  \\\n",
       "0  Louli à l’école  louli-a-lecole   \n",
       "\n",
       "                                          source_url  spotlight  staff_pick  \\\n",
       "0  https://www.kickstarter.com/discover/categorie...          1           0   \n",
       "\n",
       "        state state_changed_at  \n",
       "0  successful       1566744397  "
      ]
     },
     "execution_count": 142,
     "metadata": {},
     "output_type": "execute_result"
    }
   ],
   "source": [
    "print(cleaned_df.dtypes)\n",
    "cleaned_df.head(1)"
   ]
  },
  {
   "cell_type": "markdown",
   "metadata": {},
   "source": [
    "##### Datetime data"
   ]
  },
  {
   "cell_type": "code",
   "execution_count": 143,
   "metadata": {},
   "outputs": [],
   "source": [
    "#convert unix-epoch columns to integer first\n",
    "\n",
    "cleaned_df.loc[:, 'created_at'] = cleaned_df.loc[:, 'created_at'].astype('float64').astype('int64')\n",
    "cleaned_df.loc[:, 'deadline'] = cleaned_df.loc[:, 'deadline'].astype('float64').astype('int64')\n",
    "cleaned_df.loc[:, 'launched_at'] = cleaned_df.loc[:, 'launched_at'].astype('float64').astype('int64')\n",
    "cleaned_df.loc[:, 'state_changed_at'] = cleaned_df.loc[:, 'state_changed_at'].astype('float64').astype('int64')"
   ]
  },
  {
   "cell_type": "code",
   "execution_count": 144,
   "metadata": {},
   "outputs": [
    {
     "name": "stdout",
     "output_type": "stream",
     "text": [
      "backers_count                        int64\n",
      "blurb                               object\n",
      "category                            object\n",
      "converted_pledged_amount             int64\n",
      "country                             object\n",
      "created_at                  datetime64[ns]\n",
      "currency                            object\n",
      "deadline                    datetime64[ns]\n",
      "disable_communication                int64\n",
      "goal                                 int64\n",
      "id                                   int64\n",
      "is_starrable                         int64\n",
      "launched_at                 datetime64[ns]\n",
      "name                                object\n",
      "slug                                object\n",
      "source_url                          object\n",
      "spotlight                            int64\n",
      "staff_pick                           int64\n",
      "state                               object\n",
      "state_changed_at            datetime64[ns]\n",
      "dtype: object\n"
     ]
    }
   ],
   "source": [
    "#cleaned_df.created_at = pd.to_datetime(cleaned_df.created_at, unit='s')\n",
    "\n",
    "cleaned_df.loc[:, 'created_at'] = pd.to_datetime(cleaned_df.loc[:, 'created_at'],unit='s')\n",
    "cleaned_df.loc[:, 'deadline'] = pd.to_datetime(cleaned_df.loc[:, 'deadline'],unit='s')\n",
    "cleaned_df.loc[:, 'launched_at'] = pd.to_datetime(cleaned_df.loc[:, 'launched_at'],unit='s')\n",
    "cleaned_df.loc[:, 'state_changed_at'] = pd.to_datetime(cleaned_df.loc[:, 'state_changed_at'],unit='s')\n",
    "\n",
    "print(cleaned_df.dtypes)"
   ]
  },
  {
   "cell_type": "markdown",
   "metadata": {},
   "source": [
    "### c) Regex formatting"
   ]
  },
  {
   "cell_type": "code",
   "execution_count": 145,
   "metadata": {},
   "outputs": [
    {
     "name": "stdout",
     "output_type": "stream",
     "text": [
      "https://www.kickstarter.com/discover/categories/publishing\n",
      "\n",
      "\n",
      "{\"id\":46,\"name\":\"Children's Books\",\"slug\":\"publishing/children's books\",\"position\":5,\"parent_id\":18,\"color\":14867664,\"urls\":{\"web\":{\"discover\":\"http://www.kickstarter.com/discover/categories/publishing/children's%20books\"}}}\n"
     ]
    }
   ],
   "source": [
    "#print 'category' column, first row\n",
    "print(cleaned_df.loc[0,'source_url'])\n",
    "\n",
    "#print 'category' column, first row\n",
    "print('\\n')\n",
    "print(cleaned_df.loc[0,'category'])"
   ]
  },
  {
   "cell_type": "code",
   "execution_count": 146,
   "metadata": {},
   "outputs": [
    {
     "name": "stderr",
     "output_type": "stream",
     "text": [
      "C:\\ProgramData\\Anaconda3\\lib\\site-packages\\ipykernel_launcher.py:2: SettingWithCopyWarning: \n",
      "A value is trying to be set on a copy of a slice from a DataFrame.\n",
      "Try using .loc[row_indexer,col_indexer] = value instead\n",
      "\n",
      "See the caveats in the documentation: http://pandas.pydata.org/pandas-docs/stable/indexing.html#indexing-view-versus-copy\n",
      "  \n",
      "C:\\ProgramData\\Anaconda3\\lib\\site-packages\\ipykernel_launcher.py:5: SettingWithCopyWarning: \n",
      "A value is trying to be set on a copy of a slice from a DataFrame.\n",
      "Try using .loc[row_indexer,col_indexer] = value instead\n",
      "\n",
      "See the caveats in the documentation: http://pandas.pydata.org/pandas-docs/stable/indexing.html#indexing-view-versus-copy\n",
      "  \"\"\"\n"
     ]
    },
    {
     "data": {
      "text/plain": [
       "0           publishing\n",
       "1               comics\n",
       "2           technology\n",
       "3               comics\n",
       "4           publishing\n",
       "5     film%20&%20video\n",
       "6               design\n",
       "7           technology\n",
       "8               comics\n",
       "9     film%20&%20video\n",
       "10          publishing\n",
       "Name: subgenre, dtype: object"
      ]
     },
     "execution_count": 146,
     "metadata": {},
     "output_type": "execute_result"
    }
   ],
   "source": [
    "#use regex to extract category genres from 'category' column and store in a new column 'subgenre'\n",
    "cleaned_df['genre'] = cleaned_df.loc[:,'category'].str.extract(pat = '\\\"name\\\"\\:\\\"([^\\\"]+?)\\\"')\n",
    "\n",
    "#use regex to extract category genres from 'category' column and store in a new column 'genre'\n",
    "cleaned_df['subgenre'] = cleaned_df.loc[:,'source_url'].str.extract(pat = '\\/categories\\/([^\\/]+)')\n",
    "\n",
    "#new subgenre column has irregular formatting (film%20&%20video)\n",
    "cleaned_df.loc[:,'subgenre'].head(11)"
   ]
  },
  {
   "cell_type": "code",
   "execution_count": 147,
   "metadata": {},
   "outputs": [],
   "source": [
    "#search and replace film and video 'subgenre' column\n",
    "cleaned_df['subgenre'].replace(['film%20&%20video'], 'film',inplace=True)"
   ]
  },
  {
   "cell_type": "markdown",
   "metadata": {},
   "source": [
    "### d) Filtering data"
   ]
  },
  {
   "cell_type": "code",
   "execution_count": 148,
   "metadata": {},
   "outputs": [
    {
     "data": {
      "text/html": [
       "<div>\n",
       "<style scoped>\n",
       "    .dataframe tbody tr th:only-of-type {\n",
       "        vertical-align: middle;\n",
       "    }\n",
       "\n",
       "    .dataframe tbody tr th {\n",
       "        vertical-align: top;\n",
       "    }\n",
       "\n",
       "    .dataframe thead th {\n",
       "        text-align: right;\n",
       "    }\n",
       "</style>\n",
       "<table border=\"1\" class=\"dataframe\">\n",
       "  <thead>\n",
       "    <tr style=\"text-align: right;\">\n",
       "      <th></th>\n",
       "      <th>id</th>\n",
       "      <th>name</th>\n",
       "      <th>genre</th>\n",
       "      <th>subgenre</th>\n",
       "      <th>category</th>\n",
       "      <th>source_url</th>\n",
       "      <th>blurb</th>\n",
       "      <th>slug</th>\n",
       "      <th>goal</th>\n",
       "      <th>converted_pledged_amount</th>\n",
       "      <th>...</th>\n",
       "      <th>launched_at</th>\n",
       "      <th>deadline</th>\n",
       "      <th>country</th>\n",
       "      <th>currency</th>\n",
       "      <th>backers_count</th>\n",
       "      <th>disable_communication</th>\n",
       "      <th>is_starrable</th>\n",
       "      <th>spotlight</th>\n",
       "      <th>staff_pick</th>\n",
       "      <th>state</th>\n",
       "    </tr>\n",
       "  </thead>\n",
       "  <tbody>\n",
       "    <tr>\n",
       "      <th>0</th>\n",
       "      <td>1458932991</td>\n",
       "      <td>Louli à l’école</td>\n",
       "      <td>Children's Books</td>\n",
       "      <td>publishing</td>\n",
       "      <td>{\"id\":46,\"name\":\"Children's Books\",\"slug\":\"pub...</td>\n",
       "      <td>https://www.kickstarter.com/discover/categorie...</td>\n",
       "      <td>Un livre enfant pour l’apprentissage des émoti...</td>\n",
       "      <td>louli-a-lecole</td>\n",
       "      <td>600</td>\n",
       "      <td>709</td>\n",
       "      <td>...</td>\n",
       "      <td>2019-06-26 14:46:37</td>\n",
       "      <td>2019-08-25 14:46:37</td>\n",
       "      <td>FR</td>\n",
       "      <td>EUR</td>\n",
       "      <td>31</td>\n",
       "      <td>0</td>\n",
       "      <td>0</td>\n",
       "      <td>1</td>\n",
       "      <td>0</td>\n",
       "      <td>successful</td>\n",
       "    </tr>\n",
       "  </tbody>\n",
       "</table>\n",
       "<p>1 rows × 21 columns</p>\n",
       "</div>"
      ],
      "text/plain": [
       "           id             name             genre    subgenre  \\\n",
       "0  1458932991  Louli à l’école  Children's Books  publishing   \n",
       "\n",
       "                                            category  \\\n",
       "0  {\"id\":46,\"name\":\"Children's Books\",\"slug\":\"pub...   \n",
       "\n",
       "                                          source_url  \\\n",
       "0  https://www.kickstarter.com/discover/categorie...   \n",
       "\n",
       "                                               blurb            slug  goal  \\\n",
       "0  Un livre enfant pour l’apprentissage des émoti...  louli-a-lecole   600   \n",
       "\n",
       "   converted_pledged_amount     ...             launched_at  \\\n",
       "0                       709     ...     2019-06-26 14:46:37   \n",
       "\n",
       "             deadline country currency backers_count  disable_communication  \\\n",
       "0 2019-08-25 14:46:37      FR      EUR            31                      0   \n",
       "\n",
       "   is_starrable  spotlight  staff_pick       state  \n",
       "0             0          1           0  successful  \n",
       "\n",
       "[1 rows x 21 columns]"
      ]
     },
     "execution_count": 148,
     "metadata": {},
     "output_type": "execute_result"
    }
   ],
   "source": [
    "#drop column for redundancy\n",
    "cleaned_df.drop(['state_changed_at'], axis=1, inplace=True)\n",
    "\n",
    "\n",
    "#re-order columns in dataframe\n",
    "cleaned_df = cleaned_df[['id',\n",
    "                         'name',\n",
    "                         'genre',\n",
    "                         'subgenre',\n",
    "                         'category',\n",
    "                         'source_url',\n",
    "                         'blurb',\n",
    "                         'slug',\n",
    "                         'goal',\n",
    "                         'converted_pledged_amount',\n",
    "                         'created_at',\n",
    "                         'launched_at',\n",
    "                         'deadline',\n",
    "                         'country',\n",
    "                         'currency',\n",
    "                         'backers_count',\n",
    "                         'disable_communication',\n",
    "                         'is_starrable',\n",
    "                         'spotlight',\n",
    "                         'staff_pick',\n",
    "                         'state']]\n",
    "\n",
    "cleaned_df.head(1)"
   ]
  },
  {
   "cell_type": "code",
   "execution_count": 149,
   "metadata": {},
   "outputs": [
    {
     "name": "stdout",
     "output_type": "stream",
     "text": [
      "Countries\n",
      "['FR' 'US' 'GB' 'AU' 'ES' 'CA' 'IT' 'NL' 'MX' 'DE' 'HK' 'IE' 'BE' 'LU'\n",
      " 'SG' 'SE' 'JP' 'NZ' 'CH' 'DK' 'NO' 'AT']\n"
     ]
    }
   ],
   "source": [
    "#find unique values for countries\n",
    "print('Countries')\n",
    "print(cleaned_df.country.unique())"
   ]
  },
  {
   "cell_type": "code",
   "execution_count": 150,
   "metadata": {
    "scrolled": true
   },
   "outputs": [
    {
     "name": "stdout",
     "output_type": "stream",
     "text": [
      "(149564, 21)\n"
     ]
    },
    {
     "data": {
      "text/html": [
       "<div>\n",
       "<style scoped>\n",
       "    .dataframe tbody tr th:only-of-type {\n",
       "        vertical-align: middle;\n",
       "    }\n",
       "\n",
       "    .dataframe tbody tr th {\n",
       "        vertical-align: top;\n",
       "    }\n",
       "\n",
       "    .dataframe thead th {\n",
       "        text-align: right;\n",
       "    }\n",
       "</style>\n",
       "<table border=\"1\" class=\"dataframe\">\n",
       "  <thead>\n",
       "    <tr style=\"text-align: right;\">\n",
       "      <th></th>\n",
       "      <th>id</th>\n",
       "      <th>name</th>\n",
       "      <th>genre</th>\n",
       "      <th>subgenre</th>\n",
       "      <th>category</th>\n",
       "      <th>source_url</th>\n",
       "      <th>blurb</th>\n",
       "      <th>slug</th>\n",
       "      <th>goal</th>\n",
       "      <th>converted_pledged_amount</th>\n",
       "      <th>...</th>\n",
       "      <th>launched_at</th>\n",
       "      <th>deadline</th>\n",
       "      <th>country</th>\n",
       "      <th>currency</th>\n",
       "      <th>backers_count</th>\n",
       "      <th>disable_communication</th>\n",
       "      <th>is_starrable</th>\n",
       "      <th>spotlight</th>\n",
       "      <th>staff_pick</th>\n",
       "      <th>state</th>\n",
       "    </tr>\n",
       "  </thead>\n",
       "  <tbody>\n",
       "    <tr>\n",
       "      <th>0</th>\n",
       "      <td>498799566</td>\n",
       "      <td>Strange Wit, an original graphic novel about J...</td>\n",
       "      <td>Graphic Novels</td>\n",
       "      <td>comics</td>\n",
       "      <td>{\"id\":252,\"name\":\"Graphic Novels\",\"slug\":\"comi...</td>\n",
       "      <td>https://www.kickstarter.com/discover/categorie...</td>\n",
       "      <td>The true biography of the historical figure, w...</td>\n",
       "      <td>strange-wit-an-original-graphic-novel-about-ja...</td>\n",
       "      <td>12000</td>\n",
       "      <td>14740</td>\n",
       "      <td>...</td>\n",
       "      <td>2015-08-15 04:19:27</td>\n",
       "      <td>2015-09-14 04:19:27</td>\n",
       "      <td>US</td>\n",
       "      <td>USD</td>\n",
       "      <td>403</td>\n",
       "      <td>0</td>\n",
       "      <td>0</td>\n",
       "      <td>1</td>\n",
       "      <td>1</td>\n",
       "      <td>successful</td>\n",
       "    </tr>\n",
       "    <tr>\n",
       "      <th>1</th>\n",
       "      <td>621087138</td>\n",
       "      <td>Destiny, NY - FINAL HOURS!</td>\n",
       "      <td>Graphic Novels</td>\n",
       "      <td>comics</td>\n",
       "      <td>{\"id\":252,\"name\":\"Graphic Novels\",\"slug\":\"comi...</td>\n",
       "      <td>https://www.kickstarter.com/discover/categorie...</td>\n",
       "      <td>A graphic novel about two magical ladies in love.</td>\n",
       "      <td>destiny-ny-a-graphic-novel</td>\n",
       "      <td>20000</td>\n",
       "      <td>21799</td>\n",
       "      <td>...</td>\n",
       "      <td>2016-10-04 07:22:10</td>\n",
       "      <td>2016-11-03 00:00:00</td>\n",
       "      <td>US</td>\n",
       "      <td>USD</td>\n",
       "      <td>406</td>\n",
       "      <td>0</td>\n",
       "      <td>0</td>\n",
       "      <td>1</td>\n",
       "      <td>1</td>\n",
       "      <td>successful</td>\n",
       "    </tr>\n",
       "    <tr>\n",
       "      <th>2</th>\n",
       "      <td>1760442719</td>\n",
       "      <td>Publishing Magus Magazine</td>\n",
       "      <td>Periodicals</td>\n",
       "      <td>publishing</td>\n",
       "      <td>{\"id\":49,\"name\":\"Periodicals\",\"slug\":\"publishi...</td>\n",
       "      <td>https://www.kickstarter.com/discover/categorie...</td>\n",
       "      <td>We are publishing a magazine that focuses on t...</td>\n",
       "      <td>publishing-magus-magazine</td>\n",
       "      <td>5000</td>\n",
       "      <td>10</td>\n",
       "      <td>...</td>\n",
       "      <td>2011-09-04 17:04:28</td>\n",
       "      <td>2011-10-04 17:04:28</td>\n",
       "      <td>US</td>\n",
       "      <td>USD</td>\n",
       "      <td>1</td>\n",
       "      <td>0</td>\n",
       "      <td>0</td>\n",
       "      <td>0</td>\n",
       "      <td>0</td>\n",
       "      <td>failed</td>\n",
       "    </tr>\n",
       "    <tr>\n",
       "      <th>3</th>\n",
       "      <td>1526833653</td>\n",
       "      <td>Living Life Tiny</td>\n",
       "      <td>Architecture</td>\n",
       "      <td>design</td>\n",
       "      <td>{\"id\":258,\"name\":\"Architecture\",\"slug\":\"design...</td>\n",
       "      <td>https://www.kickstarter.com/discover/categorie...</td>\n",
       "      <td>Educating my community about self-sufficiency ...</td>\n",
       "      <td>living-life-tiny</td>\n",
       "      <td>500</td>\n",
       "      <td>577</td>\n",
       "      <td>...</td>\n",
       "      <td>2015-02-09 21:20:32</td>\n",
       "      <td>2015-03-11 20:20:32</td>\n",
       "      <td>US</td>\n",
       "      <td>USD</td>\n",
       "      <td>13</td>\n",
       "      <td>0</td>\n",
       "      <td>0</td>\n",
       "      <td>1</td>\n",
       "      <td>0</td>\n",
       "      <td>successful</td>\n",
       "    </tr>\n",
       "    <tr>\n",
       "      <th>4</th>\n",
       "      <td>1745759340</td>\n",
       "      <td>GP Live</td>\n",
       "      <td>Apps</td>\n",
       "      <td>technology</td>\n",
       "      <td>{\"id\":332,\"name\":\"Apps\",\"slug\":\"technology/app...</td>\n",
       "      <td>https://www.kickstarter.com/discover/categorie...</td>\n",
       "      <td>Rewarding you for all of the things you do and...</td>\n",
       "      <td>gp-live</td>\n",
       "      <td>30000</td>\n",
       "      <td>82</td>\n",
       "      <td>...</td>\n",
       "      <td>2019-08-11 21:56:19</td>\n",
       "      <td>2019-09-10 21:56:19</td>\n",
       "      <td>US</td>\n",
       "      <td>USD</td>\n",
       "      <td>5</td>\n",
       "      <td>0</td>\n",
       "      <td>0</td>\n",
       "      <td>0</td>\n",
       "      <td>0</td>\n",
       "      <td>failed</td>\n",
       "    </tr>\n",
       "  </tbody>\n",
       "</table>\n",
       "<p>5 rows × 21 columns</p>\n",
       "</div>"
      ],
      "text/plain": [
       "           id                                               name  \\\n",
       "0   498799566  Strange Wit, an original graphic novel about J...   \n",
       "1   621087138                         Destiny, NY - FINAL HOURS!   \n",
       "2  1760442719                          Publishing Magus Magazine   \n",
       "3  1526833653                                   Living Life Tiny   \n",
       "4  1745759340                                            GP Live   \n",
       "\n",
       "            genre    subgenre  \\\n",
       "0  Graphic Novels      comics   \n",
       "1  Graphic Novels      comics   \n",
       "2     Periodicals  publishing   \n",
       "3    Architecture      design   \n",
       "4            Apps  technology   \n",
       "\n",
       "                                            category  \\\n",
       "0  {\"id\":252,\"name\":\"Graphic Novels\",\"slug\":\"comi...   \n",
       "1  {\"id\":252,\"name\":\"Graphic Novels\",\"slug\":\"comi...   \n",
       "2  {\"id\":49,\"name\":\"Periodicals\",\"slug\":\"publishi...   \n",
       "3  {\"id\":258,\"name\":\"Architecture\",\"slug\":\"design...   \n",
       "4  {\"id\":332,\"name\":\"Apps\",\"slug\":\"technology/app...   \n",
       "\n",
       "                                          source_url  \\\n",
       "0  https://www.kickstarter.com/discover/categorie...   \n",
       "1  https://www.kickstarter.com/discover/categorie...   \n",
       "2  https://www.kickstarter.com/discover/categorie...   \n",
       "3  https://www.kickstarter.com/discover/categorie...   \n",
       "4  https://www.kickstarter.com/discover/categorie...   \n",
       "\n",
       "                                               blurb  \\\n",
       "0  The true biography of the historical figure, w...   \n",
       "1  A graphic novel about two magical ladies in love.   \n",
       "2  We are publishing a magazine that focuses on t...   \n",
       "3  Educating my community about self-sufficiency ...   \n",
       "4  Rewarding you for all of the things you do and...   \n",
       "\n",
       "                                                slug   goal  \\\n",
       "0  strange-wit-an-original-graphic-novel-about-ja...  12000   \n",
       "1                         destiny-ny-a-graphic-novel  20000   \n",
       "2                          publishing-magus-magazine   5000   \n",
       "3                                   living-life-tiny    500   \n",
       "4                                            gp-live  30000   \n",
       "\n",
       "   converted_pledged_amount     ...             launched_at  \\\n",
       "0                     14740     ...     2015-08-15 04:19:27   \n",
       "1                     21799     ...     2016-10-04 07:22:10   \n",
       "2                        10     ...     2011-09-04 17:04:28   \n",
       "3                       577     ...     2015-02-09 21:20:32   \n",
       "4                        82     ...     2019-08-11 21:56:19   \n",
       "\n",
       "             deadline country currency backers_count  disable_communication  \\\n",
       "0 2015-09-14 04:19:27      US      USD           403                      0   \n",
       "1 2016-11-03 00:00:00      US      USD           406                      0   \n",
       "2 2011-10-04 17:04:28      US      USD             1                      0   \n",
       "3 2015-03-11 20:20:32      US      USD            13                      0   \n",
       "4 2019-09-10 21:56:19      US      USD             5                      0   \n",
       "\n",
       "   is_starrable  spotlight  staff_pick       state  \n",
       "0             0          1           1  successful  \n",
       "1             0          1           1  successful  \n",
       "2             0          0           0      failed  \n",
       "3             0          1           0  successful  \n",
       "4             0          0           0      failed  \n",
       "\n",
       "[5 rows x 21 columns]"
      ]
     },
     "execution_count": 150,
     "metadata": {},
     "output_type": "execute_result"
    }
   ],
   "source": [
    "#filter for english speaking countries\n",
    "cleaned_df = cleaned_df.loc[cleaned_df['country'].isin(['US','CA'])]\n",
    "\n",
    "#filter for successful/failed campaigns\n",
    "cleaned_df = cleaned_df.loc[cleaned_df['state'].isin(['successful','failed'])]\n",
    "print(cleaned_df.shape)\n",
    "\n",
    "#reset index for cleaned_df\n",
    "cleaned_df.reset_index(drop=True,inplace=True)\n",
    "\n",
    "cleaned_df.head()"
   ]
  },
  {
   "cell_type": "markdown",
   "metadata": {},
   "source": [
    "### End of Step 2\n"
   ]
  },
  {
   "cell_type": "code",
   "execution_count": 151,
   "metadata": {},
   "outputs": [],
   "source": [
    "#write cleaned_df to a .csv\n",
    "cleaned_df.to_csv('cleaned_data.csv')"
   ]
  }
 ],
 "metadata": {
  "kernelspec": {
   "display_name": "Python 3",
   "language": "python",
   "name": "python3"
  },
  "language_info": {
   "codemirror_mode": {
    "name": "ipython",
    "version": 3
   },
   "file_extension": ".py",
   "mimetype": "text/x-python",
   "name": "python",
   "nbconvert_exporter": "python",
   "pygments_lexer": "ipython3",
   "version": "3.7.4"
  }
 },
 "nbformat": 4,
 "nbformat_minor": 2
}
